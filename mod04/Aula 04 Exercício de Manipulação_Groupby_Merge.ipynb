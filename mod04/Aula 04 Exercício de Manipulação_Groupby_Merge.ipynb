{
 "cells": [
  {
   "cell_type": "code",
   "execution_count": 15,
   "metadata": {},
   "outputs": [],
   "source": [
    "import pandas as pd"
   ]
  },
  {
   "cell_type": "markdown",
   "metadata": {},
   "source": [
    "## Exercícios"
   ]
  },
  {
   "cell_type": "markdown",
   "metadata": {},
   "source": [
    "1. Considere a existência de três tabelas distintas:\n",
    "* customer.csv : Possui a informação dos clientes em duas colunas: customer id  customer name\n",
    "* products.csv : Conté informação dos produtos vendidos pela empresa em três colunas - p_id (product id), product (name) e price\n",
    "* sales.csv : Contém informações das vendas realizadas em seis colunas - sale_id, c_id (customer id), p_id (product_id), qty (quantity sold), store (name)\n",
    "\n",
    "Conhecendo as bases e utilizando os métodos de concatenação de bases responda:\n"
   ]
  },
  {
   "cell_type": "markdown",
   "metadata": {},
   "source": [
    "a) Quais produtos não foram vendidos?"
   ]
  },
  {
   "cell_type": "code",
   "execution_count": null,
   "metadata": {},
   "outputs": [],
   "source": [
    "import pandas as pd \n",
    "sales = pd.read_csv(\"data/sales.csv\") \n",
    "products = pd.read_csv(\"data/products.csv\") \n",
    "\n",
    "# Faz um merge priorizando as informações da tabela de produtos\n",
    "my_data = pd.merge(sales, products, on=['p_id','product'],how='right')\n",
    " \n",
    "# Seleciona todos as linhas em que o sale_id é nan\n",
    "my_data = my_data[my_data['sale_id'].isna()]\n",
    "\n",
    "# Seleciona os produtos que não foram vendidos\n",
    "print(my_data.loc[:,'product'])"
   ]
  },
  {
   "cell_type": "markdown",
   "metadata": {},
   "source": [
    "b) Quantos clientes não realizaram uma compra? "
   ]
  },
  {
   "cell_type": "code",
   "execution_count": null,
   "metadata": {},
   "outputs": [],
   "source": [
    "customers = pd.read_csv(\"data/customer.csv\") \n",
    "\n",
    "# Faz um merge priorizando as informações da tabela de customers\n",
    "my_data = pd.merge(sales, customers, on='c_id', how='right')\n",
    "\n",
    "# Seleciona todos as linhas em que o sale_id é nan\n",
    "my_data = my_data[my_data['sale_id'].isna()] \n",
    "\n",
    "# Seleciona os clientes que não realizaram compras\n",
    "print(my_data.loc[:,'Customer']) "
   ]
  },
  {
   "cell_type": "markdown",
   "metadata": {},
   "source": [
    "c) Liste a quantidade vendida e o faturamento de cada produto "
   ]
  },
  {
   "cell_type": "code",
   "execution_count": null,
   "metadata": {},
   "outputs": [],
   "source": [
    "my_sum=pd.merge(sales, products, how='left', on=['p_id','product'])\n",
    "\n",
    "# Calcula valor total de cada sale_id\n",
    "my_sum['total_sale'] = my_sum['qty']*my_sum['price']\n",
    "\n",
    "# Agrupa por produto e soma a quantidade vendida e o valor total da compra\n",
    "my_sum.groupby(['product'])[['qty', 'total_sale']].sum()"
   ]
  },
  {
   "cell_type": "markdown",
   "metadata": {},
   "source": [
    "d) Liste a quantidade vendida de cada produto por loja"
   ]
  },
  {
   "cell_type": "code",
   "execution_count": null,
   "metadata": {},
   "outputs": [],
   "source": [
    "my_sale = sales.groupby(['product','p_id', 'store'])[['qty']].sum().reset_index()\n",
    "my_sale"
   ]
  },
  {
   "cell_type": "markdown",
   "metadata": {},
   "source": [
    "e) Qual loja teve maior faturamento?"
   ]
  },
  {
   "cell_type": "code",
   "execution_count": null,
   "metadata": {},
   "outputs": [],
   "source": [
    "my_sum.groupby(['store'])[['total_sale']].sum().sort_values('total_sale').tail(1)"
   ]
  },
  {
   "cell_type": "markdown",
   "metadata": {},
   "source": [
    "f) Qual produto foi o mais vendido?"
   ]
  },
  {
   "cell_type": "code",
   "execution_count": null,
   "metadata": {},
   "outputs": [],
   "source": [
    "my_sum.groupby(['product'])[['qty']].sum().sort_values('qty').tail(1)"
   ]
  },
  {
   "cell_type": "markdown",
   "metadata": {},
   "source": [
    "## Referências\n",
    "https://pandas.pydata.org/docs/user_guide/groupby.html <br>\n",
    "https://pandas.pydata.org/docs/user_guide/merging.html <br> \n",
    "https://towardsdatascience.com/python-pandas-dataframe-join-merge-and-concatenate-84985c29ef78 <br>\n",
    "[When to use pandas transform function](https://towardsdatascience.com/when-to-use-pandas-transform-function-df8861aa0dcf) <br>\n",
    "[Compara a performance entre várias formas de iterar em um df. Vai desde o for até apply e transform](https://youtu.be/rsyvErL0Bo8) <br>"
   ]
  },
  {
   "cell_type": "markdown",
   "metadata": {},
   "source": [
    "## Material extra"
   ]
  },
  {
   "cell_type": "markdown",
   "metadata": {},
   "source": [
    "### Outros parâmetros do groupby por default\n",
    "* as_index\n",
    "* sort\n",
    "* dropna # exclui nans nas keys\n",
    "\n",
    "<br> Em todas o default do python é True <br>\n",
    "df.groupby('Pclass', sort=False)[\"Fare\"].mean()"
   ]
  },
  {
   "cell_type": "code",
   "execution_count": null,
   "metadata": {},
   "outputs": [],
   "source": [
    "# dropna\n",
    "df_list = [[1, 2, 3], [1, None, 4], [2, 1, 3], [1, 2, 2]]\n",
    "df_dropna = pd.DataFrame(df_list, columns=[\"a\", \"b\", \"c\"])\n",
    "df_dropna"
   ]
  },
  {
   "cell_type": "code",
   "execution_count": null,
   "metadata": {},
   "outputs": [],
   "source": [
    "# Default ``dropna`` is set to True, which will exclude NaNs in keys\n",
    "df_dropna.groupby(by=[\"b\"], dropna=True).sum()"
   ]
  },
  {
   "cell_type": "code",
   "execution_count": null,
   "metadata": {},
   "outputs": [],
   "source": [
    "df_dropna.groupby(by=[\"b\"], dropna=False).sum()"
   ]
  },
  {
   "cell_type": "markdown",
   "metadata": {},
   "source": [
    "Repare que podemos chamar qualquer função do `pd.Series` ou  do `numpy`"
   ]
  },
  {
   "cell_type": "code",
   "execution_count": null,
   "metadata": {},
   "outputs": [],
   "source": [
    "df.groupby([\"Survived\"]).mean()"
   ]
  },
  {
   "cell_type": "markdown",
   "metadata": {},
   "source": [
    "### Função Lambda\n",
    "Uma função lambda nada mais é que uma **forma alternativa de declarar uma função**, de um jeito mais direto"
   ]
  },
  {
   "cell_type": "code",
   "execution_count": null,
   "metadata": {},
   "outputs": [],
   "source": [
    "# função que retorna o dobro de um número usando def\n",
    "def dobro(x):\n",
    "    \n",
    "    return 2*x\n",
    "\n",
    "dobro(2)"
   ]
  },
  {
   "cell_type": "code",
   "execution_count": null,
   "metadata": {},
   "outputs": [],
   "source": [
    "# função que retorna o dobro de um número usando lambda x\n",
    "faz_dobro = lambda x: 2*x"
   ]
  },
  {
   "cell_type": "code",
   "execution_count": null,
   "metadata": {},
   "outputs": [],
   "source": [
    "faz_dobro(6)"
   ]
  },
  {
   "cell_type": "markdown",
   "metadata": {},
   "source": [
    "### Apply\n",
    "O método `.apply()` recebe uma função como input e aplica ela para todo o df como se fosse um loop. Se você quiser que essa função seja aplicada ao longo das colunas deve considerar axis=0 e ao longo das linhas axis=1)"
   ]
  },
  {
   "cell_type": "code",
   "execution_count": null,
   "metadata": {
    "scrolled": true
   },
   "outputs": [],
   "source": [
    "df.groupby(['Pclass']).apply(lambda x: x.describe())"
   ]
  },
  {
   "cell_type": "markdown",
   "metadata": {},
   "source": [
    "Uma grande funcionalidade do pandas é que com o método `apply()` podemos aplicar uma **função** (muitas vezes, uma **função lambda**) a uma coluna ou linha de um DataFrame\n",
    "\n"
   ]
  },
  {
   "cell_type": "markdown",
   "metadata": {},
   "source": [
    "Vamos selecionar a coluna de idades..."
   ]
  },
  {
   "cell_type": "code",
   "execution_count": null,
   "metadata": {},
   "outputs": [],
   "source": [
    "df[\"Age\"]"
   ]
  },
  {
   "cell_type": "markdown",
   "metadata": {},
   "source": [
    "Aplicando uma função lambda **a todos os elementos da coluna**, ou seja, **à todas as linhas da tabela, daquela coluna específica**:"
   ]
  },
  {
   "cell_type": "markdown",
   "metadata": {},
   "source": [
    "Tomando cada idade + 2, usando a função lambda definida.\n",
    "\n",
    "Essa função lambda é equivalente a:\n",
    "\n",
    "```python\n",
    "\n",
    "def funcao(x):\n",
    "\n",
    "    return x + 2\n",
    "```"
   ]
  },
  {
   "cell_type": "code",
   "execution_count": null,
   "metadata": {},
   "outputs": [],
   "source": [
    "df[\"Age\"].apply(lambda x: x + 2)"
   ]
  },
  {
   "cell_type": "code",
   "execution_count": null,
   "metadata": {},
   "outputs": [],
   "source": [
    "def funcao(x):\n",
    "    return x + 2\n",
    "\n",
    "df.Age.apply(funcao)"
   ]
  },
  {
   "cell_type": "code",
   "execution_count": null,
   "metadata": {},
   "outputs": [],
   "source": [
    "df.Age.transform(funcao)"
   ]
  },
  {
   "cell_type": "markdown",
   "metadata": {},
   "source": [
    "Um outro exemplo:"
   ]
  },
  {
   "cell_type": "code",
   "execution_count": null,
   "metadata": {},
   "outputs": [],
   "source": [
    "# função: transforma todos os números em string, e concatena \"!!!!!!!!!\" à string\n",
    "df[\"Age\"].apply(lambda x: str(x) + \"!!!!!!!!!\")"
   ]
  },
  {
   "cell_type": "markdown",
   "metadata": {},
   "source": [
    "Vamos usar uma função lambda para **extrair o sobrenome** dos nomes dos passageiros"
   ]
  },
  {
   "cell_type": "markdown",
   "metadata": {},
   "source": [
    "Pra extrarir o sobrenome, note que este está separada do resto do nome por vírgula.\n",
    "\n",
    "Para perceber isso, dê uma olhada na coluna de nomes:"
   ]
  },
  {
   "cell_type": "code",
   "execution_count": null,
   "metadata": {},
   "outputs": [],
   "source": [
    "df[\"Name\"]"
   ]
  },
  {
   "cell_type": "markdown",
   "metadata": {},
   "source": [
    "Portanto, podemos usar a função para strings `split(\",\")`, com quebra na vírgula, e depois selecionar o primeiro elemento da lista gerada!\n",
    "\n",
    "Vamos aproveitar e **criar uma nova coluna da base**, com os sobrenomes!"
   ]
  },
  {
   "cell_type": "code",
   "execution_count": null,
   "metadata": {},
   "outputs": [],
   "source": [
    "df[\"Surname\"] = df[\"Name\"].apply(lambda x: x.split(\",\")[0])"
   ]
  },
  {
   "cell_type": "code",
   "execution_count": null,
   "metadata": {},
   "outputs": [],
   "source": [
    "df[\"Surname\"]"
   ]
  },
  {
   "cell_type": "markdown",
   "metadata": {},
   "source": [
    "### Apply com funções"
   ]
  },
  {
   "cell_type": "markdown",
   "metadata": {},
   "source": [
    "E se quisessemos comparar o quanto cada passageiro pagou a mais ou a menos da média do Fare?"
   ]
  },
  {
   "cell_type": "code",
   "execution_count": null,
   "metadata": {},
   "outputs": [],
   "source": [
    "def f(group):\n",
    "    return pd.DataFrame({'Fare_original': group,\n",
    "                         'Fare_variacao': group - group.mean()})\n",
    "\n",
    "df[['Fare_original','Fare_variacao']] = df.groupby('Pclass')['Fare'].apply(f)"
   ]
  },
  {
   "cell_type": "code",
   "execution_count": null,
   "metadata": {
    "scrolled": true
   },
   "outputs": [],
   "source": [
    "df.head()"
   ]
  },
  {
   "cell_type": "markdown",
   "metadata": {},
   "source": [
    "#### Transform X Apply\n",
    "Com uma função de agregação o `.transform()` retorna um df que tem a mesma quantidade de linhas que o df original enquanto o `.apply` retorna o agregado por grupos."
   ]
  },
  {
   "cell_type": "markdown",
   "metadata": {},
   "source": [
    "### Filtros\n",
    "O filtro retorna apenas um subset do nosso df. Aqui podemos aplicar filtros mais elaborados do que os vistos na última aula. <br>\n",
    "Podemos, por exemplo, eliminar categorias do df que possuem apenas alguns elementos:"
   ]
  },
  {
   "cell_type": "code",
   "execution_count": null,
   "metadata": {},
   "outputs": [],
   "source": [
    "df.SibSp.value_counts()"
   ]
  },
  {
   "cell_type": "code",
   "execution_count": null,
   "metadata": {},
   "outputs": [],
   "source": [
    "df.shape"
   ]
  },
  {
   "cell_type": "code",
   "execution_count": null,
   "metadata": {},
   "outputs": [],
   "source": [
    "def filter_func(x):\n",
    "    return x['Fare'] - x.Fare_Mean < 100\n",
    "\n",
    "# df_filter = df.groupby(['SibSp']).filter(lambda x: filter_func(x))\n",
    "\n",
    "df_filter = df.groupby(['SibSp']).filter(lambda x: len(x) >20)\n",
    "df_filter.shape"
   ]
  },
  {
   "cell_type": "code",
   "execution_count": null,
   "metadata": {},
   "outputs": [],
   "source": [
    "df_filter.SibSp.value_counts()"
   ]
  },
  {
   "cell_type": "markdown",
   "metadata": {},
   "source": [
    "Vamos supor que antes de afundar o titanic, o time de hapiness quisesse promover uma jogatina para os grupos (segmentado por classe e sexo) que possuem idade média acima de 30 anos."
   ]
  },
  {
   "cell_type": "code",
   "execution_count": null,
   "metadata": {},
   "outputs": [],
   "source": [
    "df.groupby(['Pclass','Sex'])[['Age']].mean()"
   ]
  },
  {
   "cell_type": "markdown",
   "metadata": {},
   "source": [
    "como podemos filtrar nosso df para termos apenas os passageiros que pertecem a essas segmentações escolhidas?"
   ]
  },
  {
   "cell_type": "code",
   "execution_count": null,
   "metadata": {},
   "outputs": [],
   "source": [
    "df.groupby(['Pclass','Sex']).filter(lambda x: x['Age'].mean()>30)"
   ]
  }
 ],
 "metadata": {
  "kernelspec": {
   "display_name": "Python 3",
   "language": "python",
   "name": "python3"
  },
  "language_info": {
   "codemirror_mode": {
    "name": "ipython",
    "version": 3
   },
   "file_extension": ".py",
   "mimetype": "text/x-python",
   "name": "python",
   "nbconvert_exporter": "python",
   "pygments_lexer": "ipython3",
   "version": "3.8.8"
  }
 },
 "nbformat": 4,
 "nbformat_minor": 4
}
