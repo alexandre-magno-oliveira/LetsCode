{
 "cells": [
  {
   "cell_type": "markdown",
   "metadata": {
    "cell_id": "ebb23ae0-233f-4f25-b9b9-b093d89c7d30",
    "deepnote_cell_type": "markdown",
    "id": "9c8d795b"
   },
   "source": [
    "# **Análise Exploratória de Doenças Cardiovasculares**\n",
    "\n",
    "**Grupo 04** (Alexandre Oliveira, Philippe Sotero, Letícia Silva e Natália Mafra)\n",
    "\n",
    "## **1. Introdução**\n",
    "As doenças cardiovasculares são a principal causa de morte no mundo: mais pessoas morrem anualmente por essas enfermidades do que por qualquer outra causa. Estima-se que 17,9 milhões de pessoas morreram por doenças cardiovasculares em 2016, representando 31% de todas as mortes em nível global. Destes óbitos, estima-se que 85% ocorrem devido a ataques cardíacos e acidentes vasculares cerebrais (AVCs). Mais de três quartos das mortes por doenças cardiovasculares ocorrem em países de baixa e média renda. Das 17 milhões de mortes prematuras (pessoas com menos de 70 anos) por doenças crônicas não transmissíveis, 82% acontecem em países de baixa e média renda e 37% são causadas por doenças cardiovasculares. Fonte: https://www.paho.org/pt/topicos/doencas-cardiovasculares\n",
    "\n"
   ]
  },
  {
   "cell_type": "markdown",
   "metadata": {
    "cell_id": "a14ef9dd-53a5-4b4f-8fa1-aaee97c8fe28",
    "deepnote_cell_type": "markdown",
    "id": "c1b3332a",
    "tags": []
   },
   "source": [
    "<img src = \"images/cardiac-arrest-gdaebf3b52_1920.jpg\">"
   ]
  },
  {
   "cell_type": "markdown",
   "metadata": {
    "cell_id": "599ad960-c432-48bf-bb76-c6ae233b7bc3",
    "deepnote_cell_type": "markdown",
    "id": "0aa660b0",
    "tags": []
   },
   "source": [
    "## **2. Obtenção dos Dados**"
   ]
  },
  {
   "cell_type": "markdown",
   "metadata": {
    "cell_id": "614dc0fe-63d2-4570-b161-a1f7aa009c27",
    "deepnote_cell_type": "markdown",
    "id": "2e304ac2",
    "tags": []
   },
   "source": [
    "Este projeto desenvolve uma análise exploratória dos dados fornecidos pelo *UCI Heart Disease dataset*, disponível no link abaixo:\n",
    "https://www.kaggle.com/andrewmvd/heart-failure-clinical-data?select=heart_failure_clinical_records_dataset.csv"
   ]
  },
  {
   "cell_type": "markdown",
   "metadata": {
    "cell_id": "40bdcd0c-5692-439c-b232-78029b8170aa",
    "deepnote_cell_type": "markdown",
    "id": "16507180",
    "tags": []
   },
   "source": [
    "### **2.1 Importação das Bibliotecas**"
   ]
  },
  {
   "cell_type": "code",
   "execution_count": 1,
   "metadata": {
    "cell_id": "726e54c8-45d1-4f87-95fa-23abd488e8ed",
    "deepnote_cell_type": "code",
    "deepnote_to_be_reexecuted": false,
    "execution_millis": 4897,
    "execution_start": 1645480455660,
    "id": "983566a3",
    "source_hash": "4f8d3205",
    "tags": []
   },
   "outputs": [],
   "source": [
    "# Bibliotecas a serem utilizadas\n",
    "import pandas as pd\n",
    "import numpy as np\n",
    "import matplotlib.pyplot as plt\n",
    "import seaborn as sns\n",
    "import plotly.graph_objs as go\n",
    "from plotly.offline import init_notebook_mode, iplot\n",
    "import plotly.figure_factory as ff\n",
    "import plotly.express as px\n",
    "import warnings\n",
    "warnings.simplefilter(action='ignore', category=FutureWarning)\n",
    "\n",
    "# Padronização da exibição dos dados com o Pandas\n",
    "pd.options.display.float_format = '{:.2f}'.format"
   ]
  },
  {
   "cell_type": "markdown",
   "metadata": {
    "cell_id": "466f918e-bb5c-4fb8-96fc-52ee5dbad380",
    "deepnote_cell_type": "markdown",
    "id": "75d30888",
    "tags": []
   },
   "source": [
    "### **2.2 Importação do Dataset**"
   ]
  },
  {
   "cell_type": "code",
   "execution_count": 2,
   "metadata": {
    "cell_id": "f80f0832-f7a0-447d-bfeb-7fc287a37b8a",
    "deepnote_cell_type": "code",
    "deepnote_to_be_reexecuted": false,
    "execution_millis": 10,
    "execution_start": 1645480460568,
    "id": "46ba4138",
    "source_hash": "c252662f",
    "tags": []
   },
   "outputs": [],
   "source": [
    "# Base de dados disponível na pasta \"data\"\n",
    "df = pd.read_csv('data/heart_failure_clinical_records_dataset.csv')"
   ]
  },
  {
   "cell_type": "markdown",
   "metadata": {
    "cell_id": "00002-022f45f9-e11b-4751-80cb-1b1925c85d36",
    "deepnote_cell_type": "markdown",
    "id": "c0e2da77"
   },
   "source": [
    "## **3. Visão geral do conjunto de dados**"
   ]
  },
  {
   "cell_type": "code",
   "execution_count": 3,
   "metadata": {
    "cell_id": "d169e03f-0a43-4f1c-a14c-b0f07dabed02",
    "colab": {
     "base_uri": "https://localhost:8080/",
     "height": 270
    },
    "deepnote_cell_type": "code",
    "deepnote_to_be_reexecuted": false,
    "execution_millis": 75,
    "execution_start": 1645480460594,
    "id": "65291c89",
    "outputId": "549a4e14-0b7f-482d-acf9-1e5a998be3cc",
    "source_hash": "c5e88435",
    "tags": []
   },
   "outputs": [
    {
     "data": {
      "text/html": [
       "<div>\n",
       "<style scoped>\n",
       "    .dataframe tbody tr th:only-of-type {\n",
       "        vertical-align: middle;\n",
       "    }\n",
       "\n",
       "    .dataframe tbody tr th {\n",
       "        vertical-align: top;\n",
       "    }\n",
       "\n",
       "    .dataframe thead th {\n",
       "        text-align: right;\n",
       "    }\n",
       "</style>\n",
       "<table border=\"1\" class=\"dataframe\">\n",
       "  <thead>\n",
       "    <tr style=\"text-align: right;\">\n",
       "      <th></th>\n",
       "      <th>age</th>\n",
       "      <th>anaemia</th>\n",
       "      <th>creatinine_phosphokinase</th>\n",
       "      <th>diabetes</th>\n",
       "      <th>ejection_fraction</th>\n",
       "      <th>high_blood_pressure</th>\n",
       "      <th>platelets</th>\n",
       "      <th>serum_creatinine</th>\n",
       "      <th>serum_sodium</th>\n",
       "      <th>sex</th>\n",
       "      <th>smoking</th>\n",
       "      <th>time</th>\n",
       "      <th>DEATH_EVENT</th>\n",
       "    </tr>\n",
       "  </thead>\n",
       "  <tbody>\n",
       "    <tr>\n",
       "      <th>0</th>\n",
       "      <td>75.00</td>\n",
       "      <td>0</td>\n",
       "      <td>582</td>\n",
       "      <td>0</td>\n",
       "      <td>20</td>\n",
       "      <td>1</td>\n",
       "      <td>265000.00</td>\n",
       "      <td>1.90</td>\n",
       "      <td>130</td>\n",
       "      <td>1</td>\n",
       "      <td>0</td>\n",
       "      <td>4</td>\n",
       "      <td>1</td>\n",
       "    </tr>\n",
       "    <tr>\n",
       "      <th>1</th>\n",
       "      <td>55.00</td>\n",
       "      <td>0</td>\n",
       "      <td>7861</td>\n",
       "      <td>0</td>\n",
       "      <td>38</td>\n",
       "      <td>0</td>\n",
       "      <td>263358.03</td>\n",
       "      <td>1.10</td>\n",
       "      <td>136</td>\n",
       "      <td>1</td>\n",
       "      <td>0</td>\n",
       "      <td>6</td>\n",
       "      <td>1</td>\n",
       "    </tr>\n",
       "    <tr>\n",
       "      <th>2</th>\n",
       "      <td>65.00</td>\n",
       "      <td>0</td>\n",
       "      <td>146</td>\n",
       "      <td>0</td>\n",
       "      <td>20</td>\n",
       "      <td>0</td>\n",
       "      <td>162000.00</td>\n",
       "      <td>1.30</td>\n",
       "      <td>129</td>\n",
       "      <td>1</td>\n",
       "      <td>1</td>\n",
       "      <td>7</td>\n",
       "      <td>1</td>\n",
       "    </tr>\n",
       "    <tr>\n",
       "      <th>3</th>\n",
       "      <td>50.00</td>\n",
       "      <td>1</td>\n",
       "      <td>111</td>\n",
       "      <td>0</td>\n",
       "      <td>20</td>\n",
       "      <td>0</td>\n",
       "      <td>210000.00</td>\n",
       "      <td>1.90</td>\n",
       "      <td>137</td>\n",
       "      <td>1</td>\n",
       "      <td>0</td>\n",
       "      <td>7</td>\n",
       "      <td>1</td>\n",
       "    </tr>\n",
       "    <tr>\n",
       "      <th>4</th>\n",
       "      <td>65.00</td>\n",
       "      <td>1</td>\n",
       "      <td>160</td>\n",
       "      <td>1</td>\n",
       "      <td>20</td>\n",
       "      <td>0</td>\n",
       "      <td>327000.00</td>\n",
       "      <td>2.70</td>\n",
       "      <td>116</td>\n",
       "      <td>0</td>\n",
       "      <td>0</td>\n",
       "      <td>8</td>\n",
       "      <td>1</td>\n",
       "    </tr>\n",
       "  </tbody>\n",
       "</table>\n",
       "</div>"
      ],
      "text/plain": [
       "    age  anaemia  creatinine_phosphokinase  diabetes  ejection_fraction  \\\n",
       "0 75.00        0                       582         0                 20   \n",
       "1 55.00        0                      7861         0                 38   \n",
       "2 65.00        0                       146         0                 20   \n",
       "3 50.00        1                       111         0                 20   \n",
       "4 65.00        1                       160         1                 20   \n",
       "\n",
       "   high_blood_pressure  platelets  serum_creatinine  serum_sodium  sex  \\\n",
       "0                    1  265000.00              1.90           130    1   \n",
       "1                    0  263358.03              1.10           136    1   \n",
       "2                    0  162000.00              1.30           129    1   \n",
       "3                    0  210000.00              1.90           137    1   \n",
       "4                    0  327000.00              2.70           116    0   \n",
       "\n",
       "   smoking  time  DEATH_EVENT  \n",
       "0        0     4            1  \n",
       "1        0     6            1  \n",
       "2        1     7            1  \n",
       "3        0     7            1  \n",
       "4        0     8            1  "
      ]
     },
     "execution_count": 3,
     "metadata": {},
     "output_type": "execute_result"
    }
   ],
   "source": [
    "# Visão inicial do DataFrame a partir das 5 primeiras linhas\n",
    "\n",
    "df.head()"
   ]
  },
  {
   "cell_type": "markdown",
   "metadata": {
    "cell_id": "8d196b40-f51a-426f-81b8-05f835825f59",
    "deepnote_cell_type": "markdown",
    "id": "47256c72",
    "tags": []
   },
   "source": [
    "### **3.1 Dimensões do DataFrame**\n"
   ]
  },
  {
   "cell_type": "code",
   "execution_count": 4,
   "metadata": {
    "cell_id": "00003-b5a3f785-c7e5-43d9-9ed8-8023b49bd82e",
    "colab": {
     "base_uri": "https://localhost:8080/"
    },
    "deepnote_cell_type": "code",
    "deepnote_to_be_reexecuted": false,
    "execution_millis": 6,
    "execution_start": 1645480460682,
    "id": "04c74aad",
    "outputId": "94739698-6f95-4cc3-aa5e-7b928016e0d3",
    "source_hash": "539662d"
   },
   "outputs": [
    {
     "name": "stdout",
     "output_type": "stream",
     "text": [
      "Entradas:  299\n",
      "Variáveis:  13\n"
     ]
    }
   ],
   "source": [
    "print('Entradas: ', df.shape[0])\n",
    "print('Variáveis: ', df.shape[1])"
   ]
  },
  {
   "cell_type": "markdown",
   "metadata": {
    "cell_id": "c675835c-4692-4a02-b2f5-329126813ffd",
    "deepnote_cell_type": "markdown",
    "id": "657fc0b6",
    "tags": []
   },
   "source": [
    "### **3.2 Análise rápida do tipo de dados**"
   ]
  },
  {
   "cell_type": "code",
   "execution_count": 5,
   "metadata": {
    "cell_id": "00005-b9575030-91ec-4f6a-b641-b872b7790e08",
    "colab": {
     "base_uri": "https://localhost:8080/"
    },
    "deepnote_cell_type": "code",
    "deepnote_to_be_reexecuted": false,
    "execution_millis": 4,
    "execution_start": 1645480460752,
    "id": "d90637f1",
    "outputId": "617d379e-bde5-4ada-9b60-73b9960a8d5e",
    "source_hash": "de1e323c"
   },
   "outputs": [
    {
     "name": "stdout",
     "output_type": "stream",
     "text": [
      "<class 'pandas.core.frame.DataFrame'>\n",
      "RangeIndex: 299 entries, 0 to 298\n",
      "Data columns (total 13 columns):\n",
      " #   Column                    Non-Null Count  Dtype  \n",
      "---  ------                    --------------  -----  \n",
      " 0   age                       299 non-null    float64\n",
      " 1   anaemia                   299 non-null    int64  \n",
      " 2   creatinine_phosphokinase  299 non-null    int64  \n",
      " 3   diabetes                  299 non-null    int64  \n",
      " 4   ejection_fraction         299 non-null    int64  \n",
      " 5   high_blood_pressure       299 non-null    int64  \n",
      " 6   platelets                 299 non-null    float64\n",
      " 7   serum_creatinine          299 non-null    float64\n",
      " 8   serum_sodium              299 non-null    int64  \n",
      " 9   sex                       299 non-null    int64  \n",
      " 10  smoking                   299 non-null    int64  \n",
      " 11  time                      299 non-null    int64  \n",
      " 12  DEATH_EVENT               299 non-null    int64  \n",
      "dtypes: float64(3), int64(10)\n",
      "memory usage: 30.5 KB\n"
     ]
    }
   ],
   "source": [
    "df.info()"
   ]
  },
  {
   "cell_type": "markdown",
   "metadata": {
    "cell_id": "d6a1e7dd-8ed2-42aa-a298-bdee90f00d05",
    "deepnote_cell_type": "markdown",
    "id": "2f87d21c",
    "tags": []
   },
   "source": [
    "A partir dos dados obtidos acima com o método _.info_, observamos que:\n",
    "\n",
    "    1. Os nomes das colunas estão todos em inglês\n",
    "    2. Todas as células das 299 linhas estão preenchidas\n",
    "    3. Todas as colunas são do tipo inteiro ou float"
   ]
  },
  {
   "cell_type": "markdown",
   "metadata": {
    "cell_id": "00006-622b2039-88b6-4804-bf09-79e3e0ca81a7",
    "deepnote_cell_type": "markdown",
    "id": "dc347956"
   },
   "source": [
    "#### **3.2.1. Alterando os nomes das colunas**"
   ]
  },
  {
   "cell_type": "code",
   "execution_count": 6,
   "metadata": {
    "cell_id": "7538430c-7266-4658-976a-63d120e01801",
    "deepnote_cell_type": "code",
    "deepnote_to_be_reexecuted": false,
    "execution_millis": 1,
    "execution_start": 1645480460753,
    "id": "ae7ce6f6",
    "source_hash": "c3429157",
    "tags": []
   },
   "outputs": [],
   "source": [
    "# Para facilitar a manipulação, mudaremos os nomes das colunas para o português\n",
    "# Colocaremos também as iniciais em maiúsculas\n",
    "df.columns =['Idade', 'Anemia', 'Creatinafosfoquinase', 'Diabetes', \n",
    "            'Fracao_ejecao', 'Pressao_alta', 'Plaquetas', 'Creatinina_soro', \n",
    "            'Sodio_soro', 'Sexo', 'Fumante', 'Tempo', 'Morte']\n",
    "           "
   ]
  },
  {
   "cell_type": "code",
   "execution_count": 7,
   "metadata": {
    "cell_id": "00007-df7140ad-5945-4e9b-8a1c-6784bea6b518",
    "colab": {
     "base_uri": "https://localhost:8080/"
    },
    "deepnote_cell_type": "code",
    "deepnote_output_heights": [
     79
    ],
    "deepnote_to_be_reexecuted": false,
    "execution_millis": 0,
    "execution_start": 1645480460754,
    "id": "1d06520e",
    "outputId": "3d6a617b-b0ca-4f72-bfe1-f16026aadc02",
    "source_hash": "89182da5"
   },
   "outputs": [
    {
     "data": {
      "text/plain": [
       "Index(['Idade', 'Anemia', 'Creatinafosfoquinase', 'Diabetes', 'Fracao_ejecao',\n",
       "       'Pressao_alta', 'Plaquetas', 'Creatinina_soro', 'Sodio_soro', 'Sexo',\n",
       "       'Fumante', 'Tempo', 'Morte'],\n",
       "      dtype='object')"
      ]
     },
     "execution_count": 7,
     "metadata": {},
     "output_type": "execute_result"
    }
   ],
   "source": [
    "# Testando a alteração dos nomes das colunas:\n",
    "df.columns"
   ]
  },
  {
   "cell_type": "markdown",
   "metadata": {
    "cell_id": "00008-faee887d-e57d-4e18-8f5d-2ae521408cc4",
    "deepnote_cell_type": "markdown",
    "id": "b6a62f3d"
   },
   "source": [
    "#### **3.2.2. Confirmando a ausência de valores nulos**"
   ]
  },
  {
   "cell_type": "markdown",
   "metadata": {
    "cell_id": "00013-11d54e53-574e-4686-9edf-54a8cc364a0d",
    "deepnote_cell_type": "markdown",
    "id": "c761883c"
   },
   "source": [
    "Considerando que a base de dados contempla dados de 299 pacientes e que todas as colunas tem 299 células preenchidas, percebemos que **não há nenhum valor faltante, ou seja, nulo**.\n",
    "\n",
    "Essa conclusão pode ser confirmada pela aplicação do método .isnull() na base original, seguido do método .sum():"
   ]
  },
  {
   "cell_type": "code",
   "execution_count": 8,
   "metadata": {
    "cell_id": "00014-9f1c75e3-2985-45c2-86ed-07497836f7fe",
    "colab": {
     "base_uri": "https://localhost:8080/"
    },
    "deepnote_cell_type": "code",
    "deepnote_output_heights": [
     271
    ],
    "deepnote_to_be_reexecuted": false,
    "execution_millis": 3,
    "execution_start": 1645480460804,
    "id": "053f73c7",
    "outputId": "a5e024f0-f87f-4165-a326-b7ae8407553a",
    "source_hash": "f3dd26da"
   },
   "outputs": [
    {
     "data": {
      "text/plain": [
       "Idade                   0\n",
       "Anemia                  0\n",
       "Creatinafosfoquinase    0\n",
       "Diabetes                0\n",
       "Fracao_ejecao           0\n",
       "Pressao_alta            0\n",
       "Plaquetas               0\n",
       "Creatinina_soro         0\n",
       "Sodio_soro              0\n",
       "Sexo                    0\n",
       "Fumante                 0\n",
       "Tempo                   0\n",
       "Morte                   0\n",
       "dtype: int64"
      ]
     },
     "execution_count": 8,
     "metadata": {},
     "output_type": "execute_result"
    }
   ],
   "source": [
    "df.isnull().sum()"
   ]
  },
  {
   "cell_type": "markdown",
   "metadata": {
    "cell_id": "00017-ab966360-1519-440b-b62c-c90d876dc1f8",
    "deepnote_cell_type": "markdown",
    "id": "224a15dd"
   },
   "source": [
    "**Confirmada, portanto, a conclusão de que a base de dados não possui valores faltantes ou nulos.**"
   ]
  },
  {
   "cell_type": "markdown",
   "metadata": {
    "cell_id": "00018-6ad4dcf3-d814-4d94-a07d-9727ce2cdf45",
    "deepnote_cell_type": "markdown",
    "id": "904d858e"
   },
   "source": [
    "#### **3.2.3. Tipos de variáveis**"
   ]
  },
  {
   "cell_type": "markdown",
   "metadata": {
    "cell_id": "83f3727b-a27e-4902-9d9b-9a2db5a9effa",
    "deepnote_cell_type": "markdown",
    "id": "40198861",
    "tags": []
   },
   "source": [
    "Como vimos, são 13 as variáveis encontradas neste DataSet:\n",
    "\n",
    "*  **Idade (anos)**: idade do paciente.\n",
    "*  **Anemia (Sim/Não)**: paciente com anemia = 1, paciente sem anemia = 0.\n",
    "*  **Creatinafosfoquinase (mcg/L)**: proteína encontrada no sangue/músculo cardíaco sendo utilizada como marcador do infarto. VR: 32 a 294 U/L.\n",
    "*  **Diabetes (Sim/Não)**: pacientes com diabetes = 1, sem diabetes = 0.\n",
    "*  **Fracao_ejecao (%)**: capacidade de expulsar sangue do coração. VR: (%) 55/70(normal) 40/54 levemente abaixo, 35/39 moderadamente abaixo, menos de 35, severamente abaixo do normal.\n",
    "*  **Pressao_alta (Sim/Não)**: danifica as artérias e levam a doenças cardiovasculares. Pacientes com pressão alta = 1, sem pressão alta = 0.\n",
    "*  **Plaquetas (kiloplatelets/mL)**: responsáveis pela coagulação sanguínea: 150k a 450k - normal, >450k: thrombocytosis (dores de cabeça, fraqueza, tonturas,etc <150k: thrombocytopenia (hemorragia)\n",
    "*  **Creatinina_soro (mg/dL)**: substância presente no sangue e eliminada pelos rins, quando não bem eliminada pode provocar problemas cardiovasculares. VR: 0,5 a 1,2 mg/dL, alta:cansaço excessivo, falta de ar. baixo: indica doenças hepáticas. Veja que no nosso dataset os valores estão muito alto, o que pode afetar os rins e de tabela o coração.\n",
    "*  **Sódio (mEq/L)**: nível de sódio no sangue (135 a 145) mEq/L - <135 (mais velhos, letargia, personalidade alterada, confusão), > 145: desordem muscular, coma e morte.\n",
    "*  **Sexo (Homem/Mulher)**: homem = 1 e mulher = 0\n",
    "*  **Fumante (Sim/Não)**: sim = 1 e não = 0.\n",
    "*  **Tempo (dias)**: tempo de acompanhamento médico.\n",
    "*  **Morte(Sim/Não)**: morto = 1 e vivo = 0."
   ]
  },
  {
   "cell_type": "markdown",
   "metadata": {
    "cell_id": "d4f0d82c-d178-4c88-b55f-57fd476fc092",
    "deepnote_cell_type": "markdown",
    "id": "16aafd25",
    "tags": []
   },
   "source": [
    "Embora todas as 13 variáveis sejam do tipo _int_ e _float_, nota-se que há dados categóricos na base, a exemplo de \"Sexo\" e da coluna \"Fumante\", que suportam entradas binárias.\n",
    "\n",
    "Para garantir que não sejam feitas análises numéricas em colunas que contém dados booleanos, transformaremos as variáveis conceitualmente categóricas de _int_ para _bool_:"
   ]
  },
  {
   "cell_type": "code",
   "execution_count": 9,
   "metadata": {
    "cell_id": "1960707e-aec3-4e34-a03f-341b3b87d9b8",
    "colab": {
     "base_uri": "https://localhost:8080/",
     "height": 424
    },
    "deepnote_cell_type": "code",
    "deepnote_output_heights": [
     232
    ],
    "deepnote_to_be_reexecuted": false,
    "execution_millis": 89,
    "execution_start": 1645480460805,
    "id": "d010b134",
    "outputId": "d76d2a97-2f5d-4bc8-e334-706ee8ad287b",
    "source_hash": "bac5b7eb",
    "tags": []
   },
   "outputs": [
    {
     "data": {
      "text/html": [
       "<div>\n",
       "<style scoped>\n",
       "    .dataframe tbody tr th:only-of-type {\n",
       "        vertical-align: middle;\n",
       "    }\n",
       "\n",
       "    .dataframe tbody tr th {\n",
       "        vertical-align: top;\n",
       "    }\n",
       "\n",
       "    .dataframe thead th {\n",
       "        text-align: right;\n",
       "    }\n",
       "</style>\n",
       "<table border=\"1\" class=\"dataframe\">\n",
       "  <thead>\n",
       "    <tr style=\"text-align: right;\">\n",
       "      <th></th>\n",
       "      <th>count</th>\n",
       "      <th>unique</th>\n",
       "      <th>top</th>\n",
       "      <th>freq</th>\n",
       "      <th>mean</th>\n",
       "      <th>std</th>\n",
       "      <th>min</th>\n",
       "      <th>25%</th>\n",
       "      <th>50%</th>\n",
       "      <th>75%</th>\n",
       "      <th>max</th>\n",
       "    </tr>\n",
       "  </thead>\n",
       "  <tbody>\n",
       "    <tr>\n",
       "      <th>Idade</th>\n",
       "      <td>299.00</td>\n",
       "      <td>NaN</td>\n",
       "      <td>NaN</td>\n",
       "      <td>NaN</td>\n",
       "      <td>60.83</td>\n",
       "      <td>11.89</td>\n",
       "      <td>40.00</td>\n",
       "      <td>51.00</td>\n",
       "      <td>60.00</td>\n",
       "      <td>70.00</td>\n",
       "      <td>95.00</td>\n",
       "    </tr>\n",
       "    <tr>\n",
       "      <th>Anemia</th>\n",
       "      <td>299</td>\n",
       "      <td>2</td>\n",
       "      <td>False</td>\n",
       "      <td>170</td>\n",
       "      <td>NaN</td>\n",
       "      <td>NaN</td>\n",
       "      <td>NaN</td>\n",
       "      <td>NaN</td>\n",
       "      <td>NaN</td>\n",
       "      <td>NaN</td>\n",
       "      <td>NaN</td>\n",
       "    </tr>\n",
       "    <tr>\n",
       "      <th>Creatinafosfoquinase</th>\n",
       "      <td>299.00</td>\n",
       "      <td>NaN</td>\n",
       "      <td>NaN</td>\n",
       "      <td>NaN</td>\n",
       "      <td>581.84</td>\n",
       "      <td>970.29</td>\n",
       "      <td>23.00</td>\n",
       "      <td>116.50</td>\n",
       "      <td>250.00</td>\n",
       "      <td>582.00</td>\n",
       "      <td>7861.00</td>\n",
       "    </tr>\n",
       "    <tr>\n",
       "      <th>Diabetes</th>\n",
       "      <td>299</td>\n",
       "      <td>2</td>\n",
       "      <td>False</td>\n",
       "      <td>174</td>\n",
       "      <td>NaN</td>\n",
       "      <td>NaN</td>\n",
       "      <td>NaN</td>\n",
       "      <td>NaN</td>\n",
       "      <td>NaN</td>\n",
       "      <td>NaN</td>\n",
       "      <td>NaN</td>\n",
       "    </tr>\n",
       "    <tr>\n",
       "      <th>Fracao_ejecao</th>\n",
       "      <td>299.00</td>\n",
       "      <td>NaN</td>\n",
       "      <td>NaN</td>\n",
       "      <td>NaN</td>\n",
       "      <td>38.08</td>\n",
       "      <td>11.83</td>\n",
       "      <td>14.00</td>\n",
       "      <td>30.00</td>\n",
       "      <td>38.00</td>\n",
       "      <td>45.00</td>\n",
       "      <td>80.00</td>\n",
       "    </tr>\n",
       "    <tr>\n",
       "      <th>Pressao_alta</th>\n",
       "      <td>299</td>\n",
       "      <td>2</td>\n",
       "      <td>False</td>\n",
       "      <td>194</td>\n",
       "      <td>NaN</td>\n",
       "      <td>NaN</td>\n",
       "      <td>NaN</td>\n",
       "      <td>NaN</td>\n",
       "      <td>NaN</td>\n",
       "      <td>NaN</td>\n",
       "      <td>NaN</td>\n",
       "    </tr>\n",
       "    <tr>\n",
       "      <th>Plaquetas</th>\n",
       "      <td>299.00</td>\n",
       "      <td>NaN</td>\n",
       "      <td>NaN</td>\n",
       "      <td>NaN</td>\n",
       "      <td>263358.03</td>\n",
       "      <td>97804.24</td>\n",
       "      <td>25100.00</td>\n",
       "      <td>212500.00</td>\n",
       "      <td>262000.00</td>\n",
       "      <td>303500.00</td>\n",
       "      <td>850000.00</td>\n",
       "    </tr>\n",
       "    <tr>\n",
       "      <th>Creatinina_soro</th>\n",
       "      <td>299.00</td>\n",
       "      <td>NaN</td>\n",
       "      <td>NaN</td>\n",
       "      <td>NaN</td>\n",
       "      <td>1.39</td>\n",
       "      <td>1.03</td>\n",
       "      <td>0.50</td>\n",
       "      <td>0.90</td>\n",
       "      <td>1.10</td>\n",
       "      <td>1.40</td>\n",
       "      <td>9.40</td>\n",
       "    </tr>\n",
       "    <tr>\n",
       "      <th>Sodio_soro</th>\n",
       "      <td>299.00</td>\n",
       "      <td>NaN</td>\n",
       "      <td>NaN</td>\n",
       "      <td>NaN</td>\n",
       "      <td>136.63</td>\n",
       "      <td>4.41</td>\n",
       "      <td>113.00</td>\n",
       "      <td>134.00</td>\n",
       "      <td>137.00</td>\n",
       "      <td>140.00</td>\n",
       "      <td>148.00</td>\n",
       "    </tr>\n",
       "    <tr>\n",
       "      <th>Sexo</th>\n",
       "      <td>299</td>\n",
       "      <td>2</td>\n",
       "      <td>True</td>\n",
       "      <td>194</td>\n",
       "      <td>NaN</td>\n",
       "      <td>NaN</td>\n",
       "      <td>NaN</td>\n",
       "      <td>NaN</td>\n",
       "      <td>NaN</td>\n",
       "      <td>NaN</td>\n",
       "      <td>NaN</td>\n",
       "    </tr>\n",
       "    <tr>\n",
       "      <th>Fumante</th>\n",
       "      <td>299</td>\n",
       "      <td>2</td>\n",
       "      <td>False</td>\n",
       "      <td>203</td>\n",
       "      <td>NaN</td>\n",
       "      <td>NaN</td>\n",
       "      <td>NaN</td>\n",
       "      <td>NaN</td>\n",
       "      <td>NaN</td>\n",
       "      <td>NaN</td>\n",
       "      <td>NaN</td>\n",
       "    </tr>\n",
       "    <tr>\n",
       "      <th>Tempo</th>\n",
       "      <td>299.00</td>\n",
       "      <td>NaN</td>\n",
       "      <td>NaN</td>\n",
       "      <td>NaN</td>\n",
       "      <td>130.26</td>\n",
       "      <td>77.61</td>\n",
       "      <td>4.00</td>\n",
       "      <td>73.00</td>\n",
       "      <td>115.00</td>\n",
       "      <td>203.00</td>\n",
       "      <td>285.00</td>\n",
       "    </tr>\n",
       "    <tr>\n",
       "      <th>Morte</th>\n",
       "      <td>299</td>\n",
       "      <td>2</td>\n",
       "      <td>False</td>\n",
       "      <td>203</td>\n",
       "      <td>NaN</td>\n",
       "      <td>NaN</td>\n",
       "      <td>NaN</td>\n",
       "      <td>NaN</td>\n",
       "      <td>NaN</td>\n",
       "      <td>NaN</td>\n",
       "      <td>NaN</td>\n",
       "    </tr>\n",
       "  </tbody>\n",
       "</table>\n",
       "</div>"
      ],
      "text/plain": [
       "                      count unique    top freq      mean      std      min  \\\n",
       "Idade                299.00    NaN    NaN  NaN     60.83    11.89    40.00   \n",
       "Anemia                  299      2  False  170       NaN      NaN      NaN   \n",
       "Creatinafosfoquinase 299.00    NaN    NaN  NaN    581.84   970.29    23.00   \n",
       "Diabetes                299      2  False  174       NaN      NaN      NaN   \n",
       "Fracao_ejecao        299.00    NaN    NaN  NaN     38.08    11.83    14.00   \n",
       "Pressao_alta            299      2  False  194       NaN      NaN      NaN   \n",
       "Plaquetas            299.00    NaN    NaN  NaN 263358.03 97804.24 25100.00   \n",
       "Creatinina_soro      299.00    NaN    NaN  NaN      1.39     1.03     0.50   \n",
       "Sodio_soro           299.00    NaN    NaN  NaN    136.63     4.41   113.00   \n",
       "Sexo                    299      2   True  194       NaN      NaN      NaN   \n",
       "Fumante                 299      2  False  203       NaN      NaN      NaN   \n",
       "Tempo                299.00    NaN    NaN  NaN    130.26    77.61     4.00   \n",
       "Morte                   299      2  False  203       NaN      NaN      NaN   \n",
       "\n",
       "                           25%       50%       75%       max  \n",
       "Idade                    51.00     60.00     70.00     95.00  \n",
       "Anemia                     NaN       NaN       NaN       NaN  \n",
       "Creatinafosfoquinase    116.50    250.00    582.00   7861.00  \n",
       "Diabetes                   NaN       NaN       NaN       NaN  \n",
       "Fracao_ejecao            30.00     38.00     45.00     80.00  \n",
       "Pressao_alta               NaN       NaN       NaN       NaN  \n",
       "Plaquetas            212500.00 262000.00 303500.00 850000.00  \n",
       "Creatinina_soro           0.90      1.10      1.40      9.40  \n",
       "Sodio_soro              134.00    137.00    140.00    148.00  \n",
       "Sexo                       NaN       NaN       NaN       NaN  \n",
       "Fumante                    NaN       NaN       NaN       NaN  \n",
       "Tempo                    73.00    115.00    203.00    285.00  \n",
       "Morte                      NaN       NaN       NaN       NaN  "
      ]
     },
     "execution_count": 9,
     "metadata": {},
     "output_type": "execute_result"
    }
   ],
   "source": [
    "# Separando as variaveis: \n",
    "vars_categoricas = ['Anemia', 'Diabetes', 'Pressao_alta', 'Sexo', 'Fumante', 'Morte']\n",
    "vars_continuas = ['Idade', 'Creatinafosfoquinase', 'Fracao_ejecao', 'Plaquetas', 'Creatinina_soro', 'Sodio_soro',\n",
    "       'Tempo']\n",
    "\n",
    "# Trocando o tipo das variáveis int para bool:\n",
    "for variavel in vars_categoricas:\n",
    "    df[variavel] = df[variavel].astype(bool)\n",
    "\n",
    "# Dados estatísticos:\n",
    "df.describe(include = 'all').T"
   ]
  },
  {
   "cell_type": "markdown",
   "metadata": {
    "cell_id": "ed251754-f3f6-4cbc-aaec-233e99752bad",
    "deepnote_cell_type": "markdown",
    "tags": []
   },
   "source": [
    "#### 3.2.4. Variável target\n",
    "\n",
    "A variável target é usada de forma auxiliar para destacar o que o modelo busca prever. Neste caso, é o resultado \"Morte\", descrito na última coluna do _dataset_."
   ]
  },
  {
   "cell_type": "code",
   "execution_count": 10,
   "metadata": {
    "cell_id": "bfa47336-a74e-49fa-b9dd-9f277aaebc71",
    "deepnote_cell_type": "code",
    "deepnote_to_be_reexecuted": false,
    "execution_millis": 9,
    "execution_start": 1645480460898,
    "source_hash": "401a8b04",
    "tags": []
   },
   "outputs": [],
   "source": [
    "target = 'Morte'"
   ]
  },
  {
   "cell_type": "code",
   "execution_count": 11,
   "metadata": {
    "cell_id": "15a8f355-881f-4c6c-9db7-10379f378267",
    "deepnote_cell_type": "code",
    "deepnote_to_be_reexecuted": false,
    "execution_millis": 2083,
    "execution_start": 1645480460917,
    "source_hash": "5dd3dfaa",
    "tags": []
   },
   "outputs": [
    {
     "data": {
      "application/vnd.plotly.v1+json": {
       "config": {
        "plotlyServerURL": "https://plot.ly"
       },
       "data": [
        {
         "alignmentgroup": "True",
         "bingroup": "x",
         "histnorm": "percent",
         "hovertemplate": "Morte=%{x}<br>percent=%{y}<extra></extra>",
         "legendgroup": "",
         "marker": {
          "color": "#636efa",
          "pattern": {
           "shape": ""
          }
         },
         "name": "",
         "offsetgroup": "",
         "orientation": "v",
         "showlegend": false,
         "texttemplate": "%{value}",
         "type": "histogram",
         "x": [
          true,
          true,
          true,
          true,
          true,
          true,
          true,
          true,
          true,
          true,
          true,
          true,
          true,
          true,
          false,
          true,
          true,
          true,
          true,
          true,
          false,
          true,
          true,
          false,
          true,
          true,
          true,
          true,
          true,
          true,
          true,
          true,
          true,
          false,
          true,
          true,
          true,
          true,
          false,
          true,
          true,
          true,
          true,
          false,
          true,
          true,
          true,
          true,
          true,
          true,
          true,
          true,
          true,
          true,
          true,
          true,
          false,
          false,
          true,
          true,
          true,
          true,
          false,
          true,
          false,
          true,
          true,
          true,
          true,
          true,
          false,
          false,
          true,
          false,
          true,
          true,
          false,
          false,
          false,
          false,
          false,
          false,
          true,
          false,
          true,
          false,
          false,
          false,
          false,
          false,
          false,
          false,
          false,
          true,
          false,
          false,
          false,
          false,
          false,
          false,
          false,
          false,
          false,
          false,
          false,
          true,
          false,
          false,
          false,
          false,
          true,
          false,
          false,
          true,
          false,
          false,
          false,
          false,
          false,
          true,
          false,
          false,
          false,
          false,
          true,
          false,
          true,
          false,
          false,
          false,
          false,
          false,
          false,
          false,
          false,
          false,
          false,
          false,
          false,
          false,
          true,
          false,
          false,
          false,
          true,
          false,
          false,
          false,
          true,
          false,
          true,
          false,
          false,
          false,
          false,
          false,
          false,
          false,
          false,
          false,
          false,
          false,
          false,
          true,
          true,
          true,
          false,
          true,
          false,
          false,
          false,
          false,
          false,
          false,
          false,
          false,
          false,
          false,
          false,
          false,
          false,
          true,
          true,
          true,
          true,
          true,
          true,
          true,
          false,
          false,
          false,
          false,
          false,
          false,
          true,
          true,
          false,
          false,
          false,
          false,
          false,
          false,
          false,
          false,
          false,
          false,
          false,
          false,
          false,
          false,
          false,
          false,
          false,
          true,
          false,
          false,
          false,
          true,
          false,
          false,
          true,
          false,
          false,
          false,
          false,
          false,
          false,
          false,
          false,
          false,
          true,
          false,
          false,
          false,
          false,
          false,
          false,
          false,
          false,
          false,
          false,
          false,
          false,
          false,
          false,
          false,
          true,
          false,
          false,
          false,
          false,
          false,
          false,
          false,
          false,
          false,
          false,
          false,
          false,
          false,
          false,
          false,
          true,
          false,
          false,
          false,
          true,
          false,
          false,
          false,
          false,
          false,
          false,
          false,
          false,
          false,
          false,
          false,
          false,
          false,
          false,
          false,
          false,
          false,
          false,
          false,
          false,
          false,
          false,
          false,
          false,
          false,
          false,
          false,
          false,
          false,
          false,
          false,
          false
         ],
         "xaxis": "x",
         "yaxis": "y"
        }
       ],
       "layout": {
        "barmode": "relative",
        "font": {
         "size": 12
        },
        "legend": {
         "title": {
          "text": "target"
         },
         "tracegroupgap": 0
        },
        "margin": {
         "t": 60
        },
        "template": {
         "data": {
          "bar": [
           {
            "error_x": {
             "color": "#2a3f5f"
            },
            "error_y": {
             "color": "#2a3f5f"
            },
            "marker": {
             "line": {
              "color": "#E5ECF6",
              "width": 0.5
             },
             "pattern": {
              "fillmode": "overlay",
              "size": 10,
              "solidity": 0.2
             }
            },
            "type": "bar"
           }
          ],
          "barpolar": [
           {
            "marker": {
             "line": {
              "color": "#E5ECF6",
              "width": 0.5
             },
             "pattern": {
              "fillmode": "overlay",
              "size": 10,
              "solidity": 0.2
             }
            },
            "type": "barpolar"
           }
          ],
          "carpet": [
           {
            "aaxis": {
             "endlinecolor": "#2a3f5f",
             "gridcolor": "white",
             "linecolor": "white",
             "minorgridcolor": "white",
             "startlinecolor": "#2a3f5f"
            },
            "baxis": {
             "endlinecolor": "#2a3f5f",
             "gridcolor": "white",
             "linecolor": "white",
             "minorgridcolor": "white",
             "startlinecolor": "#2a3f5f"
            },
            "type": "carpet"
           }
          ],
          "choropleth": [
           {
            "colorbar": {
             "outlinewidth": 0,
             "ticks": ""
            },
            "type": "choropleth"
           }
          ],
          "contour": [
           {
            "colorbar": {
             "outlinewidth": 0,
             "ticks": ""
            },
            "colorscale": [
             [
              0,
              "#0d0887"
             ],
             [
              0.1111111111111111,
              "#46039f"
             ],
             [
              0.2222222222222222,
              "#7201a8"
             ],
             [
              0.3333333333333333,
              "#9c179e"
             ],
             [
              0.4444444444444444,
              "#bd3786"
             ],
             [
              0.5555555555555556,
              "#d8576b"
             ],
             [
              0.6666666666666666,
              "#ed7953"
             ],
             [
              0.7777777777777778,
              "#fb9f3a"
             ],
             [
              0.8888888888888888,
              "#fdca26"
             ],
             [
              1,
              "#f0f921"
             ]
            ],
            "type": "contour"
           }
          ],
          "contourcarpet": [
           {
            "colorbar": {
             "outlinewidth": 0,
             "ticks": ""
            },
            "type": "contourcarpet"
           }
          ],
          "heatmap": [
           {
            "colorbar": {
             "outlinewidth": 0,
             "ticks": ""
            },
            "colorscale": [
             [
              0,
              "#0d0887"
             ],
             [
              0.1111111111111111,
              "#46039f"
             ],
             [
              0.2222222222222222,
              "#7201a8"
             ],
             [
              0.3333333333333333,
              "#9c179e"
             ],
             [
              0.4444444444444444,
              "#bd3786"
             ],
             [
              0.5555555555555556,
              "#d8576b"
             ],
             [
              0.6666666666666666,
              "#ed7953"
             ],
             [
              0.7777777777777778,
              "#fb9f3a"
             ],
             [
              0.8888888888888888,
              "#fdca26"
             ],
             [
              1,
              "#f0f921"
             ]
            ],
            "type": "heatmap"
           }
          ],
          "heatmapgl": [
           {
            "colorbar": {
             "outlinewidth": 0,
             "ticks": ""
            },
            "colorscale": [
             [
              0,
              "#0d0887"
             ],
             [
              0.1111111111111111,
              "#46039f"
             ],
             [
              0.2222222222222222,
              "#7201a8"
             ],
             [
              0.3333333333333333,
              "#9c179e"
             ],
             [
              0.4444444444444444,
              "#bd3786"
             ],
             [
              0.5555555555555556,
              "#d8576b"
             ],
             [
              0.6666666666666666,
              "#ed7953"
             ],
             [
              0.7777777777777778,
              "#fb9f3a"
             ],
             [
              0.8888888888888888,
              "#fdca26"
             ],
             [
              1,
              "#f0f921"
             ]
            ],
            "type": "heatmapgl"
           }
          ],
          "histogram": [
           {
            "marker": {
             "pattern": {
              "fillmode": "overlay",
              "size": 10,
              "solidity": 0.2
             }
            },
            "type": "histogram"
           }
          ],
          "histogram2d": [
           {
            "colorbar": {
             "outlinewidth": 0,
             "ticks": ""
            },
            "colorscale": [
             [
              0,
              "#0d0887"
             ],
             [
              0.1111111111111111,
              "#46039f"
             ],
             [
              0.2222222222222222,
              "#7201a8"
             ],
             [
              0.3333333333333333,
              "#9c179e"
             ],
             [
              0.4444444444444444,
              "#bd3786"
             ],
             [
              0.5555555555555556,
              "#d8576b"
             ],
             [
              0.6666666666666666,
              "#ed7953"
             ],
             [
              0.7777777777777778,
              "#fb9f3a"
             ],
             [
              0.8888888888888888,
              "#fdca26"
             ],
             [
              1,
              "#f0f921"
             ]
            ],
            "type": "histogram2d"
           }
          ],
          "histogram2dcontour": [
           {
            "colorbar": {
             "outlinewidth": 0,
             "ticks": ""
            },
            "colorscale": [
             [
              0,
              "#0d0887"
             ],
             [
              0.1111111111111111,
              "#46039f"
             ],
             [
              0.2222222222222222,
              "#7201a8"
             ],
             [
              0.3333333333333333,
              "#9c179e"
             ],
             [
              0.4444444444444444,
              "#bd3786"
             ],
             [
              0.5555555555555556,
              "#d8576b"
             ],
             [
              0.6666666666666666,
              "#ed7953"
             ],
             [
              0.7777777777777778,
              "#fb9f3a"
             ],
             [
              0.8888888888888888,
              "#fdca26"
             ],
             [
              1,
              "#f0f921"
             ]
            ],
            "type": "histogram2dcontour"
           }
          ],
          "mesh3d": [
           {
            "colorbar": {
             "outlinewidth": 0,
             "ticks": ""
            },
            "type": "mesh3d"
           }
          ],
          "parcoords": [
           {
            "line": {
             "colorbar": {
              "outlinewidth": 0,
              "ticks": ""
             }
            },
            "type": "parcoords"
           }
          ],
          "pie": [
           {
            "automargin": true,
            "type": "pie"
           }
          ],
          "scatter": [
           {
            "marker": {
             "colorbar": {
              "outlinewidth": 0,
              "ticks": ""
             }
            },
            "type": "scatter"
           }
          ],
          "scatter3d": [
           {
            "line": {
             "colorbar": {
              "outlinewidth": 0,
              "ticks": ""
             }
            },
            "marker": {
             "colorbar": {
              "outlinewidth": 0,
              "ticks": ""
             }
            },
            "type": "scatter3d"
           }
          ],
          "scattercarpet": [
           {
            "marker": {
             "colorbar": {
              "outlinewidth": 0,
              "ticks": ""
             }
            },
            "type": "scattercarpet"
           }
          ],
          "scattergeo": [
           {
            "marker": {
             "colorbar": {
              "outlinewidth": 0,
              "ticks": ""
             }
            },
            "type": "scattergeo"
           }
          ],
          "scattergl": [
           {
            "marker": {
             "colorbar": {
              "outlinewidth": 0,
              "ticks": ""
             }
            },
            "type": "scattergl"
           }
          ],
          "scattermapbox": [
           {
            "marker": {
             "colorbar": {
              "outlinewidth": 0,
              "ticks": ""
             }
            },
            "type": "scattermapbox"
           }
          ],
          "scatterpolar": [
           {
            "marker": {
             "colorbar": {
              "outlinewidth": 0,
              "ticks": ""
             }
            },
            "type": "scatterpolar"
           }
          ],
          "scatterpolargl": [
           {
            "marker": {
             "colorbar": {
              "outlinewidth": 0,
              "ticks": ""
             }
            },
            "type": "scatterpolargl"
           }
          ],
          "scatterternary": [
           {
            "marker": {
             "colorbar": {
              "outlinewidth": 0,
              "ticks": ""
             }
            },
            "type": "scatterternary"
           }
          ],
          "surface": [
           {
            "colorbar": {
             "outlinewidth": 0,
             "ticks": ""
            },
            "colorscale": [
             [
              0,
              "#0d0887"
             ],
             [
              0.1111111111111111,
              "#46039f"
             ],
             [
              0.2222222222222222,
              "#7201a8"
             ],
             [
              0.3333333333333333,
              "#9c179e"
             ],
             [
              0.4444444444444444,
              "#bd3786"
             ],
             [
              0.5555555555555556,
              "#d8576b"
             ],
             [
              0.6666666666666666,
              "#ed7953"
             ],
             [
              0.7777777777777778,
              "#fb9f3a"
             ],
             [
              0.8888888888888888,
              "#fdca26"
             ],
             [
              1,
              "#f0f921"
             ]
            ],
            "type": "surface"
           }
          ],
          "table": [
           {
            "cells": {
             "fill": {
              "color": "#EBF0F8"
             },
             "line": {
              "color": "white"
             }
            },
            "header": {
             "fill": {
              "color": "#C8D4E3"
             },
             "line": {
              "color": "white"
             }
            },
            "type": "table"
           }
          ]
         },
         "layout": {
          "annotationdefaults": {
           "arrowcolor": "#2a3f5f",
           "arrowhead": 0,
           "arrowwidth": 1
          },
          "autotypenumbers": "strict",
          "coloraxis": {
           "colorbar": {
            "outlinewidth": 0,
            "ticks": ""
           }
          },
          "colorscale": {
           "diverging": [
            [
             0,
             "#8e0152"
            ],
            [
             0.1,
             "#c51b7d"
            ],
            [
             0.2,
             "#de77ae"
            ],
            [
             0.3,
             "#f1b6da"
            ],
            [
             0.4,
             "#fde0ef"
            ],
            [
             0.5,
             "#f7f7f7"
            ],
            [
             0.6,
             "#e6f5d0"
            ],
            [
             0.7,
             "#b8e186"
            ],
            [
             0.8,
             "#7fbc41"
            ],
            [
             0.9,
             "#4d9221"
            ],
            [
             1,
             "#276419"
            ]
           ],
           "sequential": [
            [
             0,
             "#0d0887"
            ],
            [
             0.1111111111111111,
             "#46039f"
            ],
            [
             0.2222222222222222,
             "#7201a8"
            ],
            [
             0.3333333333333333,
             "#9c179e"
            ],
            [
             0.4444444444444444,
             "#bd3786"
            ],
            [
             0.5555555555555556,
             "#d8576b"
            ],
            [
             0.6666666666666666,
             "#ed7953"
            ],
            [
             0.7777777777777778,
             "#fb9f3a"
            ],
            [
             0.8888888888888888,
             "#fdca26"
            ],
            [
             1,
             "#f0f921"
            ]
           ],
           "sequentialminus": [
            [
             0,
             "#0d0887"
            ],
            [
             0.1111111111111111,
             "#46039f"
            ],
            [
             0.2222222222222222,
             "#7201a8"
            ],
            [
             0.3333333333333333,
             "#9c179e"
            ],
            [
             0.4444444444444444,
             "#bd3786"
            ],
            [
             0.5555555555555556,
             "#d8576b"
            ],
            [
             0.6666666666666666,
             "#ed7953"
            ],
            [
             0.7777777777777778,
             "#fb9f3a"
            ],
            [
             0.8888888888888888,
             "#fdca26"
            ],
            [
             1,
             "#f0f921"
            ]
           ]
          },
          "colorway": [
           "#636efa",
           "#EF553B",
           "#00cc96",
           "#ab63fa",
           "#FFA15A",
           "#19d3f3",
           "#FF6692",
           "#B6E880",
           "#FF97FF",
           "#FECB52"
          ],
          "font": {
           "color": "#2a3f5f"
          },
          "geo": {
           "bgcolor": "white",
           "lakecolor": "white",
           "landcolor": "#E5ECF6",
           "showlakes": true,
           "showland": true,
           "subunitcolor": "white"
          },
          "hoverlabel": {
           "align": "left"
          },
          "hovermode": "closest",
          "mapbox": {
           "style": "light"
          },
          "paper_bgcolor": "white",
          "plot_bgcolor": "#E5ECF6",
          "polar": {
           "angularaxis": {
            "gridcolor": "white",
            "linecolor": "white",
            "ticks": ""
           },
           "bgcolor": "#E5ECF6",
           "radialaxis": {
            "gridcolor": "white",
            "linecolor": "white",
            "ticks": ""
           }
          },
          "scene": {
           "xaxis": {
            "backgroundcolor": "#E5ECF6",
            "gridcolor": "white",
            "gridwidth": 2,
            "linecolor": "white",
            "showbackground": true,
            "ticks": "",
            "zerolinecolor": "white"
           },
           "yaxis": {
            "backgroundcolor": "#E5ECF6",
            "gridcolor": "white",
            "gridwidth": 2,
            "linecolor": "white",
            "showbackground": true,
            "ticks": "",
            "zerolinecolor": "white"
           },
           "zaxis": {
            "backgroundcolor": "#E5ECF6",
            "gridcolor": "white",
            "gridwidth": 2,
            "linecolor": "white",
            "showbackground": true,
            "ticks": "",
            "zerolinecolor": "white"
           }
          },
          "shapedefaults": {
           "line": {
            "color": "#2a3f5f"
           }
          },
          "ternary": {
           "aaxis": {
            "gridcolor": "white",
            "linecolor": "white",
            "ticks": ""
           },
           "baxis": {
            "gridcolor": "white",
            "linecolor": "white",
            "ticks": ""
           },
           "bgcolor": "#E5ECF6",
           "caxis": {
            "gridcolor": "white",
            "linecolor": "white",
            "ticks": ""
           }
          },
          "title": {
           "x": 0.05
          },
          "xaxis": {
           "automargin": true,
           "gridcolor": "white",
           "linecolor": "white",
           "ticks": "",
           "title": {
            "standoff": 15
           },
           "zerolinecolor": "white",
           "zerolinewidth": 2
          },
          "yaxis": {
           "automargin": true,
           "gridcolor": "white",
           "linecolor": "white",
           "ticks": "",
           "title": {
            "standoff": 15
           },
           "zerolinecolor": "white",
           "zerolinewidth": 2
          }
         }
        },
        "title": {
         "text": "counting cases"
        },
        "xaxis": {
         "anchor": "y",
         "domain": [
          0,
          1
         ],
         "title": {
          "text": "Morte"
         }
        },
        "yaxis": {
         "anchor": "x",
         "domain": [
          0,
          1
         ],
         "tickformat": ".2f",
         "ticksuffix": "%",
         "title": {
          "text": "no. of cases"
         }
        }
       }
      }
     },
     "metadata": {},
     "output_type": "display_data"
    }
   ],
   "source": [
    "fig = px.histogram(df, x=target, text_auto=True, histnorm = \"percent\")\n",
    "fig.update_layout(title=\"counting cases\", xaxis_title=target,\\\n",
    "                  yaxis_title=\"no. of cases\",legend_title=\"target\", font=dict(size=12), yaxis={\"ticksuffix\":\"%\",\"tickformat\":\".2f\" })\n",
    "\n",
    "fig.show()"
   ]
  },
  {
   "cell_type": "markdown",
   "metadata": {
    "cell_id": "3fffeada-dc27-4a20-b365-61ad7b5b7729",
    "deepnote_cell_type": "markdown",
    "tags": []
   },
   "source": [
    "Essa visualização também é possível via _countplot_ com o _Matplotlib_, onde conseguimos plotar os rótulos de porcentagens juntamente com a contagem quantitativa das incidências, que são representadas pelas barras:"
   ]
  },
  {
   "cell_type": "code",
   "execution_count": 12,
   "metadata": {
    "cell_id": "db9845e1-f48b-42ce-b729-18f61d34b5bf",
    "deepnote_cell_type": "code",
    "deepnote_to_be_reexecuted": false,
    "execution_millis": 343,
    "execution_start": 1645480473718,
    "source_hash": "359c6d2",
    "tags": []
   },
   "outputs": [
    {
     "data": {
      "image/png": "[encoded data removed]",
      "text/plain": [
       "<Figure size 504x360 with 1 Axes>"
      ]
     },
     "metadata": {
      "needs_background": "light"
     },
     "output_type": "display_data"
    }
   ],
   "source": [
    "def porcentagem(ax, feature):\n",
    "    total = len(feature)\n",
    "    for p in ax.patches:\n",
    "        percentage = '{:.1f}%'.format(100 * p.get_height()/total)\n",
    "        x = p.get_x() + p.get_width() / 2 - 0.05\n",
    "        y = p.get_y() + p.get_height()\n",
    "        ax.annotate(percentage, (x, y), size = 12)\n",
    "\n",
    "plt.figure(figsize = (7,5))\n",
    "ax = sns.countplot(data=df, x=target)\n",
    "plt.xticks(size = 12)\n",
    "plt.xlabel(target, size = 12)\n",
    "plt.yticks(size = 12)\n",
    "plt.ylabel('count', size = 12)\n",
    "\n",
    "porcentagem(ax, df['Morte'])\n"
   ]
  },
  {
   "cell_type": "markdown",
   "metadata": {
    "cell_id": "feac6607-aa66-45e7-9666-b7e3aebe48f5",
    "deepnote_cell_type": "markdown",
    "tags": []
   },
   "source": [
    "Os gráficos acima demostram que esta análise exploratória apresenta certa **tendência ao resultado Falso para o evento \"Morte\"**, visto que representa 68% do dataset e está, portanto, desbalanceado."
   ]
  },
  {
   "cell_type": "markdown",
   "metadata": {
    "cell_id": "75380488-2e65-43aa-9b0c-fd6e3d22c535",
    "deepnote_cell_type": "markdown",
    "tags": []
   },
   "source": [
    "#### 3.2.5. Análise Univariada - Demais variáveis categóricas"
   ]
  },
  {
   "cell_type": "markdown",
   "metadata": {
    "cell_id": "1a191287-d646-4ff2-b336-b27af7db13d3",
    "deepnote_cell_type": "markdown",
    "tags": []
   },
   "source": [
    "Assim como em relação a variável _target_, as conclusões do dataset com base em cada uma das variáveis só será confiável se o grupo estudado envolver uma quantidade equilibrada dos diferentes resultados.\n",
    "\n",
    "O balanceamento das variáveis categóricas será melhor percebido por meio do _plot_ de sua contagem:"
   ]
  },
  {
   "cell_type": "code",
   "execution_count": 13,
   "metadata": {
    "cell_id": "eb66bf73-633a-4dcd-9f9f-b7cd2807182f",
    "deepnote_cell_type": "code",
    "deepnote_to_be_reexecuted": false,
    "execution_millis": 755,
    "execution_start": 1645480463484,
    "source_hash": "6090a6c5",
    "tags": []
   },
   "outputs": [
    {
     "data": {
      "image/png": "[encoded data removed]",
      "text/plain": [
       "<Figure size 504x1080 with 5 Axes>"
      ]
     },
     "metadata": {
      "needs_background": "light"
     },
     "output_type": "display_data"
    }
   ],
   "source": [
    "fig, ax = plt.subplots(5, figsize=(7, 15))\n",
    "\n",
    "cont = 0\n",
    "for i in range(5):\n",
    "    sns.countplot(data=df, x=vars_categoricas[cont], ax=ax[i])\n",
    "    cont = cont + 1\n",
    "        \n",
    "fig.tight_layout(pad=3.0)\n"
   ]
  },
  {
   "cell_type": "markdown",
   "metadata": {
    "cell_id": "e80517ff-977a-45db-9766-1a3f399beae1",
    "deepnote_cell_type": "markdown",
    "tags": []
   },
   "source": [
    "Nota-se que as conclusões mais confiáveis serão baseadas nas variáveis \"Anemia\", \"Diabetes\". Pressão alta, Fumante e Sexo são critérios que representarão uma tendência para os resultados."
   ]
  },
  {
   "cell_type": "markdown",
   "metadata": {
    "cell_id": "c690dba3-e745-4ef3-b2a0-91e24413d2be",
    "deepnote_cell_type": "markdown",
    "id": "a645d202",
    "tags": []
   },
   "source": [
    "### **4. Limpeza de dados**"
   ]
  },
  {
   "cell_type": "markdown",
   "metadata": {
    "cell_id": "00030-82d8f552-79e7-4d3e-958d-f8764ae4da90",
    "deepnote_cell_type": "markdown",
    "id": "ec323a15"
   },
   "source": [
    "Embora já tenhamos inicialmente identificado que não há valores nulos ou faltantes, é preciso descobrir se existem valores destoantes (outliers) para que sejam tratados ou eliminados."
   ]
  },
  {
   "cell_type": "markdown",
   "metadata": {
    "cell_id": "136bdf34-0865-48a8-ad21-b0e6535ddbb8",
    "deepnote_cell_type": "markdown",
    "id": "7558cb9e",
    "tags": []
   },
   "source": [
    "### **4.1 Outliers**"
   ]
  },
  {
   "cell_type": "markdown",
   "metadata": {
    "cell_id": "a05ffdf3-20be-494d-9e91-24373ac61e77",
    "deepnote_cell_type": "markdown",
    "id": "3cf14520",
    "tags": []
   },
   "source": [
    "Utilizando _boxplot_ para analisar as propriedades de um conjunto de valores numéricos como mínimo, primeiro quartil, mediana, terceiro quartil e máximo das colunas do DataFrame, localizamos os seguintes dados e Outliers:"
   ]
  },
  {
   "cell_type": "code",
   "execution_count": 14,
   "metadata": {
    "cell_id": "7bdd7385-a480-4ccf-9211-ef0ac37e9011",
    "deepnote_cell_type": "code",
    "deepnote_to_be_reexecuted": false,
    "execution_millis": 1617,
    "execution_start": 1645480464288,
    "source_hash": "8d0f3887",
    "tags": []
   },
   "outputs": [
    {
     "data": {
      "image/png": "[encoded data removed]",
      "text/plain": [
       "<Figure size 1080x1440 with 7 Axes>"
      ]
     },
     "metadata": {
      "needs_background": "light"
     },
     "output_type": "display_data"
    }
   ],
   "source": [
    "fig, ax = plt.subplots(7, 1 , figsize=(15, 20))\n",
    "\n",
    "cont=0\n",
    "for j in range(7):\n",
    "    sns.boxplot(data=df[vars_continuas], x=vars_continuas[cont], ax=ax[j], color = '#ff4d4d');\n",
    "    ax[j].xaxis.set_tick_params(labelsize=14)\n",
    "    cont = cont + 1\n",
    "\n",
    "    \n",
    "fig.tight_layout(pad=3.0)"
   ]
  },
  {
   "cell_type": "code",
   "execution_count": 15,
   "metadata": {
    "cell_id": "c6b3124d-681a-4e22-80dc-7fedd8f326fe",
    "deepnote_cell_type": "code",
    "deepnote_to_be_reexecuted": false,
    "execution_millis": 11,
    "execution_start": 1645480465952,
    "source_hash": "546bd74c",
    "tags": []
   },
   "outputs": [
    {
     "data": {
      "application/vnd.plotly.v1+json": {
       "config": {
        "linkText": "Export to plot.ly",
        "plotlyServerURL": "https://plot.ly",
        "showLink": false
       },
       "data": [
        {
         "name": "Creatinafosfoquinase",
         "type": "box",
         "y": [
          582,
          7861,
          146,
          111,
          160,
          47,
          246,
          315,
          157,
          123,
          81,
          231,
          981,
          168,
          80,
          379,
          149,
          582,
          125,
          582,
          52,
          128,
          220,
          63,
          582,
          148,
          112,
          122,
          60,
          70,
          582,
          23,
          249,
          159,
          94,
          582,
          60,
          855,
          2656,
          235,
          582,
          124,
          571,
          127,
          588,
          582,
          1380,
          582,
          553,
          129,
          577,
          91,
          3964,
          69,
          260,
          371,
          75,
          607,
          789,
          364,
          7702,
          318,
          109,
          582,
          582,
          68,
          250,
          110,
          161,
          113,
          148,
          582,
          5882,
          224,
          582,
          47,
          92,
          102,
          203,
          336,
          69,
          582,
          76,
          55,
          280,
          78,
          47,
          68,
          84,
          115,
          66,
          897,
          582,
          154,
          144,
          133,
          514,
          59,
          156,
          61,
          305,
          582,
          898,
          5209,
          53,
          328,
          748,
          1876,
          936,
          292,
          129,
          60,
          369,
          143,
          754,
          400,
          96,
          102,
          113,
          582,
          737,
          68,
          96,
          582,
          582,
          358,
          168,
          200,
          248,
          270,
          1808,
          1082,
          719,
          193,
          4540,
          582,
          59,
          646,
          281,
          1548,
          805,
          291,
          482,
          84,
          943,
          185,
          132,
          1610,
          582,
          2261,
          233,
          30,
          115,
          1846,
          335,
          231,
          58,
          250,
          910,
          129,
          72,
          130,
          582,
          2334,
          2442,
          776,
          196,
          66,
          582,
          835,
          582,
          3966,
          171,
          115,
          198,
          95,
          1419,
          69,
          122,
          835,
          478,
          176,
          395,
          99,
          145,
          104,
          582,
          1896,
          151,
          244,
          582,
          62,
          121,
          231,
          582,
          418,
          582,
          167,
          582,
          1211,
          1767,
          308,
          97,
          59,
          64,
          167,
          101,
          212,
          2281,
          972,
          212,
          582,
          224,
          131,
          135,
          582,
          1202,
          427,
          1021,
          582,
          582,
          118,
          86,
          582,
          582,
          675,
          57,
          2794,
          56,
          211,
          166,
          93,
          129,
          707,
          582,
          109,
          119,
          232,
          720,
          180,
          81,
          582,
          90,
          1185,
          582,
          80,
          2017,
          143,
          624,
          207,
          2522,
          572,
          245,
          88,
          446,
          191,
          326,
          132,
          66,
          56,
          66,
          655,
          258,
          157,
          582,
          298,
          1199,
          135,
          582,
          582,
          582,
          582,
          213,
          64,
          257,
          582,
          618,
          582,
          1051,
          84,
          2695,
          582,
          64,
          1688,
          54,
          170,
          253,
          582,
          892,
          337,
          615,
          320,
          190,
          103,
          61,
          1820,
          2060,
          2413,
          196
         ]
        }
       ],
       "layout": {
        "template": {
         "data": {
          "bar": [
           {
            "error_x": {
             "color": "#2a3f5f"
            },
            "error_y": {
             "color": "#2a3f5f"
            },
            "marker": {
             "line": {
              "color": "#E5ECF6",
              "width": 0.5
             },
             "pattern": {
              "fillmode": "overlay",
              "size": 10,
              "solidity": 0.2
             }
            },
            "type": "bar"
           }
          ],
          "barpolar": [
           {
            "marker": {
             "line": {
              "color": "#E5ECF6",
              "width": 0.5
             },
             "pattern": {
              "fillmode": "overlay",
              "size": 10,
              "solidity": 0.2
             }
            },
            "type": "barpolar"
           }
          ],
          "carpet": [
           {
            "aaxis": {
             "endlinecolor": "#2a3f5f",
             "gridcolor": "white",
             "linecolor": "white",
             "minorgridcolor": "white",
             "startlinecolor": "#2a3f5f"
            },
            "baxis": {
             "endlinecolor": "#2a3f5f",
             "gridcolor": "white",
             "linecolor": "white",
             "minorgridcolor": "white",
             "startlinecolor": "#2a3f5f"
            },
            "type": "carpet"
           }
          ],
          "choropleth": [
           {
            "colorbar": {
             "outlinewidth": 0,
             "ticks": ""
            },
            "type": "choropleth"
           }
          ],
          "contour": [
           {
            "colorbar": {
             "outlinewidth": 0,
             "ticks": ""
            },
            "colorscale": [
             [
              0,
              "#0d0887"
             ],
             [
              0.1111111111111111,
              "#46039f"
             ],
             [
              0.2222222222222222,
              "#7201a8"
             ],
             [
              0.3333333333333333,
              "#9c179e"
             ],
             [
              0.4444444444444444,
              "#bd3786"
             ],
             [
              0.5555555555555556,
              "#d8576b"
             ],
             [
              0.6666666666666666,
              "#ed7953"
             ],
             [
              0.7777777777777778,
              "#fb9f3a"
             ],
             [
              0.8888888888888888,
              "#fdca26"
             ],
             [
              1,
              "#f0f921"
             ]
            ],
            "type": "contour"
           }
          ],
          "contourcarpet": [
           {
            "colorbar": {
             "outlinewidth": 0,
             "ticks": ""
            },
            "type": "contourcarpet"
           }
          ],
          "heatmap": [
           {
            "colorbar": {
             "outlinewidth": 0,
             "ticks": ""
            },
            "colorscale": [
             [
              0,
              "#0d0887"
             ],
             [
              0.1111111111111111,
              "#46039f"
             ],
             [
              0.2222222222222222,
              "#7201a8"
             ],
             [
              0.3333333333333333,
              "#9c179e"
             ],
             [
              0.4444444444444444,
              "#bd3786"
             ],
             [
              0.5555555555555556,
              "#d8576b"
             ],
             [
              0.6666666666666666,
              "#ed7953"
             ],
             [
              0.7777777777777778,
              "#fb9f3a"
             ],
             [
              0.8888888888888888,
              "#fdca26"
             ],
             [
              1,
              "#f0f921"
             ]
            ],
            "type": "heatmap"
           }
          ],
          "heatmapgl": [
           {
            "colorbar": {
             "outlinewidth": 0,
             "ticks": ""
            },
            "colorscale": [
             [
              0,
              "#0d0887"
             ],
             [
              0.1111111111111111,
              "#46039f"
             ],
             [
              0.2222222222222222,
              "#7201a8"
             ],
             [
              0.3333333333333333,
              "#9c179e"
             ],
             [
              0.4444444444444444,
              "#bd3786"
             ],
             [
              0.5555555555555556,
              "#d8576b"
             ],
             [
              0.6666666666666666,
              "#ed7953"
             ],
             [
              0.7777777777777778,
              "#fb9f3a"
             ],
             [
              0.8888888888888888,
              "#fdca26"
             ],
             [
              1,
              "#f0f921"
             ]
            ],
            "type": "heatmapgl"
           }
          ],
          "histogram": [
           {
            "marker": {
             "pattern": {
              "fillmode": "overlay",
              "size": 10,
              "solidity": 0.2
             }
            },
            "type": "histogram"
           }
          ],
          "histogram2d": [
           {
            "colorbar": {
             "outlinewidth": 0,
             "ticks": ""
            },
            "colorscale": [
             [
              0,
              "#0d0887"
             ],
             [
              0.1111111111111111,
              "#46039f"
             ],
             [
              0.2222222222222222,
              "#7201a8"
             ],
             [
              0.3333333333333333,
              "#9c179e"
             ],
             [
              0.4444444444444444,
              "#bd3786"
             ],
             [
              0.5555555555555556,
              "#d8576b"
             ],
             [
              0.6666666666666666,
              "#ed7953"
             ],
             [
              0.7777777777777778,
              "#fb9f3a"
             ],
             [
              0.8888888888888888,
              "#fdca26"
             ],
             [
              1,
              "#f0f921"
             ]
            ],
            "type": "histogram2d"
           }
          ],
          "histogram2dcontour": [
           {
            "colorbar": {
             "outlinewidth": 0,
             "ticks": ""
            },
            "colorscale": [
             [
              0,
              "#0d0887"
             ],
             [
              0.1111111111111111,
              "#46039f"
             ],
             [
              0.2222222222222222,
              "#7201a8"
             ],
             [
              0.3333333333333333,
              "#9c179e"
             ],
             [
              0.4444444444444444,
              "#bd3786"
             ],
             [
              0.5555555555555556,
              "#d8576b"
             ],
             [
              0.6666666666666666,
              "#ed7953"
             ],
             [
              0.7777777777777778,
              "#fb9f3a"
             ],
             [
              0.8888888888888888,
              "#fdca26"
             ],
             [
              1,
              "#f0f921"
             ]
            ],
            "type": "histogram2dcontour"
           }
          ],
          "mesh3d": [
           {
            "colorbar": {
             "outlinewidth": 0,
             "ticks": ""
            },
            "type": "mesh3d"
           }
          ],
          "parcoords": [
           {
            "line": {
             "colorbar": {
              "outlinewidth": 0,
              "ticks": ""
             }
            },
            "type": "parcoords"
           }
          ],
          "pie": [
           {
            "automargin": true,
            "type": "pie"
           }
          ],
          "scatter": [
           {
            "marker": {
             "colorbar": {
              "outlinewidth": 0,
              "ticks": ""
             }
            },
            "type": "scatter"
           }
          ],
          "scatter3d": [
           {
            "line": {
             "colorbar": {
              "outlinewidth": 0,
              "ticks": ""
             }
            },
            "marker": {
             "colorbar": {
              "outlinewidth": 0,
              "ticks": ""
             }
            },
            "type": "scatter3d"
           }
          ],
          "scattercarpet": [
           {
            "marker": {
             "colorbar": {
              "outlinewidth": 0,
              "ticks": ""
             }
            },
            "type": "scattercarpet"
           }
          ],
          "scattergeo": [
           {
            "marker": {
             "colorbar": {
              "outlinewidth": 0,
              "ticks": ""
             }
            },
            "type": "scattergeo"
           }
          ],
          "scattergl": [
           {
            "marker": {
             "colorbar": {
              "outlinewidth": 0,
              "ticks": ""
             }
            },
            "type": "scattergl"
           }
          ],
          "scattermapbox": [
           {
            "marker": {
             "colorbar": {
              "outlinewidth": 0,
              "ticks": ""
             }
            },
            "type": "scattermapbox"
           }
          ],
          "scatterpolar": [
           {
            "marker": {
             "colorbar": {
              "outlinewidth": 0,
              "ticks": ""
             }
            },
            "type": "scatterpolar"
           }
          ],
          "scatterpolargl": [
           {
            "marker": {
             "colorbar": {
              "outlinewidth": 0,
              "ticks": ""
             }
            },
            "type": "scatterpolargl"
           }
          ],
          "scatterternary": [
           {
            "marker": {
             "colorbar": {
              "outlinewidth": 0,
              "ticks": ""
             }
            },
            "type": "scatterternary"
           }
          ],
          "surface": [
           {
            "colorbar": {
             "outlinewidth": 0,
             "ticks": ""
            },
            "colorscale": [
             [
              0,
              "#0d0887"
             ],
             [
              0.1111111111111111,
              "#46039f"
             ],
             [
              0.2222222222222222,
              "#7201a8"
             ],
             [
              0.3333333333333333,
              "#9c179e"
             ],
             [
              0.4444444444444444,
              "#bd3786"
             ],
             [
              0.5555555555555556,
              "#d8576b"
             ],
             [
              0.6666666666666666,
              "#ed7953"
             ],
             [
              0.7777777777777778,
              "#fb9f3a"
             ],
             [
              0.8888888888888888,
              "#fdca26"
             ],
             [
              1,
              "#f0f921"
             ]
            ],
            "type": "surface"
           }
          ],
          "table": [
           {
            "cells": {
             "fill": {
              "color": "#EBF0F8"
             },
             "line": {
              "color": "white"
             }
            },
            "header": {
             "fill": {
              "color": "#C8D4E3"
             },
             "line": {
              "color": "white"
             }
            },
            "type": "table"
           }
          ]
         },
         "layout": {
          "annotationdefaults": {
           "arrowcolor": "#2a3f5f",
           "arrowhead": 0,
           "arrowwidth": 1
          },
          "autotypenumbers": "strict",
          "coloraxis": {
           "colorbar": {
            "outlinewidth": 0,
            "ticks": ""
           }
          },
          "colorscale": {
           "diverging": [
            [
             0,
             "#8e0152"
            ],
            [
             0.1,
             "#c51b7d"
            ],
            [
             0.2,
             "#de77ae"
            ],
            [
             0.3,
             "#f1b6da"
            ],
            [
             0.4,
             "#fde0ef"
            ],
            [
             0.5,
             "#f7f7f7"
            ],
            [
             0.6,
             "#e6f5d0"
            ],
            [
             0.7,
             "#b8e186"
            ],
            [
             0.8,
             "#7fbc41"
            ],
            [
             0.9,
             "#4d9221"
            ],
            [
             1,
             "#276419"
            ]
           ],
           "sequential": [
            [
             0,
             "#0d0887"
            ],
            [
             0.1111111111111111,
             "#46039f"
            ],
            [
             0.2222222222222222,
             "#7201a8"
            ],
            [
             0.3333333333333333,
             "#9c179e"
            ],
            [
             0.4444444444444444,
             "#bd3786"
            ],
            [
             0.5555555555555556,
             "#d8576b"
            ],
            [
             0.6666666666666666,
             "#ed7953"
            ],
            [
             0.7777777777777778,
             "#fb9f3a"
            ],
            [
             0.8888888888888888,
             "#fdca26"
            ],
            [
             1,
             "#f0f921"
            ]
           ],
           "sequentialminus": [
            [
             0,
             "#0d0887"
            ],
            [
             0.1111111111111111,
             "#46039f"
            ],
            [
             0.2222222222222222,
             "#7201a8"
            ],
            [
             0.3333333333333333,
             "#9c179e"
            ],
            [
             0.4444444444444444,
             "#bd3786"
            ],
            [
             0.5555555555555556,
             "#d8576b"
            ],
            [
             0.6666666666666666,
             "#ed7953"
            ],
            [
             0.7777777777777778,
             "#fb9f3a"
            ],
            [
             0.8888888888888888,
             "#fdca26"
            ],
            [
             1,
             "#f0f921"
            ]
           ]
          },
          "colorway": [
           "#636efa",
           "#EF553B",
           "#00cc96",
           "#ab63fa",
           "#FFA15A",
           "#19d3f3",
           "#FF6692",
           "#B6E880",
           "#FF97FF",
           "#FECB52"
          ],
          "font": {
           "color": "#2a3f5f"
          },
          "geo": {
           "bgcolor": "white",
           "lakecolor": "white",
           "landcolor": "#E5ECF6",
           "showlakes": true,
           "showland": true,
           "subunitcolor": "white"
          },
          "hoverlabel": {
           "align": "left"
          },
          "hovermode": "closest",
          "mapbox": {
           "style": "light"
          },
          "paper_bgcolor": "white",
          "plot_bgcolor": "#E5ECF6",
          "polar": {
           "angularaxis": {
            "gridcolor": "white",
            "linecolor": "white",
            "ticks": ""
           },
           "bgcolor": "#E5ECF6",
           "radialaxis": {
            "gridcolor": "white",
            "linecolor": "white",
            "ticks": ""
           }
          },
          "scene": {
           "xaxis": {
            "backgroundcolor": "#E5ECF6",
            "gridcolor": "white",
            "gridwidth": 2,
            "linecolor": "white",
            "showbackground": true,
            "ticks": "",
            "zerolinecolor": "white"
           },
           "yaxis": {
            "backgroundcolor": "#E5ECF6",
            "gridcolor": "white",
            "gridwidth": 2,
            "linecolor": "white",
            "showbackground": true,
            "ticks": "",
            "zerolinecolor": "white"
           },
           "zaxis": {
            "backgroundcolor": "#E5ECF6",
            "gridcolor": "white",
            "gridwidth": 2,
            "linecolor": "white",
            "showbackground": true,
            "ticks": "",
            "zerolinecolor": "white"
           }
          },
          "shapedefaults": {
           "line": {
            "color": "#2a3f5f"
           }
          },
          "ternary": {
           "aaxis": {
            "gridcolor": "white",
            "linecolor": "white",
            "ticks": ""
           },
           "baxis": {
            "gridcolor": "white",
            "linecolor": "white",
            "ticks": ""
           },
           "bgcolor": "#E5ECF6",
           "caxis": {
            "gridcolor": "white",
            "linecolor": "white",
            "ticks": ""
           }
          },
          "title": {
           "x": 0.05
          },
          "xaxis": {
           "automargin": true,
           "gridcolor": "white",
           "linecolor": "white",
           "ticks": "",
           "title": {
            "standoff": 15
           },
           "zerolinecolor": "white",
           "zerolinewidth": 2
          },
          "yaxis": {
           "automargin": true,
           "gridcolor": "white",
           "linecolor": "white",
           "ticks": "",
           "title": {
            "standoff": 15
           },
           "zerolinecolor": "white",
           "zerolinewidth": 2
          }
         }
        }
       }
      }
     },
     "metadata": {},
     "output_type": "display_data"
    }
   ],
   "source": [
    "trace0 = go.Box(y=df[\"Creatinafosfoquinase\"],name=\"Creatinafosfoquinase\")\n",
    "\n",
    "\n",
    "data = [trace0]\n",
    "iplot(data)"
   ]
  },
  {
   "cell_type": "code",
   "execution_count": 16,
   "metadata": {
    "cell_id": "851fb83d-711a-48c2-8bfd-287b1de51f78",
    "deepnote_cell_type": "code",
    "deepnote_to_be_reexecuted": false,
    "execution_millis": 21,
    "execution_start": 1645480465985,
    "source_hash": "a1747a74",
    "tags": []
   },
   "outputs": [
    {
     "data": {
      "application/vnd.plotly.v1+json": {
       "config": {
        "linkText": "Export to plot.ly",
        "plotlyServerURL": "https://plot.ly",
        "showLink": false
       },
       "data": [
        {
         "name": "Fracao_ejecao",
         "type": "box",
         "y": [
          20,
          38,
          20,
          20,
          20,
          40,
          15,
          60,
          65,
          35,
          38,
          25,
          30,
          38,
          30,
          50,
          38,
          14,
          25,
          55,
          25,
          30,
          35,
          60,
          30,
          38,
          40,
          45,
          38,
          30,
          38,
          45,
          35,
          30,
          50,
          35,
          50,
          50,
          30,
          38,
          20,
          30,
          45,
          50,
          60,
          38,
          25,
          38,
          20,
          30,
          25,
          20,
          62,
          50,
          38,
          30,
          35,
          40,
          20,
          20,
          25,
          40,
          35,
          35,
          80,
          20,
          15,
          25,
          25,
          25,
          40,
          35,
          35,
          50,
          20,
          20,
          60,
          40,
          38,
          45,
          40,
          50,
          25,
          50,
          25,
          50,
          35,
          60,
          40,
          25,
          45,
          45,
          60,
          25,
          38,
          60,
          25,
          60,
          25,
          40,
          25,
          45,
          25,
          30,
          50,
          30,
          45,
          35,
          38,
          35,
          60,
          35,
          25,
          60,
          40,
          40,
          60,
          60,
          60,
          38,
          60,
          38,
          38,
          30,
          40,
          50,
          17,
          60,
          30,
          35,
          60,
          45,
          40,
          60,
          35,
          40,
          60,
          25,
          35,
          30,
          38,
          35,
          30,
          40,
          25,
          30,
          30,
          60,
          30,
          35,
          45,
          60,
          45,
          35,
          35,
          25,
          35,
          25,
          50,
          45,
          40,
          35,
          40,
          35,
          30,
          38,
          60,
          20,
          40,
          35,
          35,
          40,
          60,
          20,
          35,
          60,
          40,
          50,
          60,
          40,
          30,
          25,
          25,
          38,
          25,
          30,
          50,
          25,
          40,
          45,
          35,
          60,
          40,
          30,
          20,
          45,
          38,
          30,
          20,
          35,
          45,
          60,
          60,
          25,
          40,
          45,
          40,
          38,
          40,
          35,
          17,
          62,
          50,
          30,
          35,
          35,
          50,
          70,
          35,
          35,
          20,
          50,
          35,
          25,
          25,
          60,
          25,
          35,
          25,
          25,
          30,
          35,
          35,
          38,
          45,
          50,
          50,
          30,
          40,
          45,
          35,
          30,
          35,
          40,
          38,
          38,
          25,
          25,
          35,
          40,
          30,
          35,
          45,
          35,
          60,
          30,
          38,
          38,
          25,
          50,
          40,
          40,
          25,
          60,
          38,
          35,
          20,
          38,
          38,
          35,
          30,
          40,
          38,
          40,
          30,
          38,
          35,
          38,
          30,
          38,
          40,
          40,
          30,
          38,
          40,
          40,
          35,
          55,
          35,
          38,
          55,
          35,
          38,
          35,
          38,
          38,
          60,
          38,
          45
         ]
        }
       ],
       "layout": {
        "template": {
         "data": {
          "bar": [
           {
            "error_x": {
             "color": "#2a3f5f"
            },
            "error_y": {
             "color": "#2a3f5f"
            },
            "marker": {
             "line": {
              "color": "#E5ECF6",
              "width": 0.5
             },
             "pattern": {
              "fillmode": "overlay",
              "size": 10,
              "solidity": 0.2
             }
            },
            "type": "bar"
           }
          ],
          "barpolar": [
           {
            "marker": {
             "line": {
              "color": "#E5ECF6",
              "width": 0.5
             },
             "pattern": {
              "fillmode": "overlay",
              "size": 10,
              "solidity": 0.2
             }
            },
            "type": "barpolar"
           }
          ],
          "carpet": [
           {
            "aaxis": {
             "endlinecolor": "#2a3f5f",
             "gridcolor": "white",
             "linecolor": "white",
             "minorgridcolor": "white",
             "startlinecolor": "#2a3f5f"
            },
            "baxis": {
             "endlinecolor": "#2a3f5f",
             "gridcolor": "white",
             "linecolor": "white",
             "minorgridcolor": "white",
             "startlinecolor": "#2a3f5f"
            },
            "type": "carpet"
           }
          ],
          "choropleth": [
           {
            "colorbar": {
             "outlinewidth": 0,
             "ticks": ""
            },
            "type": "choropleth"
           }
          ],
          "contour": [
           {
            "colorbar": {
             "outlinewidth": 0,
             "ticks": ""
            },
            "colorscale": [
             [
              0,
              "#0d0887"
             ],
             [
              0.1111111111111111,
              "#46039f"
             ],
             [
              0.2222222222222222,
              "#7201a8"
             ],
             [
              0.3333333333333333,
              "#9c179e"
             ],
             [
              0.4444444444444444,
              "#bd3786"
             ],
             [
              0.5555555555555556,
              "#d8576b"
             ],
             [
              0.6666666666666666,
              "#ed7953"
             ],
             [
              0.7777777777777778,
              "#fb9f3a"
             ],
             [
              0.8888888888888888,
              "#fdca26"
             ],
             [
              1,
              "#f0f921"
             ]
            ],
            "type": "contour"
           }
          ],
          "contourcarpet": [
           {
            "colorbar": {
             "outlinewidth": 0,
             "ticks": ""
            },
            "type": "contourcarpet"
           }
          ],
          "heatmap": [
           {
            "colorbar": {
             "outlinewidth": 0,
             "ticks": ""
            },
            "colorscale": [
             [
              0,
              "#0d0887"
             ],
             [
              0.1111111111111111,
              "#46039f"
             ],
             [
              0.2222222222222222,
              "#7201a8"
             ],
             [
              0.3333333333333333,
              "#9c179e"
             ],
             [
              0.4444444444444444,
              "#bd3786"
             ],
             [
              0.5555555555555556,
              "#d8576b"
             ],
             [
              0.6666666666666666,
              "#ed7953"
             ],
             [
              0.7777777777777778,
              "#fb9f3a"
             ],
             [
              0.8888888888888888,
              "#fdca26"
             ],
             [
              1,
              "#f0f921"
             ]
            ],
            "type": "heatmap"
           }
          ],
          "heatmapgl": [
           {
            "colorbar": {
             "outlinewidth": 0,
             "ticks": ""
            },
            "colorscale": [
             [
              0,
              "#0d0887"
             ],
             [
              0.1111111111111111,
              "#46039f"
             ],
             [
              0.2222222222222222,
              "#7201a8"
             ],
             [
              0.3333333333333333,
              "#9c179e"
             ],
             [
              0.4444444444444444,
              "#bd3786"
             ],
             [
              0.5555555555555556,
              "#d8576b"
             ],
             [
              0.6666666666666666,
              "#ed7953"
             ],
             [
              0.7777777777777778,
              "#fb9f3a"
             ],
             [
              0.8888888888888888,
              "#fdca26"
             ],
             [
              1,
              "#f0f921"
             ]
            ],
            "type": "heatmapgl"
           }
          ],
          "histogram": [
           {
            "marker": {
             "pattern": {
              "fillmode": "overlay",
              "size": 10,
              "solidity": 0.2
             }
            },
            "type": "histogram"
           }
          ],
          "histogram2d": [
           {
            "colorbar": {
             "outlinewidth": 0,
             "ticks": ""
            },
            "colorscale": [
             [
              0,
              "#0d0887"
             ],
             [
              0.1111111111111111,
              "#46039f"
             ],
             [
              0.2222222222222222,
              "#7201a8"
             ],
             [
              0.3333333333333333,
              "#9c179e"
             ],
             [
              0.4444444444444444,
              "#bd3786"
             ],
             [
              0.5555555555555556,
              "#d8576b"
             ],
             [
              0.6666666666666666,
              "#ed7953"
             ],
             [
              0.7777777777777778,
              "#fb9f3a"
             ],
             [
              0.8888888888888888,
              "#fdca26"
             ],
             [
              1,
              "#f0f921"
             ]
            ],
            "type": "histogram2d"
           }
          ],
          "histogram2dcontour": [
           {
            "colorbar": {
             "outlinewidth": 0,
             "ticks": ""
            },
            "colorscale": [
             [
              0,
              "#0d0887"
             ],
             [
              0.1111111111111111,
              "#46039f"
             ],
             [
              0.2222222222222222,
              "#7201a8"
             ],
             [
              0.3333333333333333,
              "#9c179e"
             ],
             [
              0.4444444444444444,
              "#bd3786"
             ],
             [
              0.5555555555555556,
              "#d8576b"
             ],
             [
              0.6666666666666666,
              "#ed7953"
             ],
             [
              0.7777777777777778,
              "#fb9f3a"
             ],
             [
              0.8888888888888888,
              "#fdca26"
             ],
             [
              1,
              "#f0f921"
             ]
            ],
            "type": "histogram2dcontour"
           }
          ],
          "mesh3d": [
           {
            "colorbar": {
             "outlinewidth": 0,
             "ticks": ""
            },
            "type": "mesh3d"
           }
          ],
          "parcoords": [
           {
            "line": {
             "colorbar": {
              "outlinewidth": 0,
              "ticks": ""
             }
            },
            "type": "parcoords"
           }
          ],
          "pie": [
           {
            "automargin": true,
            "type": "pie"
           }
          ],
          "scatter": [
           {
            "marker": {
             "colorbar": {
              "outlinewidth": 0,
              "ticks": ""
             }
            },
            "type": "scatter"
           }
          ],
          "scatter3d": [
           {
            "line": {
             "colorbar": {
              "outlinewidth": 0,
              "ticks": ""
             }
            },
            "marker": {
             "colorbar": {
              "outlinewidth": 0,
              "ticks": ""
             }
            },
            "type": "scatter3d"
           }
          ],
          "scattercarpet": [
           {
            "marker": {
             "colorbar": {
              "outlinewidth": 0,
              "ticks": ""
             }
            },
            "type": "scattercarpet"
           }
          ],
          "scattergeo": [
           {
            "marker": {
             "colorbar": {
              "outlinewidth": 0,
              "ticks": ""
             }
            },
            "type": "scattergeo"
           }
          ],
          "scattergl": [
           {
            "marker": {
             "colorbar": {
              "outlinewidth": 0,
              "ticks": ""
             }
            },
            "type": "scattergl"
           }
          ],
          "scattermapbox": [
           {
            "marker": {
             "colorbar": {
              "outlinewidth": 0,
              "ticks": ""
             }
            },
            "type": "scattermapbox"
           }
          ],
          "scatterpolar": [
           {
            "marker": {
             "colorbar": {
              "outlinewidth": 0,
              "ticks": ""
             }
            },
            "type": "scatterpolar"
           }
          ],
          "scatterpolargl": [
           {
            "marker": {
             "colorbar": {
              "outlinewidth": 0,
              "ticks": ""
             }
            },
            "type": "scatterpolargl"
           }
          ],
          "scatterternary": [
           {
            "marker": {
             "colorbar": {
              "outlinewidth": 0,
              "ticks": ""
             }
            },
            "type": "scatterternary"
           }
          ],
          "surface": [
           {
            "colorbar": {
             "outlinewidth": 0,
             "ticks": ""
            },
            "colorscale": [
             [
              0,
              "#0d0887"
             ],
             [
              0.1111111111111111,
              "#46039f"
             ],
             [
              0.2222222222222222,
              "#7201a8"
             ],
             [
              0.3333333333333333,
              "#9c179e"
             ],
             [
              0.4444444444444444,
              "#bd3786"
             ],
             [
              0.5555555555555556,
              "#d8576b"
             ],
             [
              0.6666666666666666,
              "#ed7953"
             ],
             [
              0.7777777777777778,
              "#fb9f3a"
             ],
             [
              0.8888888888888888,
              "#fdca26"
             ],
             [
              1,
              "#f0f921"
             ]
            ],
            "type": "surface"
           }
          ],
          "table": [
           {
            "cells": {
             "fill": {
              "color": "#EBF0F8"
             },
             "line": {
              "color": "white"
             }
            },
            "header": {
             "fill": {
              "color": "#C8D4E3"
             },
             "line": {
              "color": "white"
             }
            },
            "type": "table"
           }
          ]
         },
         "layout": {
          "annotationdefaults": {
           "arrowcolor": "#2a3f5f",
           "arrowhead": 0,
           "arrowwidth": 1
          },
          "autotypenumbers": "strict",
          "coloraxis": {
           "colorbar": {
            "outlinewidth": 0,
            "ticks": ""
           }
          },
          "colorscale": {
           "diverging": [
            [
             0,
             "#8e0152"
            ],
            [
             0.1,
             "#c51b7d"
            ],
            [
             0.2,
             "#de77ae"
            ],
            [
             0.3,
             "#f1b6da"
            ],
            [
             0.4,
             "#fde0ef"
            ],
            [
             0.5,
             "#f7f7f7"
            ],
            [
             0.6,
             "#e6f5d0"
            ],
            [
             0.7,
             "#b8e186"
            ],
            [
             0.8,
             "#7fbc41"
            ],
            [
             0.9,
             "#4d9221"
            ],
            [
             1,
             "#276419"
            ]
           ],
           "sequential": [
            [
             0,
             "#0d0887"
            ],
            [
             0.1111111111111111,
             "#46039f"
            ],
            [
             0.2222222222222222,
             "#7201a8"
            ],
            [
             0.3333333333333333,
             "#9c179e"
            ],
            [
             0.4444444444444444,
             "#bd3786"
            ],
            [
             0.5555555555555556,
             "#d8576b"
            ],
            [
             0.6666666666666666,
             "#ed7953"
            ],
            [
             0.7777777777777778,
             "#fb9f3a"
            ],
            [
             0.8888888888888888,
             "#fdca26"
            ],
            [
             1,
             "#f0f921"
            ]
           ],
           "sequentialminus": [
            [
             0,
             "#0d0887"
            ],
            [
             0.1111111111111111,
             "#46039f"
            ],
            [
             0.2222222222222222,
             "#7201a8"
            ],
            [
             0.3333333333333333,
             "#9c179e"
            ],
            [
             0.4444444444444444,
             "#bd3786"
            ],
            [
             0.5555555555555556,
             "#d8576b"
            ],
            [
             0.6666666666666666,
             "#ed7953"
            ],
            [
             0.7777777777777778,
             "#fb9f3a"
            ],
            [
             0.8888888888888888,
             "#fdca26"
            ],
            [
             1,
             "#f0f921"
            ]
           ]
          },
          "colorway": [
           "#636efa",
           "#EF553B",
           "#00cc96",
           "#ab63fa",
           "#FFA15A",
           "#19d3f3",
           "#FF6692",
           "#B6E880",
           "#FF97FF",
           "#FECB52"
          ],
          "font": {
           "color": "#2a3f5f"
          },
          "geo": {
           "bgcolor": "white",
           "lakecolor": "white",
           "landcolor": "#E5ECF6",
           "showlakes": true,
           "showland": true,
           "subunitcolor": "white"
          },
          "hoverlabel": {
           "align": "left"
          },
          "hovermode": "closest",
          "mapbox": {
           "style": "light"
          },
          "paper_bgcolor": "white",
          "plot_bgcolor": "#E5ECF6",
          "polar": {
           "angularaxis": {
            "gridcolor": "white",
            "linecolor": "white",
            "ticks": ""
           },
           "bgcolor": "#E5ECF6",
           "radialaxis": {
            "gridcolor": "white",
            "linecolor": "white",
            "ticks": ""
           }
          },
          "scene": {
           "xaxis": {
            "backgroundcolor": "#E5ECF6",
            "gridcolor": "white",
            "gridwidth": 2,
            "linecolor": "white",
            "showbackground": true,
            "ticks": "",
            "zerolinecolor": "white"
           },
           "yaxis": {
            "backgroundcolor": "#E5ECF6",
            "gridcolor": "white",
            "gridwidth": 2,
            "linecolor": "white",
            "showbackground": true,
            "ticks": "",
            "zerolinecolor": "white"
           },
           "zaxis": {
            "backgroundcolor": "#E5ECF6",
            "gridcolor": "white",
            "gridwidth": 2,
            "linecolor": "white",
            "showbackground": true,
            "ticks": "",
            "zerolinecolor": "white"
           }
          },
          "shapedefaults": {
           "line": {
            "color": "#2a3f5f"
           }
          },
          "ternary": {
           "aaxis": {
            "gridcolor": "white",
            "linecolor": "white",
            "ticks": ""
           },
           "baxis": {
            "gridcolor": "white",
            "linecolor": "white",
            "ticks": ""
           },
           "bgcolor": "#E5ECF6",
           "caxis": {
            "gridcolor": "white",
            "linecolor": "white",
            "ticks": ""
           }
          },
          "title": {
           "x": 0.05
          },
          "xaxis": {
           "automargin": true,
           "gridcolor": "white",
           "linecolor": "white",
           "ticks": "",
           "title": {
            "standoff": 15
           },
           "zerolinecolor": "white",
           "zerolinewidth": 2
          },
          "yaxis": {
           "automargin": true,
           "gridcolor": "white",
           "linecolor": "white",
           "ticks": "",
           "title": {
            "standoff": 15
           },
           "zerolinecolor": "white",
           "zerolinewidth": 2
          }
         }
        }
       }
      }
     },
     "metadata": {},
     "output_type": "display_data"
    }
   ],
   "source": [
    "trace1 = go.Box(y=df[\"Fracao_ejecao\"],name=\"Fracao_ejecao\")\n",
    "\n",
    "\n",
    "data = [trace1]\n",
    "iplot(data)"
   ]
  },
  {
   "cell_type": "code",
   "execution_count": 17,
   "metadata": {
    "cell_id": "885e7aca-b479-4db1-a336-59478e931bc7",
    "deepnote_cell_type": "code",
    "deepnote_to_be_reexecuted": false,
    "execution_millis": 28,
    "execution_start": 1645480466026,
    "source_hash": "c168d9ef",
    "tags": []
   },
   "outputs": [
    {
     "data": {
      "application/vnd.plotly.v1+json": {
       "config": {
        "linkText": "Export to plot.ly",
        "plotlyServerURL": "https://plot.ly",
        "showLink": false
       },
       "data": [
        {
         "name": "Plaquetas",
         "type": "box",
         "y": [
          265000,
          263358.03,
          162000,
          210000,
          327000,
          204000,
          127000,
          454000,
          263358.03,
          388000,
          368000,
          253000,
          136000,
          276000,
          427000,
          47000,
          262000,
          166000,
          237000,
          87000,
          276000,
          297000,
          289000,
          368000,
          263358.03,
          149000,
          196000,
          284000,
          153000,
          200000,
          263358.03,
          360000,
          319000,
          302000,
          188000,
          228000,
          226000,
          321000,
          305000,
          329000,
          263358.03,
          153000,
          185000,
          218000,
          194000,
          310000,
          271000,
          451000,
          140000,
          395000,
          166000,
          418000,
          263358.03,
          351000,
          255000,
          461000,
          223000,
          216000,
          319000,
          254000,
          390000,
          216000,
          254000,
          385000,
          263358.03,
          119000,
          213000,
          274000,
          244000,
          497000,
          374000,
          122000,
          243000,
          149000,
          266000,
          204000,
          317000,
          237000,
          283000,
          324000,
          293000,
          263358.03,
          196000,
          172000,
          302000,
          406000,
          173000,
          304000,
          235000,
          181000,
          249000,
          297000,
          263358.03,
          210000,
          327000,
          219000,
          254000,
          255000,
          318000,
          221000,
          298000,
          263358.03,
          149000,
          226000,
          286000,
          621000,
          263000,
          226000,
          304000,
          850000,
          306000,
          228000,
          252000,
          351000,
          328000,
          164000,
          271000,
          507000,
          203000,
          263358.03,
          210000,
          162000,
          228000,
          127000,
          217000,
          237000,
          271000,
          300000,
          267000,
          227000,
          249000,
          250000,
          263358.03,
          295000,
          231000,
          263358.03,
          172000,
          305000,
          221000,
          211000,
          263358.03,
          348000,
          329000,
          229000,
          338000,
          266000,
          218000,
          242000,
          225000,
          228000,
          235000,
          244000,
          184000,
          263358.03,
          235000,
          194000,
          277000,
          262000,
          235000,
          362000,
          242000,
          174000,
          448000,
          75000,
          334000,
          192000,
          220000,
          70000,
          270000,
          305000,
          263358.03,
          325000,
          176000,
          189000,
          281000,
          337000,
          105000,
          132000,
          267000,
          279000,
          303000,
          221000,
          265000,
          224000,
          219000,
          389000,
          153000,
          365000,
          201000,
          275000,
          350000,
          309000,
          260000,
          160000,
          126000,
          223000,
          263358.03,
          259000,
          279000,
          263358.03,
          73000,
          377000,
          220000,
          212000,
          277000,
          362000,
          226000,
          186000,
          283000,
          268000,
          389000,
          147000,
          481000,
          244000,
          290000,
          203000,
          358000,
          151000,
          271000,
          371000,
          263358.03,
          194000,
          365000,
          130000,
          504000,
          265000,
          189000,
          141000,
          237000,
          274000,
          62000,
          185000,
          255000,
          330000,
          305000,
          406000,
          248000,
          173000,
          257000,
          263358.03,
          533000,
          249000,
          255000,
          220000,
          264000,
          282000,
          314000,
          246000,
          301000,
          223000,
          404000,
          231000,
          274000,
          236000,
          263358.03,
          334000,
          294000,
          253000,
          233000,
          308000,
          203000,
          283000,
          198000,
          208000,
          147000,
          362000,
          263358.03,
          133000,
          302000,
          222000,
          263358.03,
          221000,
          215000,
          189000,
          150000,
          422000,
          327000,
          25100,
          232000,
          451000,
          241000,
          51000,
          215000,
          263358.03,
          279000,
          336000,
          279000,
          543000,
          263358.03,
          390000,
          222000,
          133000,
          382000,
          179000,
          155000,
          270000,
          742000,
          140000,
          395000
         ]
        }
       ],
       "layout": {
        "template": {
         "data": {
          "bar": [
           {
            "error_x": {
             "color": "#2a3f5f"
            },
            "error_y": {
             "color": "#2a3f5f"
            },
            "marker": {
             "line": {
              "color": "#E5ECF6",
              "width": 0.5
             },
             "pattern": {
              "fillmode": "overlay",
              "size": 10,
              "solidity": 0.2
             }
            },
            "type": "bar"
           }
          ],
          "barpolar": [
           {
            "marker": {
             "line": {
              "color": "#E5ECF6",
              "width": 0.5
             },
             "pattern": {
              "fillmode": "overlay",
              "size": 10,
              "solidity": 0.2
             }
            },
            "type": "barpolar"
           }
          ],
          "carpet": [
           {
            "aaxis": {
             "endlinecolor": "#2a3f5f",
             "gridcolor": "white",
             "linecolor": "white",
             "minorgridcolor": "white",
             "startlinecolor": "#2a3f5f"
            },
            "baxis": {
             "endlinecolor": "#2a3f5f",
             "gridcolor": "white",
             "linecolor": "white",
             "minorgridcolor": "white",
             "startlinecolor": "#2a3f5f"
            },
            "type": "carpet"
           }
          ],
          "choropleth": [
           {
            "colorbar": {
             "outlinewidth": 0,
             "ticks": ""
            },
            "type": "choropleth"
           }
          ],
          "contour": [
           {
            "colorbar": {
             "outlinewidth": 0,
             "ticks": ""
            },
            "colorscale": [
             [
              0,
              "#0d0887"
             ],
             [
              0.1111111111111111,
              "#46039f"
             ],
             [
              0.2222222222222222,
              "#7201a8"
             ],
             [
              0.3333333333333333,
              "#9c179e"
             ],
             [
              0.4444444444444444,
              "#bd3786"
             ],
             [
              0.5555555555555556,
              "#d8576b"
             ],
             [
              0.6666666666666666,
              "#ed7953"
             ],
             [
              0.7777777777777778,
              "#fb9f3a"
             ],
             [
              0.8888888888888888,
              "#fdca26"
             ],
             [
              1,
              "#f0f921"
             ]
            ],
            "type": "contour"
           }
          ],
          "contourcarpet": [
           {
            "colorbar": {
             "outlinewidth": 0,
             "ticks": ""
            },
            "type": "contourcarpet"
           }
          ],
          "heatmap": [
           {
            "colorbar": {
             "outlinewidth": 0,
             "ticks": ""
            },
            "colorscale": [
             [
              0,
              "#0d0887"
             ],
             [
              0.1111111111111111,
              "#46039f"
             ],
             [
              0.2222222222222222,
              "#7201a8"
             ],
             [
              0.3333333333333333,
              "#9c179e"
             ],
             [
              0.4444444444444444,
              "#bd3786"
             ],
             [
              0.5555555555555556,
              "#d8576b"
             ],
             [
              0.6666666666666666,
              "#ed7953"
             ],
             [
              0.7777777777777778,
              "#fb9f3a"
             ],
             [
              0.8888888888888888,
              "#fdca26"
             ],
             [
              1,
              "#f0f921"
             ]
            ],
            "type": "heatmap"
           }
          ],
          "heatmapgl": [
           {
            "colorbar": {
             "outlinewidth": 0,
             "ticks": ""
            },
            "colorscale": [
             [
              0,
              "#0d0887"
             ],
             [
              0.1111111111111111,
              "#46039f"
             ],
             [
              0.2222222222222222,
              "#7201a8"
             ],
             [
              0.3333333333333333,
              "#9c179e"
             ],
             [
              0.4444444444444444,
              "#bd3786"
             ],
             [
              0.5555555555555556,
              "#d8576b"
             ],
             [
              0.6666666666666666,
              "#ed7953"
             ],
             [
              0.7777777777777778,
              "#fb9f3a"
             ],
             [
              0.8888888888888888,
              "#fdca26"
             ],
             [
              1,
              "#f0f921"
             ]
            ],
            "type": "heatmapgl"
           }
          ],
          "histogram": [
           {
            "marker": {
             "pattern": {
              "fillmode": "overlay",
              "size": 10,
              "solidity": 0.2
             }
            },
            "type": "histogram"
           }
          ],
          "histogram2d": [
           {
            "colorbar": {
             "outlinewidth": 0,
             "ticks": ""
            },
            "colorscale": [
             [
              0,
              "#0d0887"
             ],
             [
              0.1111111111111111,
              "#46039f"
             ],
             [
              0.2222222222222222,
              "#7201a8"
             ],
             [
              0.3333333333333333,
              "#9c179e"
             ],
             [
              0.4444444444444444,
              "#bd3786"
             ],
             [
              0.5555555555555556,
              "#d8576b"
             ],
             [
              0.6666666666666666,
              "#ed7953"
             ],
             [
              0.7777777777777778,
              "#fb9f3a"
             ],
             [
              0.8888888888888888,
              "#fdca26"
             ],
             [
              1,
              "#f0f921"
             ]
            ],
            "type": "histogram2d"
           }
          ],
          "histogram2dcontour": [
           {
            "colorbar": {
             "outlinewidth": 0,
             "ticks": ""
            },
            "colorscale": [
             [
              0,
              "#0d0887"
             ],
             [
              0.1111111111111111,
              "#46039f"
             ],
             [
              0.2222222222222222,
              "#7201a8"
             ],
             [
              0.3333333333333333,
              "#9c179e"
             ],
             [
              0.4444444444444444,
              "#bd3786"
             ],
             [
              0.5555555555555556,
              "#d8576b"
             ],
             [
              0.6666666666666666,
              "#ed7953"
             ],
             [
              0.7777777777777778,
              "#fb9f3a"
             ],
             [
              0.8888888888888888,
              "#fdca26"
             ],
             [
              1,
              "#f0f921"
             ]
            ],
            "type": "histogram2dcontour"
           }
          ],
          "mesh3d": [
           {
            "colorbar": {
             "outlinewidth": 0,
             "ticks": ""
            },
            "type": "mesh3d"
           }
          ],
          "parcoords": [
           {
            "line": {
             "colorbar": {
              "outlinewidth": 0,
              "ticks": ""
             }
            },
            "type": "parcoords"
           }
          ],
          "pie": [
           {
            "automargin": true,
            "type": "pie"
           }
          ],
          "scatter": [
           {
            "marker": {
             "colorbar": {
              "outlinewidth": 0,
              "ticks": ""
             }
            },
            "type": "scatter"
           }
          ],
          "scatter3d": [
           {
            "line": {
             "colorbar": {
              "outlinewidth": 0,
              "ticks": ""
             }
            },
            "marker": {
             "colorbar": {
              "outlinewidth": 0,
              "ticks": ""
             }
            },
            "type": "scatter3d"
           }
          ],
          "scattercarpet": [
           {
            "marker": {
             "colorbar": {
              "outlinewidth": 0,
              "ticks": ""
             }
            },
            "type": "scattercarpet"
           }
          ],
          "scattergeo": [
           {
            "marker": {
             "colorbar": {
              "outlinewidth": 0,
              "ticks": ""
             }
            },
            "type": "scattergeo"
           }
          ],
          "scattergl": [
           {
            "marker": {
             "colorbar": {
              "outlinewidth": 0,
              "ticks": ""
             }
            },
            "type": "scattergl"
           }
          ],
          "scattermapbox": [
           {
            "marker": {
             "colorbar": {
              "outlinewidth": 0,
              "ticks": ""
             }
            },
            "type": "scattermapbox"
           }
          ],
          "scatterpolar": [
           {
            "marker": {
             "colorbar": {
              "outlinewidth": 0,
              "ticks": ""
             }
            },
            "type": "scatterpolar"
           }
          ],
          "scatterpolargl": [
           {
            "marker": {
             "colorbar": {
              "outlinewidth": 0,
              "ticks": ""
             }
            },
            "type": "scatterpolargl"
           }
          ],
          "scatterternary": [
           {
            "marker": {
             "colorbar": {
              "outlinewidth": 0,
              "ticks": ""
             }
            },
            "type": "scatterternary"
           }
          ],
          "surface": [
           {
            "colorbar": {
             "outlinewidth": 0,
             "ticks": ""
            },
            "colorscale": [
             [
              0,
              "#0d0887"
             ],
             [
              0.1111111111111111,
              "#46039f"
             ],
             [
              0.2222222222222222,
              "#7201a8"
             ],
             [
              0.3333333333333333,
              "#9c179e"
             ],
             [
              0.4444444444444444,
              "#bd3786"
             ],
             [
              0.5555555555555556,
              "#d8576b"
             ],
             [
              0.6666666666666666,
              "#ed7953"
             ],
             [
              0.7777777777777778,
              "#fb9f3a"
             ],
             [
              0.8888888888888888,
              "#fdca26"
             ],
             [
              1,
              "#f0f921"
             ]
            ],
            "type": "surface"
           }
          ],
          "table": [
           {
            "cells": {
             "fill": {
              "color": "#EBF0F8"
             },
             "line": {
              "color": "white"
             }
            },
            "header": {
             "fill": {
              "color": "#C8D4E3"
             },
             "line": {
              "color": "white"
             }
            },
            "type": "table"
           }
          ]
         },
         "layout": {
          "annotationdefaults": {
           "arrowcolor": "#2a3f5f",
           "arrowhead": 0,
           "arrowwidth": 1
          },
          "autotypenumbers": "strict",
          "coloraxis": {
           "colorbar": {
            "outlinewidth": 0,
            "ticks": ""
           }
          },
          "colorscale": {
           "diverging": [
            [
             0,
             "#8e0152"
            ],
            [
             0.1,
             "#c51b7d"
            ],
            [
             0.2,
             "#de77ae"
            ],
            [
             0.3,
             "#f1b6da"
            ],
            [
             0.4,
             "#fde0ef"
            ],
            [
             0.5,
             "#f7f7f7"
            ],
            [
             0.6,
             "#e6f5d0"
            ],
            [
             0.7,
             "#b8e186"
            ],
            [
             0.8,
             "#7fbc41"
            ],
            [
             0.9,
             "#4d9221"
            ],
            [
             1,
             "#276419"
            ]
           ],
           "sequential": [
            [
             0,
             "#0d0887"
            ],
            [
             0.1111111111111111,
             "#46039f"
            ],
            [
             0.2222222222222222,
             "#7201a8"
            ],
            [
             0.3333333333333333,
             "#9c179e"
            ],
            [
             0.4444444444444444,
             "#bd3786"
            ],
            [
             0.5555555555555556,
             "#d8576b"
            ],
            [
             0.6666666666666666,
             "#ed7953"
            ],
            [
             0.7777777777777778,
             "#fb9f3a"
            ],
            [
             0.8888888888888888,
             "#fdca26"
            ],
            [
             1,
             "#f0f921"
            ]
           ],
           "sequentialminus": [
            [
             0,
             "#0d0887"
            ],
            [
             0.1111111111111111,
             "#46039f"
            ],
            [
             0.2222222222222222,
             "#7201a8"
            ],
            [
             0.3333333333333333,
             "#9c179e"
            ],
            [
             0.4444444444444444,
             "#bd3786"
            ],
            [
             0.5555555555555556,
             "#d8576b"
            ],
            [
             0.6666666666666666,
             "#ed7953"
            ],
            [
             0.7777777777777778,
             "#fb9f3a"
            ],
            [
             0.8888888888888888,
             "#fdca26"
            ],
            [
             1,
             "#f0f921"
            ]
           ]
          },
          "colorway": [
           "#636efa",
           "#EF553B",
           "#00cc96",
           "#ab63fa",
           "#FFA15A",
           "#19d3f3",
           "#FF6692",
           "#B6E880",
           "#FF97FF",
           "#FECB52"
          ],
          "font": {
           "color": "#2a3f5f"
          },
          "geo": {
           "bgcolor": "white",
           "lakecolor": "white",
           "landcolor": "#E5ECF6",
           "showlakes": true,
           "showland": true,
           "subunitcolor": "white"
          },
          "hoverlabel": {
           "align": "left"
          },
          "hovermode": "closest",
          "mapbox": {
           "style": "light"
          },
          "paper_bgcolor": "white",
          "plot_bgcolor": "#E5ECF6",
          "polar": {
           "angularaxis": {
            "gridcolor": "white",
            "linecolor": "white",
            "ticks": ""
           },
           "bgcolor": "#E5ECF6",
           "radialaxis": {
            "gridcolor": "white",
            "linecolor": "white",
            "ticks": ""
           }
          },
          "scene": {
           "xaxis": {
            "backgroundcolor": "#E5ECF6",
            "gridcolor": "white",
            "gridwidth": 2,
            "linecolor": "white",
            "showbackground": true,
            "ticks": "",
            "zerolinecolor": "white"
           },
           "yaxis": {
            "backgroundcolor": "#E5ECF6",
            "gridcolor": "white",
            "gridwidth": 2,
            "linecolor": "white",
            "showbackground": true,
            "ticks": "",
            "zerolinecolor": "white"
           },
           "zaxis": {
            "backgroundcolor": "#E5ECF6",
            "gridcolor": "white",
            "gridwidth": 2,
            "linecolor": "white",
            "showbackground": true,
            "ticks": "",
            "zerolinecolor": "white"
           }
          },
          "shapedefaults": {
           "line": {
            "color": "#2a3f5f"
           }
          },
          "ternary": {
           "aaxis": {
            "gridcolor": "white",
            "linecolor": "white",
            "ticks": ""
           },
           "baxis": {
            "gridcolor": "white",
            "linecolor": "white",
            "ticks": ""
           },
           "bgcolor": "#E5ECF6",
           "caxis": {
            "gridcolor": "white",
            "linecolor": "white",
            "ticks": ""
           }
          },
          "title": {
           "x": 0.05
          },
          "xaxis": {
           "automargin": true,
           "gridcolor": "white",
           "linecolor": "white",
           "ticks": "",
           "title": {
            "standoff": 15
           },
           "zerolinecolor": "white",
           "zerolinewidth": 2
          },
          "yaxis": {
           "automargin": true,
           "gridcolor": "white",
           "linecolor": "white",
           "ticks": "",
           "title": {
            "standoff": 15
           },
           "zerolinecolor": "white",
           "zerolinewidth": 2
          }
         }
        }
       }
      }
     },
     "metadata": {},
     "output_type": "display_data"
    }
   ],
   "source": [
    "trace2 = go.Box(y=df[\"Plaquetas\"],name=\"Plaquetas\")\n",
    "\n",
    "\n",
    "data = [trace2]\n",
    "iplot(data)"
   ]
  },
  {
   "cell_type": "code",
   "execution_count": 18,
   "metadata": {
    "cell_id": "7be43151-ef84-4379-949e-3de5f5068312",
    "deepnote_cell_type": "code",
    "deepnote_to_be_reexecuted": false,
    "execution_millis": 18,
    "execution_start": 1645480466088,
    "source_hash": "d7b18ff9",
    "tags": []
   },
   "outputs": [
    {
     "data": {
      "application/vnd.plotly.v1+json": {
       "config": {
        "linkText": "Export to plot.ly",
        "plotlyServerURL": "https://plot.ly",
        "showLink": false
       },
       "data": [
        {
         "name": "Creatinina_soro",
         "type": "box",
         "y": [
          1.9,
          1.1,
          1.3,
          1.9,
          2.7,
          2.1,
          1.2,
          1.1,
          1.5,
          9.4,
          4,
          0.9,
          1.1,
          1.1,
          1,
          1.3,
          0.9,
          0.8,
          1,
          1.9,
          1.3,
          1.6,
          0.9,
          0.8,
          1.83,
          1.9,
          1,
          1.3,
          5.8,
          1.2,
          1.83,
          3,
          1,
          1.2,
          1,
          3.5,
          1,
          1,
          2.3,
          3,
          1.83,
          1.2,
          1.2,
          1,
          1.1,
          1.9,
          0.9,
          0.6,
          4.4,
          1,
          1,
          1.4,
          6.8,
          1,
          2.2,
          2,
          2.7,
          0.6,
          1.1,
          1.3,
          1,
          2.3,
          1.1,
          1,
          1.18,
          2.9,
          1.3,
          1,
          1.2,
          1.83,
          0.8,
          0.9,
          1,
          1.3,
          1.2,
          0.7,
          0.8,
          1.2,
          0.6,
          0.9,
          1.7,
          1.18,
          2.5,
          1.8,
          1,
          0.7,
          1.1,
          0.8,
          0.7,
          1.1,
          0.8,
          1,
          1.18,
          1.7,
          0.7,
          1,
          1.3,
          1.1,
          1.2,
          1.1,
          1.1,
          1.18,
          1.1,
          1,
          2.3,
          1.7,
          1.3,
          0.9,
          1.1,
          1.3,
          1.2,
          1.2,
          1.6,
          1.3,
          1.2,
          1,
          0.7,
          3.2,
          0.9,
          1.83,
          1.5,
          1,
          0.75,
          0.9,
          3.7,
          1.3,
          2.1,
          0.8,
          0.7,
          3.4,
          0.7,
          6.1,
          1.18,
          1.3,
          1.18,
          1.18,
          0.9,
          2.1,
          1,
          0.8,
          1.1,
          0.9,
          0.9,
          0.9,
          1.7,
          0.7,
          0.7,
          1,
          1.83,
          0.9,
          2.5,
          0.9,
          0.9,
          1.18,
          0.8,
          1.7,
          1.4,
          1,
          1.3,
          1.1,
          1.2,
          0.8,
          0.9,
          0.9,
          1.1,
          1.3,
          0.7,
          2.4,
          1,
          0.8,
          1.5,
          0.9,
          1.1,
          0.8,
          0.9,
          1,
          1,
          1,
          1.2,
          0.7,
          0.9,
          1,
          1.2,
          2.5,
          1.2,
          1.5,
          0.6,
          2.1,
          1,
          0.9,
          2.1,
          1.5,
          0.7,
          1.18,
          1.6,
          1.8,
          1.18,
          0.8,
          1,
          1.8,
          0.7,
          1,
          0.9,
          3.5,
          0.7,
          1,
          0.8,
          0.9,
          1,
          0.8,
          1,
          0.8,
          1.4,
          1.6,
          0.8,
          1.3,
          0.9,
          9,
          1.1,
          0.7,
          1.83,
          1.1,
          1.1,
          0.8,
          1,
          1.4,
          1.3,
          1,
          5,
          1.2,
          1.7,
          1.1,
          0.9,
          1.4,
          1.1,
          1.1,
          1.1,
          1.2,
          1,
          1.18,
          1.3,
          1.3,
          1.1,
          0.9,
          1.8,
          1.4,
          1.1,
          2.4,
          1,
          1.2,
          0.5,
          0.8,
          1,
          1.2,
          1,
          1,
          1.7,
          1,
          0.8,
          0.7,
          1,
          0.7,
          1.4,
          1,
          1.2,
          0.9,
          1.83,
          1.7,
          0.9,
          1,
          1.6,
          0.9,
          1.2,
          0.7,
          1,
          0.8,
          1.1,
          1.1,
          0.7,
          1.3,
          1,
          2.7,
          3.8,
          1.1,
          0.8,
          1.2,
          1.7,
          1,
          1.1,
          0.9,
          0.8,
          1.4,
          1,
          0.9,
          1.1,
          1.2,
          0.8,
          1.4,
          1.6
         ]
        }
       ],
       "layout": {
        "template": {
         "data": {
          "bar": [
           {
            "error_x": {
             "color": "#2a3f5f"
            },
            "error_y": {
             "color": "#2a3f5f"
            },
            "marker": {
             "line": {
              "color": "#E5ECF6",
              "width": 0.5
             },
             "pattern": {
              "fillmode": "overlay",
              "size": 10,
              "solidity": 0.2
             }
            },
            "type": "bar"
           }
          ],
          "barpolar": [
           {
            "marker": {
             "line": {
              "color": "#E5ECF6",
              "width": 0.5
             },
             "pattern": {
              "fillmode": "overlay",
              "size": 10,
              "solidity": 0.2
             }
            },
            "type": "barpolar"
           }
          ],
          "carpet": [
           {
            "aaxis": {
             "endlinecolor": "#2a3f5f",
             "gridcolor": "white",
             "linecolor": "white",
             "minorgridcolor": "white",
             "startlinecolor": "#2a3f5f"
            },
            "baxis": {
             "endlinecolor": "#2a3f5f",
             "gridcolor": "white",
             "linecolor": "white",
             "minorgridcolor": "white",
             "startlinecolor": "#2a3f5f"
            },
            "type": "carpet"
           }
          ],
          "choropleth": [
           {
            "colorbar": {
             "outlinewidth": 0,
             "ticks": ""
            },
            "type": "choropleth"
           }
          ],
          "contour": [
           {
            "colorbar": {
             "outlinewidth": 0,
             "ticks": ""
            },
            "colorscale": [
             [
              0,
              "#0d0887"
             ],
             [
              0.1111111111111111,
              "#46039f"
             ],
             [
              0.2222222222222222,
              "#7201a8"
             ],
             [
              0.3333333333333333,
              "#9c179e"
             ],
             [
              0.4444444444444444,
              "#bd3786"
             ],
             [
              0.5555555555555556,
              "#d8576b"
             ],
             [
              0.6666666666666666,
              "#ed7953"
             ],
             [
              0.7777777777777778,
              "#fb9f3a"
             ],
             [
              0.8888888888888888,
              "#fdca26"
             ],
             [
              1,
              "#f0f921"
             ]
            ],
            "type": "contour"
           }
          ],
          "contourcarpet": [
           {
            "colorbar": {
             "outlinewidth": 0,
             "ticks": ""
            },
            "type": "contourcarpet"
           }
          ],
          "heatmap": [
           {
            "colorbar": {
             "outlinewidth": 0,
             "ticks": ""
            },
            "colorscale": [
             [
              0,
              "#0d0887"
             ],
             [
              0.1111111111111111,
              "#46039f"
             ],
             [
              0.2222222222222222,
              "#7201a8"
             ],
             [
              0.3333333333333333,
              "#9c179e"
             ],
             [
              0.4444444444444444,
              "#bd3786"
             ],
             [
              0.5555555555555556,
              "#d8576b"
             ],
             [
              0.6666666666666666,
              "#ed7953"
             ],
             [
              0.7777777777777778,
              "#fb9f3a"
             ],
             [
              0.8888888888888888,
              "#fdca26"
             ],
             [
              1,
              "#f0f921"
             ]
            ],
            "type": "heatmap"
           }
          ],
          "heatmapgl": [
           {
            "colorbar": {
             "outlinewidth": 0,
             "ticks": ""
            },
            "colorscale": [
             [
              0,
              "#0d0887"
             ],
             [
              0.1111111111111111,
              "#46039f"
             ],
             [
              0.2222222222222222,
              "#7201a8"
             ],
             [
              0.3333333333333333,
              "#9c179e"
             ],
             [
              0.4444444444444444,
              "#bd3786"
             ],
             [
              0.5555555555555556,
              "#d8576b"
             ],
             [
              0.6666666666666666,
              "#ed7953"
             ],
             [
              0.7777777777777778,
              "#fb9f3a"
             ],
             [
              0.8888888888888888,
              "#fdca26"
             ],
             [
              1,
              "#f0f921"
             ]
            ],
            "type": "heatmapgl"
           }
          ],
          "histogram": [
           {
            "marker": {
             "pattern": {
              "fillmode": "overlay",
              "size": 10,
              "solidity": 0.2
             }
            },
            "type": "histogram"
           }
          ],
          "histogram2d": [
           {
            "colorbar": {
             "outlinewidth": 0,
             "ticks": ""
            },
            "colorscale": [
             [
              0,
              "#0d0887"
             ],
             [
              0.1111111111111111,
              "#46039f"
             ],
             [
              0.2222222222222222,
              "#7201a8"
             ],
             [
              0.3333333333333333,
              "#9c179e"
             ],
             [
              0.4444444444444444,
              "#bd3786"
             ],
             [
              0.5555555555555556,
              "#d8576b"
             ],
             [
              0.6666666666666666,
              "#ed7953"
             ],
             [
              0.7777777777777778,
              "#fb9f3a"
             ],
             [
              0.8888888888888888,
              "#fdca26"
             ],
             [
              1,
              "#f0f921"
             ]
            ],
            "type": "histogram2d"
           }
          ],
          "histogram2dcontour": [
           {
            "colorbar": {
             "outlinewidth": 0,
             "ticks": ""
            },
            "colorscale": [
             [
              0,
              "#0d0887"
             ],
             [
              0.1111111111111111,
              "#46039f"
             ],
             [
              0.2222222222222222,
              "#7201a8"
             ],
             [
              0.3333333333333333,
              "#9c179e"
             ],
             [
              0.4444444444444444,
              "#bd3786"
             ],
             [
              0.5555555555555556,
              "#d8576b"
             ],
             [
              0.6666666666666666,
              "#ed7953"
             ],
             [
              0.7777777777777778,
              "#fb9f3a"
             ],
             [
              0.8888888888888888,
              "#fdca26"
             ],
             [
              1,
              "#f0f921"
             ]
            ],
            "type": "histogram2dcontour"
           }
          ],
          "mesh3d": [
           {
            "colorbar": {
             "outlinewidth": 0,
             "ticks": ""
            },
            "type": "mesh3d"
           }
          ],
          "parcoords": [
           {
            "line": {
             "colorbar": {
              "outlinewidth": 0,
              "ticks": ""
             }
            },
            "type": "parcoords"
           }
          ],
          "pie": [
           {
            "automargin": true,
            "type": "pie"
           }
          ],
          "scatter": [
           {
            "marker": {
             "colorbar": {
              "outlinewidth": 0,
              "ticks": ""
             }
            },
            "type": "scatter"
           }
          ],
          "scatter3d": [
           {
            "line": {
             "colorbar": {
              "outlinewidth": 0,
              "ticks": ""
             }
            },
            "marker": {
             "colorbar": {
              "outlinewidth": 0,
              "ticks": ""
             }
            },
            "type": "scatter3d"
           }
          ],
          "scattercarpet": [
           {
            "marker": {
             "colorbar": {
              "outlinewidth": 0,
              "ticks": ""
             }
            },
            "type": "scattercarpet"
           }
          ],
          "scattergeo": [
           {
            "marker": {
             "colorbar": {
              "outlinewidth": 0,
              "ticks": ""
             }
            },
            "type": "scattergeo"
           }
          ],
          "scattergl": [
           {
            "marker": {
             "colorbar": {
              "outlinewidth": 0,
              "ticks": ""
             }
            },
            "type": "scattergl"
           }
          ],
          "scattermapbox": [
           {
            "marker": {
             "colorbar": {
              "outlinewidth": 0,
              "ticks": ""
             }
            },
            "type": "scattermapbox"
           }
          ],
          "scatterpolar": [
           {
            "marker": {
             "colorbar": {
              "outlinewidth": 0,
              "ticks": ""
             }
            },
            "type": "scatterpolar"
           }
          ],
          "scatterpolargl": [
           {
            "marker": {
             "colorbar": {
              "outlinewidth": 0,
              "ticks": ""
             }
            },
            "type": "scatterpolargl"
           }
          ],
          "scatterternary": [
           {
            "marker": {
             "colorbar": {
              "outlinewidth": 0,
              "ticks": ""
             }
            },
            "type": "scatterternary"
           }
          ],
          "surface": [
           {
            "colorbar": {
             "outlinewidth": 0,
             "ticks": ""
            },
            "colorscale": [
             [
              0,
              "#0d0887"
             ],
             [
              0.1111111111111111,
              "#46039f"
             ],
             [
              0.2222222222222222,
              "#7201a8"
             ],
             [
              0.3333333333333333,
              "#9c179e"
             ],
             [
              0.4444444444444444,
              "#bd3786"
             ],
             [
              0.5555555555555556,
              "#d8576b"
             ],
             [
              0.6666666666666666,
              "#ed7953"
             ],
             [
              0.7777777777777778,
              "#fb9f3a"
             ],
             [
              0.8888888888888888,
              "#fdca26"
             ],
             [
              1,
              "#f0f921"
             ]
            ],
            "type": "surface"
           }
          ],
          "table": [
           {
            "cells": {
             "fill": {
              "color": "#EBF0F8"
             },
             "line": {
              "color": "white"
             }
            },
            "header": {
             "fill": {
              "color": "#C8D4E3"
             },
             "line": {
              "color": "white"
             }
            },
            "type": "table"
           }
          ]
         },
         "layout": {
          "annotationdefaults": {
           "arrowcolor": "#2a3f5f",
           "arrowhead": 0,
           "arrowwidth": 1
          },
          "autotypenumbers": "strict",
          "coloraxis": {
           "colorbar": {
            "outlinewidth": 0,
            "ticks": ""
           }
          },
          "colorscale": {
           "diverging": [
            [
             0,
             "#8e0152"
            ],
            [
             0.1,
             "#c51b7d"
            ],
            [
             0.2,
             "#de77ae"
            ],
            [
             0.3,
             "#f1b6da"
            ],
            [
             0.4,
             "#fde0ef"
            ],
            [
             0.5,
             "#f7f7f7"
            ],
            [
             0.6,
             "#e6f5d0"
            ],
            [
             0.7,
             "#b8e186"
            ],
            [
             0.8,
             "#7fbc41"
            ],
            [
             0.9,
             "#4d9221"
            ],
            [
             1,
             "#276419"
            ]
           ],
           "sequential": [
            [
             0,
             "#0d0887"
            ],
            [
             0.1111111111111111,
             "#46039f"
            ],
            [
             0.2222222222222222,
             "#7201a8"
            ],
            [
             0.3333333333333333,
             "#9c179e"
            ],
            [
             0.4444444444444444,
             "#bd3786"
            ],
            [
             0.5555555555555556,
             "#d8576b"
            ],
            [
             0.6666666666666666,
             "#ed7953"
            ],
            [
             0.7777777777777778,
             "#fb9f3a"
            ],
            [
             0.8888888888888888,
             "#fdca26"
            ],
            [
             1,
             "#f0f921"
            ]
           ],
           "sequentialminus": [
            [
             0,
             "#0d0887"
            ],
            [
             0.1111111111111111,
             "#46039f"
            ],
            [
             0.2222222222222222,
             "#7201a8"
            ],
            [
             0.3333333333333333,
             "#9c179e"
            ],
            [
             0.4444444444444444,
             "#bd3786"
            ],
            [
             0.5555555555555556,
             "#d8576b"
            ],
            [
             0.6666666666666666,
             "#ed7953"
            ],
            [
             0.7777777777777778,
             "#fb9f3a"
            ],
            [
             0.8888888888888888,
             "#fdca26"
            ],
            [
             1,
             "#f0f921"
            ]
           ]
          },
          "colorway": [
           "#636efa",
           "#EF553B",
           "#00cc96",
           "#ab63fa",
           "#FFA15A",
           "#19d3f3",
           "#FF6692",
           "#B6E880",
           "#FF97FF",
           "#FECB52"
          ],
          "font": {
           "color": "#2a3f5f"
          },
          "geo": {
           "bgcolor": "white",
           "lakecolor": "white",
           "landcolor": "#E5ECF6",
           "showlakes": true,
           "showland": true,
           "subunitcolor": "white"
          },
          "hoverlabel": {
           "align": "left"
          },
          "hovermode": "closest",
          "mapbox": {
           "style": "light"
          },
          "paper_bgcolor": "white",
          "plot_bgcolor": "#E5ECF6",
          "polar": {
           "angularaxis": {
            "gridcolor": "white",
            "linecolor": "white",
            "ticks": ""
           },
           "bgcolor": "#E5ECF6",
           "radialaxis": {
            "gridcolor": "white",
            "linecolor": "white",
            "ticks": ""
           }
          },
          "scene": {
           "xaxis": {
            "backgroundcolor": "#E5ECF6",
            "gridcolor": "white",
            "gridwidth": 2,
            "linecolor": "white",
            "showbackground": true,
            "ticks": "",
            "zerolinecolor": "white"
           },
           "yaxis": {
            "backgroundcolor": "#E5ECF6",
            "gridcolor": "white",
            "gridwidth": 2,
            "linecolor": "white",
            "showbackground": true,
            "ticks": "",
            "zerolinecolor": "white"
           },
           "zaxis": {
            "backgroundcolor": "#E5ECF6",
            "gridcolor": "white",
            "gridwidth": 2,
            "linecolor": "white",
            "showbackground": true,
            "ticks": "",
            "zerolinecolor": "white"
           }
          },
          "shapedefaults": {
           "line": {
            "color": "#2a3f5f"
           }
          },
          "ternary": {
           "aaxis": {
            "gridcolor": "white",
            "linecolor": "white",
            "ticks": ""
           },
           "baxis": {
            "gridcolor": "white",
            "linecolor": "white",
            "ticks": ""
           },
           "bgcolor": "#E5ECF6",
           "caxis": {
            "gridcolor": "white",
            "linecolor": "white",
            "ticks": ""
           }
          },
          "title": {
           "x": 0.05
          },
          "xaxis": {
           "automargin": true,
           "gridcolor": "white",
           "linecolor": "white",
           "ticks": "",
           "title": {
            "standoff": 15
           },
           "zerolinecolor": "white",
           "zerolinewidth": 2
          },
          "yaxis": {
           "automargin": true,
           "gridcolor": "white",
           "linecolor": "white",
           "ticks": "",
           "title": {
            "standoff": 15
           },
           "zerolinecolor": "white",
           "zerolinewidth": 2
          }
         }
        }
       }
      }
     },
     "metadata": {},
     "output_type": "display_data"
    }
   ],
   "source": [
    "trace3 = go.Box(y=df[\"Creatinina_soro\"],name=\"Creatinina_soro\")\n",
    "\n",
    "\n",
    "data = [trace3]\n",
    "iplot(data)"
   ]
  },
  {
   "cell_type": "code",
   "execution_count": 19,
   "metadata": {
    "cell_id": "eb490241-3960-4fb1-b191-730fe0e192b4",
    "deepnote_cell_type": "code",
    "deepnote_to_be_reexecuted": false,
    "execution_millis": 29,
    "execution_start": 1645480466112,
    "source_hash": "c0cf21fd",
    "tags": []
   },
   "outputs": [
    {
     "data": {
      "application/vnd.plotly.v1+json": {
       "config": {
        "linkText": "Export to plot.ly",
        "plotlyServerURL": "https://plot.ly",
        "showLink": false
       },
       "data": [
        {
         "name": "Sodio_soro",
         "type": "box",
         "y": [
          130,
          136,
          129,
          137,
          116,
          132,
          137,
          131,
          138,
          133,
          131,
          140,
          137,
          137,
          138,
          136,
          140,
          127,
          140,
          121,
          137,
          136,
          140,
          135,
          134,
          144,
          138,
          136,
          134,
          132,
          134,
          132,
          128,
          138,
          140,
          134,
          134,
          145,
          137,
          142,
          134,
          136,
          139,
          134,
          142,
          135,
          130,
          138,
          133,
          140,
          138,
          139,
          146,
          134,
          132,
          132,
          138,
          138,
          136,
          136,
          139,
          131,
          139,
          145,
          137,
          127,
          136,
          140,
          142,
          135,
          140,
          139,
          132,
          137,
          134,
          139,
          140,
          140,
          131,
          140,
          136,
          137,
          132,
          133,
          141,
          140,
          137,
          140,
          139,
          144,
          136,
          133,
          137,
          135,
          142,
          141,
          134,
          136,
          137,
          140,
          141,
          137,
          144,
          140,
          143,
          138,
          137,
          138,
          133,
          142,
          132,
          135,
          136,
          137,
          126,
          139,
          136,
          138,
          140,
          134,
          135,
          136,
          140,
          145,
          134,
          135,
          124,
          137,
          136,
          145,
          138,
          131,
          137,
          145,
          137,
          137,
          137,
          130,
          136,
          138,
          134,
          140,
          132,
          141,
          139,
          141,
          136,
          137,
          134,
          136,
          135,
          139,
          134,
          137,
          136,
          140,
          136,
          136,
          134,
          139,
          134,
          139,
          137,
          142,
          139,
          135,
          133,
          134,
          138,
          133,
          136,
          140,
          145,
          139,
          137,
          138,
          135,
          140,
          145,
          140,
          136,
          136,
          136,
          134,
          137,
          136,
          134,
          144,
          136,
          140,
          134,
          135,
          130,
          142,
          135,
          145,
          137,
          138,
          134,
          113,
          137,
          136,
          138,
          136,
          137,
          136,
          141,
          136,
          141,
          130,
          136,
          140,
          138,
          130,
          134,
          134,
          141,
          137,
          134,
          140,
          134,
          145,
          139,
          134,
          138,
          125,
          132,
          140,
          130,
          134,
          127,
          134,
          137,
          137,
          137,
          137,
          148,
          132,
          136,
          137,
          139,
          136,
          136,
          141,
          134,
          137,
          138,
          135,
          142,
          130,
          139,
          143,
          133,
          132,
          139,
          142,
          139,
          139,
          135,
          135,
          138,
          133,
          129,
          140,
          141,
          140,
          134,
          140,
          140,
          132,
          130,
          134,
          133,
          140,
          137,
          137,
          142,
          140,
          136,
          136,
          137,
          136,
          128,
          138,
          141,
          135,
          140,
          132,
          142,
          144,
          141,
          139,
          140,
          136,
          143,
          139,
          138,
          140,
          136
         ]
        }
       ],
       "layout": {
        "template": {
         "data": {
          "bar": [
           {
            "error_x": {
             "color": "#2a3f5f"
            },
            "error_y": {
             "color": "#2a3f5f"
            },
            "marker": {
             "line": {
              "color": "#E5ECF6",
              "width": 0.5
             },
             "pattern": {
              "fillmode": "overlay",
              "size": 10,
              "solidity": 0.2
             }
            },
            "type": "bar"
           }
          ],
          "barpolar": [
           {
            "marker": {
             "line": {
              "color": "#E5ECF6",
              "width": 0.5
             },
             "pattern": {
              "fillmode": "overlay",
              "size": 10,
              "solidity": 0.2
             }
            },
            "type": "barpolar"
           }
          ],
          "carpet": [
           {
            "aaxis": {
             "endlinecolor": "#2a3f5f",
             "gridcolor": "white",
             "linecolor": "white",
             "minorgridcolor": "white",
             "startlinecolor": "#2a3f5f"
            },
            "baxis": {
             "endlinecolor": "#2a3f5f",
             "gridcolor": "white",
             "linecolor": "white",
             "minorgridcolor": "white",
             "startlinecolor": "#2a3f5f"
            },
            "type": "carpet"
           }
          ],
          "choropleth": [
           {
            "colorbar": {
             "outlinewidth": 0,
             "ticks": ""
            },
            "type": "choropleth"
           }
          ],
          "contour": [
           {
            "colorbar": {
             "outlinewidth": 0,
             "ticks": ""
            },
            "colorscale": [
             [
              0,
              "#0d0887"
             ],
             [
              0.1111111111111111,
              "#46039f"
             ],
             [
              0.2222222222222222,
              "#7201a8"
             ],
             [
              0.3333333333333333,
              "#9c179e"
             ],
             [
              0.4444444444444444,
              "#bd3786"
             ],
             [
              0.5555555555555556,
              "#d8576b"
             ],
             [
              0.6666666666666666,
              "#ed7953"
             ],
             [
              0.7777777777777778,
              "#fb9f3a"
             ],
             [
              0.8888888888888888,
              "#fdca26"
             ],
             [
              1,
              "#f0f921"
             ]
            ],
            "type": "contour"
           }
          ],
          "contourcarpet": [
           {
            "colorbar": {
             "outlinewidth": 0,
             "ticks": ""
            },
            "type": "contourcarpet"
           }
          ],
          "heatmap": [
           {
            "colorbar": {
             "outlinewidth": 0,
             "ticks": ""
            },
            "colorscale": [
             [
              0,
              "#0d0887"
             ],
             [
              0.1111111111111111,
              "#46039f"
             ],
             [
              0.2222222222222222,
              "#7201a8"
             ],
             [
              0.3333333333333333,
              "#9c179e"
             ],
             [
              0.4444444444444444,
              "#bd3786"
             ],
             [
              0.5555555555555556,
              "#d8576b"
             ],
             [
              0.6666666666666666,
              "#ed7953"
             ],
             [
              0.7777777777777778,
              "#fb9f3a"
             ],
             [
              0.8888888888888888,
              "#fdca26"
             ],
             [
              1,
              "#f0f921"
             ]
            ],
            "type": "heatmap"
           }
          ],
          "heatmapgl": [
           {
            "colorbar": {
             "outlinewidth": 0,
             "ticks": ""
            },
            "colorscale": [
             [
              0,
              "#0d0887"
             ],
             [
              0.1111111111111111,
              "#46039f"
             ],
             [
              0.2222222222222222,
              "#7201a8"
             ],
             [
              0.3333333333333333,
              "#9c179e"
             ],
             [
              0.4444444444444444,
              "#bd3786"
             ],
             [
              0.5555555555555556,
              "#d8576b"
             ],
             [
              0.6666666666666666,
              "#ed7953"
             ],
             [
              0.7777777777777778,
              "#fb9f3a"
             ],
             [
              0.8888888888888888,
              "#fdca26"
             ],
             [
              1,
              "#f0f921"
             ]
            ],
            "type": "heatmapgl"
           }
          ],
          "histogram": [
           {
            "marker": {
             "pattern": {
              "fillmode": "overlay",
              "size": 10,
              "solidity": 0.2
             }
            },
            "type": "histogram"
           }
          ],
          "histogram2d": [
           {
            "colorbar": {
             "outlinewidth": 0,
             "ticks": ""
            },
            "colorscale": [
             [
              0,
              "#0d0887"
             ],
             [
              0.1111111111111111,
              "#46039f"
             ],
             [
              0.2222222222222222,
              "#7201a8"
             ],
             [
              0.3333333333333333,
              "#9c179e"
             ],
             [
              0.4444444444444444,
              "#bd3786"
             ],
             [
              0.5555555555555556,
              "#d8576b"
             ],
             [
              0.6666666666666666,
              "#ed7953"
             ],
             [
              0.7777777777777778,
              "#fb9f3a"
             ],
             [
              0.8888888888888888,
              "#fdca26"
             ],
             [
              1,
              "#f0f921"
             ]
            ],
            "type": "histogram2d"
           }
          ],
          "histogram2dcontour": [
           {
            "colorbar": {
             "outlinewidth": 0,
             "ticks": ""
            },
            "colorscale": [
             [
              0,
              "#0d0887"
             ],
             [
              0.1111111111111111,
              "#46039f"
             ],
             [
              0.2222222222222222,
              "#7201a8"
             ],
             [
              0.3333333333333333,
              "#9c179e"
             ],
             [
              0.4444444444444444,
              "#bd3786"
             ],
             [
              0.5555555555555556,
              "#d8576b"
             ],
             [
              0.6666666666666666,
              "#ed7953"
             ],
             [
              0.7777777777777778,
              "#fb9f3a"
             ],
             [
              0.8888888888888888,
              "#fdca26"
             ],
             [
              1,
              "#f0f921"
             ]
            ],
            "type": "histogram2dcontour"
           }
          ],
          "mesh3d": [
           {
            "colorbar": {
             "outlinewidth": 0,
             "ticks": ""
            },
            "type": "mesh3d"
           }
          ],
          "parcoords": [
           {
            "line": {
             "colorbar": {
              "outlinewidth": 0,
              "ticks": ""
             }
            },
            "type": "parcoords"
           }
          ],
          "pie": [
           {
            "automargin": true,
            "type": "pie"
           }
          ],
          "scatter": [
           {
            "marker": {
             "colorbar": {
              "outlinewidth": 0,
              "ticks": ""
             }
            },
            "type": "scatter"
           }
          ],
          "scatter3d": [
           {
            "line": {
             "colorbar": {
              "outlinewidth": 0,
              "ticks": ""
             }
            },
            "marker": {
             "colorbar": {
              "outlinewidth": 0,
              "ticks": ""
             }
            },
            "type": "scatter3d"
           }
          ],
          "scattercarpet": [
           {
            "marker": {
             "colorbar": {
              "outlinewidth": 0,
              "ticks": ""
             }
            },
            "type": "scattercarpet"
           }
          ],
          "scattergeo": [
           {
            "marker": {
             "colorbar": {
              "outlinewidth": 0,
              "ticks": ""
             }
            },
            "type": "scattergeo"
           }
          ],
          "scattergl": [
           {
            "marker": {
             "colorbar": {
              "outlinewidth": 0,
              "ticks": ""
             }
            },
            "type": "scattergl"
           }
          ],
          "scattermapbox": [
           {
            "marker": {
             "colorbar": {
              "outlinewidth": 0,
              "ticks": ""
             }
            },
            "type": "scattermapbox"
           }
          ],
          "scatterpolar": [
           {
            "marker": {
             "colorbar": {
              "outlinewidth": 0,
              "ticks": ""
             }
            },
            "type": "scatterpolar"
           }
          ],
          "scatterpolargl": [
           {
            "marker": {
             "colorbar": {
              "outlinewidth": 0,
              "ticks": ""
             }
            },
            "type": "scatterpolargl"
           }
          ],
          "scatterternary": [
           {
            "marker": {
             "colorbar": {
              "outlinewidth": 0,
              "ticks": ""
             }
            },
            "type": "scatterternary"
           }
          ],
          "surface": [
           {
            "colorbar": {
             "outlinewidth": 0,
             "ticks": ""
            },
            "colorscale": [
             [
              0,
              "#0d0887"
             ],
             [
              0.1111111111111111,
              "#46039f"
             ],
             [
              0.2222222222222222,
              "#7201a8"
             ],
             [
              0.3333333333333333,
              "#9c179e"
             ],
             [
              0.4444444444444444,
              "#bd3786"
             ],
             [
              0.5555555555555556,
              "#d8576b"
             ],
             [
              0.6666666666666666,
              "#ed7953"
             ],
             [
              0.7777777777777778,
              "#fb9f3a"
             ],
             [
              0.8888888888888888,
              "#fdca26"
             ],
             [
              1,
              "#f0f921"
             ]
            ],
            "type": "surface"
           }
          ],
          "table": [
           {
            "cells": {
             "fill": {
              "color": "#EBF0F8"
             },
             "line": {
              "color": "white"
             }
            },
            "header": {
             "fill": {
              "color": "#C8D4E3"
             },
             "line": {
              "color": "white"
             }
            },
            "type": "table"
           }
          ]
         },
         "layout": {
          "annotationdefaults": {
           "arrowcolor": "#2a3f5f",
           "arrowhead": 0,
           "arrowwidth": 1
          },
          "autotypenumbers": "strict",
          "coloraxis": {
           "colorbar": {
            "outlinewidth": 0,
            "ticks": ""
           }
          },
          "colorscale": {
           "diverging": [
            [
             0,
             "#8e0152"
            ],
            [
             0.1,
             "#c51b7d"
            ],
            [
             0.2,
             "#de77ae"
            ],
            [
             0.3,
             "#f1b6da"
            ],
            [
             0.4,
             "#fde0ef"
            ],
            [
             0.5,
             "#f7f7f7"
            ],
            [
             0.6,
             "#e6f5d0"
            ],
            [
             0.7,
             "#b8e186"
            ],
            [
             0.8,
             "#7fbc41"
            ],
            [
             0.9,
             "#4d9221"
            ],
            [
             1,
             "#276419"
            ]
           ],
           "sequential": [
            [
             0,
             "#0d0887"
            ],
            [
             0.1111111111111111,
             "#46039f"
            ],
            [
             0.2222222222222222,
             "#7201a8"
            ],
            [
             0.3333333333333333,
             "#9c179e"
            ],
            [
             0.4444444444444444,
             "#bd3786"
            ],
            [
             0.5555555555555556,
             "#d8576b"
            ],
            [
             0.6666666666666666,
             "#ed7953"
            ],
            [
             0.7777777777777778,
             "#fb9f3a"
            ],
            [
             0.8888888888888888,
             "#fdca26"
            ],
            [
             1,
             "#f0f921"
            ]
           ],
           "sequentialminus": [
            [
             0,
             "#0d0887"
            ],
            [
             0.1111111111111111,
             "#46039f"
            ],
            [
             0.2222222222222222,
             "#7201a8"
            ],
            [
             0.3333333333333333,
             "#9c179e"
            ],
            [
             0.4444444444444444,
             "#bd3786"
            ],
            [
             0.5555555555555556,
             "#d8576b"
            ],
            [
             0.6666666666666666,
             "#ed7953"
            ],
            [
             0.7777777777777778,
             "#fb9f3a"
            ],
            [
             0.8888888888888888,
             "#fdca26"
            ],
            [
             1,
             "#f0f921"
            ]
           ]
          },
          "colorway": [
           "#636efa",
           "#EF553B",
           "#00cc96",
           "#ab63fa",
           "#FFA15A",
           "#19d3f3",
           "#FF6692",
           "#B6E880",
           "#FF97FF",
           "#FECB52"
          ],
          "font": {
           "color": "#2a3f5f"
          },
          "geo": {
           "bgcolor": "white",
           "lakecolor": "white",
           "landcolor": "#E5ECF6",
           "showlakes": true,
           "showland": true,
           "subunitcolor": "white"
          },
          "hoverlabel": {
           "align": "left"
          },
          "hovermode": "closest",
          "mapbox": {
           "style": "light"
          },
          "paper_bgcolor": "white",
          "plot_bgcolor": "#E5ECF6",
          "polar": {
           "angularaxis": {
            "gridcolor": "white",
            "linecolor": "white",
            "ticks": ""
           },
           "bgcolor": "#E5ECF6",
           "radialaxis": {
            "gridcolor": "white",
            "linecolor": "white",
            "ticks": ""
           }
          },
          "scene": {
           "xaxis": {
            "backgroundcolor": "#E5ECF6",
            "gridcolor": "white",
            "gridwidth": 2,
            "linecolor": "white",
            "showbackground": true,
            "ticks": "",
            "zerolinecolor": "white"
           },
           "yaxis": {
            "backgroundcolor": "#E5ECF6",
            "gridcolor": "white",
            "gridwidth": 2,
            "linecolor": "white",
            "showbackground": true,
            "ticks": "",
            "zerolinecolor": "white"
           },
           "zaxis": {
            "backgroundcolor": "#E5ECF6",
            "gridcolor": "white",
            "gridwidth": 2,
            "linecolor": "white",
            "showbackground": true,
            "ticks": "",
            "zerolinecolor": "white"
           }
          },
          "shapedefaults": {
           "line": {
            "color": "#2a3f5f"
           }
          },
          "ternary": {
           "aaxis": {
            "gridcolor": "white",
            "linecolor": "white",
            "ticks": ""
           },
           "baxis": {
            "gridcolor": "white",
            "linecolor": "white",
            "ticks": ""
           },
           "bgcolor": "#E5ECF6",
           "caxis": {
            "gridcolor": "white",
            "linecolor": "white",
            "ticks": ""
           }
          },
          "title": {
           "x": 0.05
          },
          "xaxis": {
           "automargin": true,
           "gridcolor": "white",
           "linecolor": "white",
           "ticks": "",
           "title": {
            "standoff": 15
           },
           "zerolinecolor": "white",
           "zerolinewidth": 2
          },
          "yaxis": {
           "automargin": true,
           "gridcolor": "white",
           "linecolor": "white",
           "ticks": "",
           "title": {
            "standoff": 15
           },
           "zerolinecolor": "white",
           "zerolinewidth": 2
          }
         }
        }
       }
      }
     },
     "metadata": {},
     "output_type": "display_data"
    }
   ],
   "source": [
    "trace4 = go.Box(y=df[\"Sodio_soro\"],name=\"Sodio_soro\")\n",
    "\n",
    "data = [trace4]\n",
    "iplot(data)"
   ]
  },
  {
   "cell_type": "markdown",
   "metadata": {
    "cell_id": "fd71fe27-0f6b-455d-918a-a2e6039746bd",
    "deepnote_cell_type": "markdown",
    "id": "d2441945",
    "tags": []
   },
   "source": [
    "Os outliers influenciam as visões de média, mediana e desvio padrão.  Conforme a análise acima, a colunas que apresenta mais dados desviantes ainda tem menos de 5% do database e não parecem ter relação direta com o resultado Morte por insuficiência cardíaca.\n",
    "\n",
    "Apesar de haver a distorção, como o _dataset_ é bem diminuto e refere exames médicos, sujeitos a equívocos de aferição, optamos por manter os valores."
   ]
  },
  {
   "cell_type": "markdown",
   "metadata": {
    "cell_id": "0462b53d-a1c8-46bd-877e-f167ffa2fb70",
    "deepnote_cell_type": "markdown",
    "id": "0b84b164",
    "tags": []
   },
   "source": [
    "## **5. Análise Detalhada**"
   ]
  },
  {
   "cell_type": "markdown",
   "metadata": {
    "cell_id": "00053-f97d8687-5406-474b-9b25-471d0f5befbb",
    "deepnote_cell_type": "markdown",
    "id": "de77d21c"
   },
   "source": [
    "### **5.1 Histogramas do Dataset**"
   ]
  },
  {
   "cell_type": "markdown",
   "metadata": {
    "cell_id": "c52621ca-da17-41bb-b7a0-fa4592504d66",
    "deepnote_cell_type": "markdown",
    "tags": []
   },
   "source": [
    "Para que possamos compreender com maior clareza a influência de cada variável na morte por insuficiência cardíaca, plotamos alguns histogramas:"
   ]
  },
  {
   "cell_type": "code",
   "execution_count": 20,
   "metadata": {
    "cell_id": "68f3eeca-2582-4d16-a8d8-8d1701c71bc2",
    "deepnote_cell_type": "code",
    "deepnote_to_be_reexecuted": false,
    "execution_millis": 2668,
    "execution_start": 1645480466210,
    "source_hash": "523d2ce9",
    "tags": []
   },
   "outputs": [
    {
     "data": {
      "image/png": "[encoded data removed]",
      "text/plain": [
       "<Figure size 1080x1800 with 7 Axes>"
      ]
     },
     "metadata": {
      "needs_background": "light"
     },
     "output_type": "display_data"
    }
   ],
   "source": [
    "fig, ax = plt.subplots(7, 1, figsize=(15, 25))\n",
    "\n",
    "cont=0\n",
    "for j in range(7):\n",
    "    sns.histplot(data=df, x=vars_continuas[cont], ax=ax[j], kde=True, hue = 'Morte', alpha = 0.4, element = 'poly');\n",
    "    ax[cont].legend(labels = ['Mortos', None, 'Sobreviventes', None])\n",
    "    ax[cont].set_ylabel('Quantidade')\n",
    "    ax[cont].set_xlabel(vars_continuas[cont], size=\"20\")\n",
    "    cont = cont + 1\n",
    "\n",
    "fig.tight_layout(pad=3.0)\n",
    "\n",
    "# kde=True: traça a linha da distribuição em densidade, mostrando, com maior precisão \n",
    "# e suavidade, a evolução da variável plotada."
   ]
  },
  {
   "cell_type": "markdown",
   "metadata": {
    "cell_id": "747d7076-e167-4092-a164-c5189f3e4bbf",
    "deepnote_cell_type": "markdown",
    "tags": []
   },
   "source": [
    "Outra forma de visualizar a distribuição dos dados é pelo _distplot_, abaixo, que também é interativo e mais visual, embora mais \"pesado\". Analisando a variável Sodio_soro apenas a título de exemplo:"
   ]
  },
  {
   "cell_type": "code",
   "execution_count": 21,
   "metadata": {
    "cell_id": "ad00cf0f-348b-4844-8d3b-94406570be0e",
    "deepnote_cell_type": "code",
    "deepnote_to_be_reexecuted": false,
    "execution_millis": 193,
    "execution_start": 1645480468885,
    "source_hash": "fd185ad5",
    "tags": []
   },
   "outputs": [
    {
     "data": {
      "application/vnd.plotly.v1+json": {
       "config": {
        "linkText": "Export to plot.ly",
        "plotlyServerURL": "https://plot.ly",
        "showLink": false
       },
       "data": [
        {
         "autobinx": false,
         "histnorm": "probability density",
         "legendgroup": "Sodio_soro",
         "marker": {
          "color": "rgb(31, 119, 180)"
         },
         "name": "Sodio_soro",
         "opacity": 0.7,
         "type": "histogram",
         "x": [
          130,
          136,
          129,
          137,
          116,
          132,
          137,
          131,
          138,
          133,
          131,
          140,
          137,
          137,
          138,
          136,
          140,
          127,
          140,
          121,
          137,
          136,
          140,
          135,
          134,
          144,
          138,
          136,
          134,
          132,
          134,
          132,
          128,
          138,
          140,
          134,
          134,
          145,
          137,
          142,
          134,
          136,
          139,
          134,
          142,
          135,
          130,
          138,
          133,
          140,
          138,
          139,
          146,
          134,
          132,
          132,
          138,
          138,
          136,
          136,
          139,
          131,
          139,
          145,
          137,
          127,
          136,
          140,
          142,
          135,
          140,
          139,
          132,
          137,
          134,
          139,
          140,
          140,
          131,
          140,
          136,
          137,
          132,
          133,
          141,
          140,
          137,
          140,
          139,
          144,
          136,
          133,
          137,
          135,
          142,
          141,
          134,
          136,
          137,
          140,
          141,
          137,
          144,
          140,
          143,
          138,
          137,
          138,
          133,
          142,
          132,
          135,
          136,
          137,
          126,
          139,
          136,
          138,
          140,
          134,
          135,
          136,
          140,
          145,
          134,
          135,
          124,
          137,
          136,
          145,
          138,
          131,
          137,
          145,
          137,
          137,
          137,
          130,
          136,
          138,
          134,
          140,
          132,
          141,
          139,
          141,
          136,
          137,
          134,
          136,
          135,
          139,
          134,
          137,
          136,
          140,
          136,
          136,
          134,
          139,
          134,
          139,
          137,
          142,
          139,
          135,
          133,
          134,
          138,
          133,
          136,
          140,
          145,
          139,
          137,
          138,
          135,
          140,
          145,
          140,
          136,
          136,
          136,
          134,
          137,
          136,
          134,
          144,
          136,
          140,
          134,
          135,
          130,
          142,
          135,
          145,
          137,
          138,
          134,
          113,
          137,
          136,
          138,
          136,
          137,
          136,
          141,
          136,
          141,
          130,
          136,
          140,
          138,
          130,
          134,
          134,
          141,
          137,
          134,
          140,
          134,
          145,
          139,
          134,
          138,
          125,
          132,
          140,
          130,
          134,
          127,
          134,
          137,
          137,
          137,
          137,
          148,
          132,
          136,
          137,
          139,
          136,
          136,
          141,
          134,
          137,
          138,
          135,
          142,
          130,
          139,
          143,
          133,
          132,
          139,
          142,
          139,
          139,
          135,
          135,
          138,
          133,
          129,
          140,
          141,
          140,
          134,
          140,
          140,
          132,
          130,
          134,
          133,
          140,
          137,
          137,
          142,
          140,
          136,
          136,
          137,
          136,
          128,
          138,
          141,
          135,
          140,
          132,
          142,
          144,
          141,
          139,
          140,
          136,
          143,
          139,
          138,
          140,
          136
         ],
         "xaxis": "x",
         "xbins": {
          "end": 148,
          "size": 1,
          "start": 113
         },
         "yaxis": "y"
        },
        {
         "legendgroup": "Sodio_soro",
         "marker": {
          "color": "rgb(31, 119, 180)"
         },
         "mode": "lines",
         "name": "Sodio_soro",
         "showlegend": false,
         "type": "scatter",
         "x": [
          113,
          113.07,
          113.14,
          113.21,
          113.28,
          113.35,
          113.42,
          113.49,
          113.56,
          113.63,
          113.7,
          113.77,
          113.84,
          113.91,
          113.98,
          114.05,
          114.12,
          114.19,
          114.26,
          114.33,
          114.4,
          114.47,
          114.54,
          114.61,
          114.68,
          114.75,
          114.82,
          114.89,
          114.96,
          115.03,
          115.1,
          115.17,
          115.24,
          115.31,
          115.38,
          115.45,
          115.52,
          115.59,
          115.66,
          115.73,
          115.8,
          115.87,
          115.94,
          116.01,
          116.08,
          116.15,
          116.22,
          116.29,
          116.36,
          116.43,
          116.5,
          116.57,
          116.64,
          116.71,
          116.78,
          116.85,
          116.92,
          116.99,
          117.06,
          117.13,
          117.2,
          117.27,
          117.34,
          117.41,
          117.48,
          117.55,
          117.62,
          117.69,
          117.76,
          117.83,
          117.9,
          117.97,
          118.04,
          118.11,
          118.18,
          118.25,
          118.32,
          118.39,
          118.46,
          118.53,
          118.6,
          118.67,
          118.74,
          118.81,
          118.88,
          118.95,
          119.02,
          119.09,
          119.16,
          119.23,
          119.3,
          119.37,
          119.44,
          119.51,
          119.58,
          119.65,
          119.72,
          119.79,
          119.86,
          119.93,
          120,
          120.07,
          120.14,
          120.21,
          120.28,
          120.35,
          120.42,
          120.49,
          120.56,
          120.63,
          120.7,
          120.77,
          120.84,
          120.91,
          120.98,
          121.05,
          121.12,
          121.19,
          121.26,
          121.33,
          121.4,
          121.47,
          121.53999999999999,
          121.61,
          121.68,
          121.75,
          121.82,
          121.89,
          121.96000000000001,
          122.03,
          122.1,
          122.17,
          122.24,
          122.31,
          122.38,
          122.45,
          122.52,
          122.59,
          122.66,
          122.73,
          122.8,
          122.87,
          122.94,
          123.01,
          123.08,
          123.15,
          123.22,
          123.28999999999999,
          123.36,
          123.43,
          123.5,
          123.57,
          123.64,
          123.71000000000001,
          123.78,
          123.85,
          123.92,
          123.99,
          124.06,
          124.13,
          124.2,
          124.27,
          124.34,
          124.41,
          124.48,
          124.55,
          124.62,
          124.69,
          124.76,
          124.83,
          124.9,
          124.97,
          125.03999999999999,
          125.11,
          125.18,
          125.25,
          125.32,
          125.39,
          125.46000000000001,
          125.53,
          125.6,
          125.67,
          125.74,
          125.81,
          125.88,
          125.95,
          126.02,
          126.09,
          126.16,
          126.23,
          126.3,
          126.37,
          126.44,
          126.51,
          126.58,
          126.65,
          126.72,
          126.78999999999999,
          126.86,
          126.93,
          127,
          127.07,
          127.14,
          127.21000000000001,
          127.28,
          127.35,
          127.42,
          127.49,
          127.56,
          127.63,
          127.7,
          127.77,
          127.84,
          127.91,
          127.98,
          128.05,
          128.12,
          128.19,
          128.26,
          128.33,
          128.4,
          128.47,
          128.54,
          128.61,
          128.68,
          128.75,
          128.82,
          128.89,
          128.96,
          129.03,
          129.1,
          129.17000000000002,
          129.24,
          129.31,
          129.38,
          129.45,
          129.52,
          129.59,
          129.66,
          129.73,
          129.8,
          129.87,
          129.94,
          130.01,
          130.07999999999998,
          130.15,
          130.22,
          130.29,
          130.36,
          130.43,
          130.5,
          130.57,
          130.64,
          130.71,
          130.78,
          130.85,
          130.92000000000002,
          130.99,
          131.06,
          131.13,
          131.2,
          131.27,
          131.34,
          131.41,
          131.48,
          131.55,
          131.62,
          131.69,
          131.76,
          131.82999999999998,
          131.9,
          131.97,
          132.04,
          132.11,
          132.18,
          132.25,
          132.32,
          132.39,
          132.46,
          132.53,
          132.6,
          132.67000000000002,
          132.74,
          132.81,
          132.88,
          132.95,
          133.02,
          133.09,
          133.16,
          133.23,
          133.3,
          133.37,
          133.44,
          133.51,
          133.57999999999998,
          133.65,
          133.72,
          133.79,
          133.86,
          133.93,
          134,
          134.07,
          134.14,
          134.21,
          134.28,
          134.35,
          134.42000000000002,
          134.49,
          134.56,
          134.63,
          134.7,
          134.77,
          134.84,
          134.91,
          134.98,
          135.05,
          135.12,
          135.19,
          135.26,
          135.32999999999998,
          135.4,
          135.47,
          135.54,
          135.61,
          135.68,
          135.75,
          135.82,
          135.89,
          135.96,
          136.03,
          136.1,
          136.17000000000002,
          136.24,
          136.31,
          136.38,
          136.45,
          136.52,
          136.59,
          136.66,
          136.73,
          136.8,
          136.87,
          136.94,
          137.01,
          137.07999999999998,
          137.15,
          137.22,
          137.29,
          137.36,
          137.43,
          137.5,
          137.57,
          137.64,
          137.71,
          137.78,
          137.85,
          137.92000000000002,
          137.99,
          138.06,
          138.13,
          138.2,
          138.27,
          138.34,
          138.41,
          138.48,
          138.55,
          138.62,
          138.69,
          138.76,
          138.82999999999998,
          138.9,
          138.97,
          139.04,
          139.11,
          139.18,
          139.25,
          139.32,
          139.39,
          139.46,
          139.53,
          139.6,
          139.67000000000002,
          139.74,
          139.81,
          139.88,
          139.95,
          140.02,
          140.09,
          140.16,
          140.23,
          140.3,
          140.37,
          140.44,
          140.51,
          140.57999999999998,
          140.65,
          140.72,
          140.79,
          140.86,
          140.93,
          141,
          141.07,
          141.14,
          141.21,
          141.28,
          141.35,
          141.42000000000002,
          141.49,
          141.56,
          141.63,
          141.7,
          141.77,
          141.84,
          141.91,
          141.98,
          142.05,
          142.12,
          142.19,
          142.26,
          142.32999999999998,
          142.4,
          142.47,
          142.54,
          142.61,
          142.68,
          142.75,
          142.82,
          142.89,
          142.96,
          143.03,
          143.1,
          143.17000000000002,
          143.24,
          143.31,
          143.38,
          143.45,
          143.52,
          143.59,
          143.66,
          143.73,
          143.8,
          143.87,
          143.94,
          144.01,
          144.07999999999998,
          144.15,
          144.22,
          144.29,
          144.36,
          144.43,
          144.5,
          144.57,
          144.64,
          144.71,
          144.78,
          144.85,
          144.92000000000002,
          144.99,
          145.06,
          145.13,
          145.2,
          145.27,
          145.34,
          145.41,
          145.48,
          145.55,
          145.62,
          145.69,
          145.76,
          145.82999999999998,
          145.9,
          145.97,
          146.04,
          146.11,
          146.18,
          146.25,
          146.32,
          146.39,
          146.46,
          146.53,
          146.6,
          146.67000000000002,
          146.74,
          146.81,
          146.88,
          146.95,
          147.02,
          147.09,
          147.16,
          147.23,
          147.3,
          147.37,
          147.44,
          147.51,
          147.57999999999998,
          147.65,
          147.72,
          147.79,
          147.86,
          147.93
         ],
         "xaxis": "x",
         "y": [
          0.0010442295532357168,
          0.0010539067307159947,
          0.0010621591511051525,
          0.0010690472533040564,
          0.001074644694070386,
          0.00107903714155511,
          0.0010823208576048989,
          0.001084601090154548,
          0.0010859903010943135,
          0.0010866062586241633,
          0.0010865700262134986,
          0.0010860038827944594,
          0.0010850292106654898,
          0.0010837643887196496,
          0.0010823227290049063,
          0.001080810494253579,
          0.0010793250328845108,
          0.0010779530661009925,
          0.001076769159113421,
          0.001075834405258,
          0.001075195347926467,
          0.001074883160845691,
          0.0010749131024407647,
          0.0010752842548816146,
          0.0010759795530593836,
          0.0010769661032782461,
          0.0010781957859965889,
          0.0010796061316241349,
          0.0010811214532911004,
          0.0010826542157587723,
          0.001084106615336881,
          0.0010853723419002948,
          0.001086338490932007,
          0.0010868875910231056,
          0.001086899710479846,
          0.0010862546056529885,
          0.0010848338733279806,
          0.0010825230699917584,
          0.0010792137620012267,
          0.0010748054725817622,
          0.0010692074941278903,
          0.001062340537395175,
          0.0010541381927829602,
          0.0010445481829221555,
          0.0010335333901037534,
          0.0010210726466094362,
          0.0010071612806308002,
          0.000991811415082847,
          0.0009750520211288059,
          0.0009569287325393067,
          0.0009375034310204647,
          0.000916853616282273,
          0.0008950715778131416,
          0.0008722633880226718,
          0.0008485477385722147,
          0.0008240546433055958,
          0.0007989240322088647,
          0.0007733042612737514,
          0.0007473505630321877,
          0.0007212234619026266,
          0.0006950871773870826,
          0.0006691080366377451,
          0.0006434529160372384,
          0.0006182877292805202,
          0.0005937759770838582,
          0.0005700773711574569,
          0.0005473465425408815,
          0.0005257318418921362,
          0.0005053742369129052,
          0.00048640630985141774,
          0.00046895135600660067,
          0.0004531225824120496,
          0.00043902240444162674,
          0.00042674183697647235,
          0.0004163599760183404,
          0.00040794356622779183,
          0.00040154664979587983,
          0.00039721029230254816,
          0.00039496238173983045,
          0.00039481749764089995,
          0.00039677684820608084,
          0.0004008282743974708,
          0.0004069463211236464,
          0.00041509237679178185,
          0.0004252148836026721,
          0.0004372496219431624,
          0.00045112007303215606,
          0.0004667378645489978,
          0.0004840033042717123,
          0.0005028060067421479,
          0.0005230256176297476,
          0.0005445326397723449,
          0.0005671893638278587,
          0.0005908509050863584,
          0.0006153663462889859,
          0.0006405799843133976,
          0.0006663326763587963,
          0.0006924632788532381,
          0.0007188101697731013,
          0.0007452128424811935,
          0.000771513556628535,
          0.0007975590292042875,
          0.000823202146535206,
          0.000848303676006714,
          0.0008727339545742166,
          0.0008963745298205357,
          0.000919119728451836,
          0.0009408781267559586,
          0.0009615738977107177,
          0.0009811480101469426,
          0.000999559256651634,
          0.0010167850887340781,
          0.001032822240153191,
          0.0010476871221820239,
          0.001061415977918695,
          0.0010740647864800584,
          0.0010857089119645264,
          0.001096442496361342,
          0.001106377600026991,
          0.0011156430978502378,
          0.0011243833436888485,
          0.0011327566199841566,
          0.0011409333935486206,
          0.0011490944022831892,
          0.0011574286009299263,
          0.0011661309968228342,
          0.0011754004088988064,
          0.001185437184915388,
          0.001196440912850071,
          0.001208608162798971,
          0.001222130295337107,
          0.0012371913712499348,
          0.001253966195812783,
          0.001272618528412119,
          0.0012932994853155737,
          0.0013161461598637301,
          0.0013412804803452489,
          0.0013688083214073736,
          0.0013988188801333811,
          0.0014313843229819927,
          0.001466559704728265,
          0.0015043831554742814,
          0.0015448763268098426,
          0.0015880450834013298,
          0.0016338804217646834,
          0.0016823595938297116,
          0.0017334474092100837,
          0.001787097686933211,
          0.001843254824821042,
          0.001901855452801956,
          0.0019628301352167775,
          0.002026105086685932,
          0.002091603866347311,
          0.002159249016253018,
          0.0022289636114170485,
          0.002300672691404378,
          0.0023743045464051614,
          0.002449791834388819,
          0.0025270725101149112,
          0.002606090551408852,
          0.0026867964731038655,
          0.00276914762430308,
          0.0028531082700236064,
          0.0029386494637325795,
          0.0030257487226605503,
          0.0031143895229585553,
          0.0032045606366383323,
          0.003296255336682985,
          0.0033894705006315,
          0.0034842056462200573,
          0.0035804619352192294,
          0.0036782411833535087,
          0.0037775449150695894,
          0.0038783735018770946,
          0.003980725421995328,
          0.004084596677085605,
          0.00418998039894413,
          0.004296866675202575,
          0.004405242618387574,
          0.004515092697198529,
          0.004626399342670625,
          0.004739143835112377,
          0.00485330747047694,
          0.004968872997294158,
          0.005085826307616813,
          0.0052041583577983426,
          0.005323867287494802,
          0.00544496069826285,
          0.005567458046684931,
          0.0056913931012772725,
          0.005816816407690344,
          0.005943797703055265,
          0.006072428217894308,
          0.006202822802923016,
          0.006335121818403328,
          0.006469492725531281,
          0.006606131322677632,
          0.006745262574142497,
          0.006887140985386628,
          0.007032050486386982,
          0.007180303793707387,
          0.007332241231928658,
          0.007488229006054869,
          0.007648656928188852,
          0.007813935613901254,
          0.00798449317604352,
          0.008160771455983156,
          0.008343221844090644,
          0.008532300752471262,
          0.008728464813130613,
          0.008932165883708626,
          0.009143845950349618,
          0.009363932022971767,
          0.009592831121949754,
          0.009830925456887166,
          0.010078567897603481,
          0.010336077834657025,
          0.010603737521645226,
          0.010881788984241038,
          0.011170431571540851,
          0.011469820213984546,
          0.011780064439094753,
          0.01210122818182779,
          0.012433330410770091,
          0.012776346575083244,
          0.013130210860396946,
          0.013494819225152388,
          0.013870033172626476,
          0.014255684198409032,
          0.014651578838837869,
          0.01505750423318843,
          0.015473234101549103,
          0.015898535031585947,
          0.016333172960992775,
          0.016776919738476358,
          0.01722955964473045,
          0.01769089575598272,
          0.018160756036298246,
          0.018638999050750314,
          0.01912551919960368,
          0.019620251383561525,
          0.02012317502156863,
          0.02063431735531877,
          0.02115375598809363,
          0.021681620619513245,
          0.02221809395180873,
          0.02276341175699003,
          0.023317862107468886,
          0.023881783784991582,
          0.024455563893962324,
          0.025039634715185142,
          0.02563446984463635,
          0.026240579669075906,
          0.02685850623612468,
          0.02748881758096605,
          0.028132101575249636,
          0.028788959366198946,
          0.029459998475651526,
          0.03014582562994056,
          0.030847039392439348,
          0.03156422267142243,
          0.0322979351768395,
          0.03304870590077703,
          0.03381702569788987,
          0.034603340043905965,
          0.0354080420524173,
          0.03623146583239589,
          0.03707388027103994,
          0.037935483328363724,
          0.038816396931086745,
          0.03971666255348038,
          0.04063623757149062,
          0.041574992473312304,
          0.04253270900422638,
          0.04350907931566249,
          0.04450370617779615,
          0.04551610430140186,
          0.04654570279809725,
          0.04759184878857896,
          0.04865381214618751,
          0.049730791338498906,
          0.05082192030306896,
          0.051926276265654096,
          0.05304288838088365,
          0.0541707470473326,
          0.0553088137222205,
          0.05645603103645698,
          0.057611332989521986,
          0.05877365498667733,
          0.05994194346914124,
          0.06111516488199735,
          0.06229231372538049,
          0.06347241944243717,
          0.06465455191296374,
          0.06583782534461849,
          0.06702140038397715,
          0.06820448430707339,
          0.06938632919277105,
          0.07056622803144809,
          0.07174350877491485,
          0.07291752638993938,
          0.07408765303567029,
          0.07525326654313506,
          0.07641373743108147,
          0.07756841474508952,
          0.07871661105444387,
          0.07985758698215159,
          0.08099053567628064,
          0.08211456765427774,
          0.08322869646503027,
          0.08433182561550193,
          0.08542273719930117,
          0.08650008264341975,
          0.0875623759568505,
          0.08860798982129238,
          0.08963515481064654,
          0.09064196196348799,
          0.09162636886269254,
          0.09258620930040465,
          0.09351920652645687,
          0.09442298999603244,
          0.09529511544984798,
          0.09613308807945256,
          0.09693438845331508,
          0.0976965008081959,
          0.09841694324653848,
          0.09909329932588808,
          0.09972325048200181,
          0.10030460869442544,
          0.10083534878268643,
          0.1013136397134504,
          0.10173787430415636,
          0.10210669672674506,
          0.10241902724572452,
          0.10267408366730882,
          0.10287139902980329,
          0.10301083512867698,
          0.10309259154147707,
          0.10311720989642964,
          0.10308557321263541,
          0.10299890022744723,
          0.10285873471624428,
          0.10266692989955413,
          0.10242562812069103,
          0.10213723606203162,
          0.1018043958482223,
          0.10142995245855674,
          0.1010169179371344,
          0.10056843294711511,
          0.10008772626342452,
          0.09957807283583452,
          0.09904275108093474,
          0.09848500007662796,
          0.09790797733631836,
          0.09731471783189566,
          0.09670809491512877,
          0.09609078375661026,
          0.0954652278804482,
          0.09483360932225347,
          0.09419782287851264,
          0.09355945484816874,
          0.09291976659333634,
          0.0922796831668262,
          0.09163978717087885,
          0.0910003179256447,
          0.09036117593898979,
          0.08972193258261885,
          0.08908184479481965,
          0.08843987454880495,
          0.08779471274909284,
          0.08714480714798191,
          0.08648839381116431,
          0.08582353160705178,
          0.08514813914938676,
          0.08446003358800665,
          0.08375697061882437,
          0.08303668507158905,
          0.08229693143295623,
          0.08153552367283178,
          0.08075037376352782,
          0.07993952831350848,
          0.07910120277969401,
          0.07823381277347924,
          0.07733600203468859,
          0.07640666671339502,
          0.0754449756703895,
          0.07445038658163144,
          0.07342265770863768,
          0.07236185527383124,
          0.07126835645582516,
          0.07014284809282073,
          0.06898632125136886,
          0.06780006188126271,
          0.06658563783416588,
          0.065344882572687,
          0.06407987593723548,
          0.06279292236955114,
          0.061486527013949466,
          0.06016337013004948,
          0.0588262802540981,
          0.057478206540461506,
          0.05612219070097129,
          0.05476133893835633,
          0.053398794241967654,
          0.052037709380436364,
          0.05068122088800073,
          0.049332424300234254,
          0.04799435085202937,
          0.046669945807188966,
          0.045362048546076526,
          0.04407337449647465,
          0.04280649895419423,
          0.04156384280482487,
          0.040347660127036056,
          0.039160027631544886,
          0.03800283586855659,
          0.03687778212034747,
          0.03578636488461871,
          0.03472987984816426,
          0.033709417248841904,
          0.03272586052639592,
          0.03177988616872147,
          0.030871964669000575,
          0.03000236252007401,
          0.029171145184627722,
          0.02837818099252468,
          0.027623145929174746,
          0.026905529290448885,
          0.026224640189757367,
          0.025579614910937656,
          0.02496942510612868,
          0.024392886840530346,
          0.02384867048566049,
          0.02333531145936671,
          0.02285122180449885,
          0.022394702588944496,
          0.021963957098003237,
          0.021557104776176728,
          0.02117219585985785,
          0.02080722662566012,
          0.02046015516178053,
          0.020128917552479454,
          0.01981144434906922,
          0.019505677185353155,
          0.01920958538179717,
          0.018921182371385577,
          0.018638541771558933,
          0.01835981292123736,
          0.01808323570000059,
          0.017807154448215814,
          0.017530030812380172,
          0.017250455349184658,
          0.016967157734684282,
          0.016679015441302313,
          0.016385060764889558,
          0.01608448610633704,
          0.015776647436856424,
          0.015461065902480997,
          0.01513742755104665,
          0.01480558119331565,
          0.014465534438374748,
          0.014117447971399247,
          0.013761628168717122,
          0.01339851817027557,
          0.013028687552597274,
          0.012652820765635052,
          0.012271704514209851,
          0.011886214278604972,
          0.011497300179168918,
          0.011105972396255959,
          0.010713286359467656,
          0.010320327918940966,
          0.009928198706459541,
          0.009538001885634596,
          0.009150828478537924,
          0.008767744441306118,
          0.008389778643744938,
          0.008017911888243167,
          0.007653067081839966,
          0.007296100652529788,
          0.006947795277335699,
          0.006608853965821798,
          0.006279895519019229,
          0.005961451360664595,
          0.005653963715629308,
          0.005357785089812425,
          0.005073178986941663,
          0.00480032178094636,
          0.0045393056480637775,
          0.004290142450795109,
          0.004052768456338008,
          0.003827049765252542,
          0.0036127883218537945,
          0.003409728376114339,
          0.0032175632675881124,
          0.003035942404886506,
          0.002864478319352309,
          0.0027027536785617,
          0.0025503281538952786,
          0.002406745046377373
         ],
         "yaxis": "y"
        },
        {
         "legendgroup": "Sodio_soro",
         "marker": {
          "color": "rgb(31, 119, 180)",
          "symbol": "line-ns-open"
         },
         "mode": "markers",
         "name": "Sodio_soro",
         "showlegend": false,
         "type": "scatter",
         "x": [
          130,
          136,
          129,
          137,
          116,
          132,
          137,
          131,
          138,
          133,
          131,
          140,
          137,
          137,
          138,
          136,
          140,
          127,
          140,
          121,
          137,
          136,
          140,
          135,
          134,
          144,
          138,
          136,
          134,
          132,
          134,
          132,
          128,
          138,
          140,
          134,
          134,
          145,
          137,
          142,
          134,
          136,
          139,
          134,
          142,
          135,
          130,
          138,
          133,
          140,
          138,
          139,
          146,
          134,
          132,
          132,
          138,
          138,
          136,
          136,
          139,
          131,
          139,
          145,
          137,
          127,
          136,
          140,
          142,
          135,
          140,
          139,
          132,
          137,
          134,
          139,
          140,
          140,
          131,
          140,
          136,
          137,
          132,
          133,
          141,
          140,
          137,
          140,
          139,
          144,
          136,
          133,
          137,
          135,
          142,
          141,
          134,
          136,
          137,
          140,
          141,
          137,
          144,
          140,
          143,
          138,
          137,
          138,
          133,
          142,
          132,
          135,
          136,
          137,
          126,
          139,
          136,
          138,
          140,
          134,
          135,
          136,
          140,
          145,
          134,
          135,
          124,
          137,
          136,
          145,
          138,
          131,
          137,
          145,
          137,
          137,
          137,
          130,
          136,
          138,
          134,
          140,
          132,
          141,
          139,
          141,
          136,
          137,
          134,
          136,
          135,
          139,
          134,
          137,
          136,
          140,
          136,
          136,
          134,
          139,
          134,
          139,
          137,
          142,
          139,
          135,
          133,
          134,
          138,
          133,
          136,
          140,
          145,
          139,
          137,
          138,
          135,
          140,
          145,
          140,
          136,
          136,
          136,
          134,
          137,
          136,
          134,
          144,
          136,
          140,
          134,
          135,
          130,
          142,
          135,
          145,
          137,
          138,
          134,
          113,
          137,
          136,
          138,
          136,
          137,
          136,
          141,
          136,
          141,
          130,
          136,
          140,
          138,
          130,
          134,
          134,
          141,
          137,
          134,
          140,
          134,
          145,
          139,
          134,
          138,
          125,
          132,
          140,
          130,
          134,
          127,
          134,
          137,
          137,
          137,
          137,
          148,
          132,
          136,
          137,
          139,
          136,
          136,
          141,
          134,
          137,
          138,
          135,
          142,
          130,
          139,
          143,
          133,
          132,
          139,
          142,
          139,
          139,
          135,
          135,
          138,
          133,
          129,
          140,
          141,
          140,
          134,
          140,
          140,
          132,
          130,
          134,
          133,
          140,
          137,
          137,
          142,
          140,
          136,
          136,
          137,
          136,
          128,
          138,
          141,
          135,
          140,
          132,
          142,
          144,
          141,
          139,
          140,
          136,
          143,
          139,
          138,
          140,
          136
         ],
         "xaxis": "x",
         "y": [
          "Sodio_soro",
          "Sodio_soro",
          "Sodio_soro",
          "Sodio_soro",
          "Sodio_soro",
          "Sodio_soro",
          "Sodio_soro",
          "Sodio_soro",
          "Sodio_soro",
          "Sodio_soro",
          "Sodio_soro",
          "Sodio_soro",
          "Sodio_soro",
          "Sodio_soro",
          "Sodio_soro",
          "Sodio_soro",
          "Sodio_soro",
          "Sodio_soro",
          "Sodio_soro",
          "Sodio_soro",
          "Sodio_soro",
          "Sodio_soro",
          "Sodio_soro",
          "Sodio_soro",
          "Sodio_soro",
          "Sodio_soro",
          "Sodio_soro",
          "Sodio_soro",
          "Sodio_soro",
          "Sodio_soro",
          "Sodio_soro",
          "Sodio_soro",
          "Sodio_soro",
          "Sodio_soro",
          "Sodio_soro",
          "Sodio_soro",
          "Sodio_soro",
          "Sodio_soro",
          "Sodio_soro",
          "Sodio_soro",
          "Sodio_soro",
          "Sodio_soro",
          "Sodio_soro",
          "Sodio_soro",
          "Sodio_soro",
          "Sodio_soro",
          "Sodio_soro",
          "Sodio_soro",
          "Sodio_soro",
          "Sodio_soro",
          "Sodio_soro",
          "Sodio_soro",
          "Sodio_soro",
          "Sodio_soro",
          "Sodio_soro",
          "Sodio_soro",
          "Sodio_soro",
          "Sodio_soro",
          "Sodio_soro",
          "Sodio_soro",
          "Sodio_soro",
          "Sodio_soro",
          "Sodio_soro",
          "Sodio_soro",
          "Sodio_soro",
          "Sodio_soro",
          "Sodio_soro",
          "Sodio_soro",
          "Sodio_soro",
          "Sodio_soro",
          "Sodio_soro",
          "Sodio_soro",
          "Sodio_soro",
          "Sodio_soro",
          "Sodio_soro",
          "Sodio_soro",
          "Sodio_soro",
          "Sodio_soro",
          "Sodio_soro",
          "Sodio_soro",
          "Sodio_soro",
          "Sodio_soro",
          "Sodio_soro",
          "Sodio_soro",
          "Sodio_soro",
          "Sodio_soro",
          "Sodio_soro",
          "Sodio_soro",
          "Sodio_soro",
          "Sodio_soro",
          "Sodio_soro",
          "Sodio_soro",
          "Sodio_soro",
          "Sodio_soro",
          "Sodio_soro",
          "Sodio_soro",
          "Sodio_soro",
          "Sodio_soro",
          "Sodio_soro",
          "Sodio_soro",
          "Sodio_soro",
          "Sodio_soro",
          "Sodio_soro",
          "Sodio_soro",
          "Sodio_soro",
          "Sodio_soro",
          "Sodio_soro",
          "Sodio_soro",
          "Sodio_soro",
          "Sodio_soro",
          "Sodio_soro",
          "Sodio_soro",
          "Sodio_soro",
          "Sodio_soro",
          "Sodio_soro",
          "Sodio_soro",
          "Sodio_soro",
          "Sodio_soro",
          "Sodio_soro",
          "Sodio_soro",
          "Sodio_soro",
          "Sodio_soro",
          "Sodio_soro",
          "Sodio_soro",
          "Sodio_soro",
          "Sodio_soro",
          "Sodio_soro",
          "Sodio_soro",
          "Sodio_soro",
          "Sodio_soro",
          "Sodio_soro",
          "Sodio_soro",
          "Sodio_soro",
          "Sodio_soro",
          "Sodio_soro",
          "Sodio_soro",
          "Sodio_soro",
          "Sodio_soro",
          "Sodio_soro",
          "Sodio_soro",
          "Sodio_soro",
          "Sodio_soro",
          "Sodio_soro",
          "Sodio_soro",
          "Sodio_soro",
          "Sodio_soro",
          "Sodio_soro",
          "Sodio_soro",
          "Sodio_soro",
          "Sodio_soro",
          "Sodio_soro",
          "Sodio_soro",
          "Sodio_soro",
          "Sodio_soro",
          "Sodio_soro",
          "Sodio_soro",
          "Sodio_soro",
          "Sodio_soro",
          "Sodio_soro",
          "Sodio_soro",
          "Sodio_soro",
          "Sodio_soro",
          "Sodio_soro",
          "Sodio_soro",
          "Sodio_soro",
          "Sodio_soro",
          "Sodio_soro",
          "Sodio_soro",
          "Sodio_soro",
          "Sodio_soro",
          "Sodio_soro",
          "Sodio_soro",
          "Sodio_soro",
          "Sodio_soro",
          "Sodio_soro",
          "Sodio_soro",
          "Sodio_soro",
          "Sodio_soro",
          "Sodio_soro",
          "Sodio_soro",
          "Sodio_soro",
          "Sodio_soro",
          "Sodio_soro",
          "Sodio_soro",
          "Sodio_soro",
          "Sodio_soro",
          "Sodio_soro",
          "Sodio_soro",
          "Sodio_soro",
          "Sodio_soro",
          "Sodio_soro",
          "Sodio_soro",
          "Sodio_soro",
          "Sodio_soro",
          "Sodio_soro",
          "Sodio_soro",
          "Sodio_soro",
          "Sodio_soro",
          "Sodio_soro",
          "Sodio_soro",
          "Sodio_soro",
          "Sodio_soro",
          "Sodio_soro",
          "Sodio_soro",
          "Sodio_soro",
          "Sodio_soro",
          "Sodio_soro",
          "Sodio_soro",
          "Sodio_soro",
          "Sodio_soro",
          "Sodio_soro",
          "Sodio_soro",
          "Sodio_soro",
          "Sodio_soro",
          "Sodio_soro",
          "Sodio_soro",
          "Sodio_soro",
          "Sodio_soro",
          "Sodio_soro",
          "Sodio_soro",
          "Sodio_soro",
          "Sodio_soro",
          "Sodio_soro",
          "Sodio_soro",
          "Sodio_soro",
          "Sodio_soro",
          "Sodio_soro",
          "Sodio_soro",
          "Sodio_soro",
          "Sodio_soro",
          "Sodio_soro",
          "Sodio_soro",
          "Sodio_soro",
          "Sodio_soro",
          "Sodio_soro",
          "Sodio_soro",
          "Sodio_soro",
          "Sodio_soro",
          "Sodio_soro",
          "Sodio_soro",
          "Sodio_soro",
          "Sodio_soro",
          "Sodio_soro",
          "Sodio_soro",
          "Sodio_soro",
          "Sodio_soro",
          "Sodio_soro",
          "Sodio_soro",
          "Sodio_soro",
          "Sodio_soro",
          "Sodio_soro",
          "Sodio_soro",
          "Sodio_soro",
          "Sodio_soro",
          "Sodio_soro",
          "Sodio_soro",
          "Sodio_soro",
          "Sodio_soro",
          "Sodio_soro",
          "Sodio_soro",
          "Sodio_soro",
          "Sodio_soro",
          "Sodio_soro",
          "Sodio_soro",
          "Sodio_soro",
          "Sodio_soro",
          "Sodio_soro",
          "Sodio_soro",
          "Sodio_soro",
          "Sodio_soro",
          "Sodio_soro",
          "Sodio_soro",
          "Sodio_soro",
          "Sodio_soro",
          "Sodio_soro",
          "Sodio_soro",
          "Sodio_soro",
          "Sodio_soro",
          "Sodio_soro",
          "Sodio_soro",
          "Sodio_soro",
          "Sodio_soro",
          "Sodio_soro",
          "Sodio_soro",
          "Sodio_soro",
          "Sodio_soro",
          "Sodio_soro",
          "Sodio_soro",
          "Sodio_soro",
          "Sodio_soro",
          "Sodio_soro",
          "Sodio_soro",
          "Sodio_soro",
          "Sodio_soro",
          "Sodio_soro",
          "Sodio_soro",
          "Sodio_soro",
          "Sodio_soro",
          "Sodio_soro"
         ],
         "yaxis": "y2"
        }
       ],
       "layout": {
        "barmode": "overlay",
        "hovermode": "closest",
        "legend": {
         "traceorder": "reversed"
        },
        "template": {
         "data": {
          "bar": [
           {
            "error_x": {
             "color": "#2a3f5f"
            },
            "error_y": {
             "color": "#2a3f5f"
            },
            "marker": {
             "line": {
              "color": "#E5ECF6",
              "width": 0.5
             },
             "pattern": {
              "fillmode": "overlay",
              "size": 10,
              "solidity": 0.2
             }
            },
            "type": "bar"
           }
          ],
          "barpolar": [
           {
            "marker": {
             "line": {
              "color": "#E5ECF6",
              "width": 0.5
             },
             "pattern": {
              "fillmode": "overlay",
              "size": 10,
              "solidity": 0.2
             }
            },
            "type": "barpolar"
           }
          ],
          "carpet": [
           {
            "aaxis": {
             "endlinecolor": "#2a3f5f",
             "gridcolor": "white",
             "linecolor": "white",
             "minorgridcolor": "white",
             "startlinecolor": "#2a3f5f"
            },
            "baxis": {
             "endlinecolor": "#2a3f5f",
             "gridcolor": "white",
             "linecolor": "white",
             "minorgridcolor": "white",
             "startlinecolor": "#2a3f5f"
            },
            "type": "carpet"
           }
          ],
          "choropleth": [
           {
            "colorbar": {
             "outlinewidth": 0,
             "ticks": ""
            },
            "type": "choropleth"
           }
          ],
          "contour": [
           {
            "colorbar": {
             "outlinewidth": 0,
             "ticks": ""
            },
            "colorscale": [
             [
              0,
              "#0d0887"
             ],
             [
              0.1111111111111111,
              "#46039f"
             ],
             [
              0.2222222222222222,
              "#7201a8"
             ],
             [
              0.3333333333333333,
              "#9c179e"
             ],
             [
              0.4444444444444444,
              "#bd3786"
             ],
             [
              0.5555555555555556,
              "#d8576b"
             ],
             [
              0.6666666666666666,
              "#ed7953"
             ],
             [
              0.7777777777777778,
              "#fb9f3a"
             ],
             [
              0.8888888888888888,
              "#fdca26"
             ],
             [
              1,
              "#f0f921"
             ]
            ],
            "type": "contour"
           }
          ],
          "contourcarpet": [
           {
            "colorbar": {
             "outlinewidth": 0,
             "ticks": ""
            },
            "type": "contourcarpet"
           }
          ],
          "heatmap": [
           {
            "colorbar": {
             "outlinewidth": 0,
             "ticks": ""
            },
            "colorscale": [
             [
              0,
              "#0d0887"
             ],
             [
              0.1111111111111111,
              "#46039f"
             ],
             [
              0.2222222222222222,
              "#7201a8"
             ],
             [
              0.3333333333333333,
              "#9c179e"
             ],
             [
              0.4444444444444444,
              "#bd3786"
             ],
             [
              0.5555555555555556,
              "#d8576b"
             ],
             [
              0.6666666666666666,
              "#ed7953"
             ],
             [
              0.7777777777777778,
              "#fb9f3a"
             ],
             [
              0.8888888888888888,
              "#fdca26"
             ],
             [
              1,
              "#f0f921"
             ]
            ],
            "type": "heatmap"
           }
          ],
          "heatmapgl": [
           {
            "colorbar": {
             "outlinewidth": 0,
             "ticks": ""
            },
            "colorscale": [
             [
              0,
              "#0d0887"
             ],
             [
              0.1111111111111111,
              "#46039f"
             ],
             [
              0.2222222222222222,
              "#7201a8"
             ],
             [
              0.3333333333333333,
              "#9c179e"
             ],
             [
              0.4444444444444444,
              "#bd3786"
             ],
             [
              0.5555555555555556,
              "#d8576b"
             ],
             [
              0.6666666666666666,
              "#ed7953"
             ],
             [
              0.7777777777777778,
              "#fb9f3a"
             ],
             [
              0.8888888888888888,
              "#fdca26"
             ],
             [
              1,
              "#f0f921"
             ]
            ],
            "type": "heatmapgl"
           }
          ],
          "histogram": [
           {
            "marker": {
             "pattern": {
              "fillmode": "overlay",
              "size": 10,
              "solidity": 0.2
             }
            },
            "type": "histogram"
           }
          ],
          "histogram2d": [
           {
            "colorbar": {
             "outlinewidth": 0,
             "ticks": ""
            },
            "colorscale": [
             [
              0,
              "#0d0887"
             ],
             [
              0.1111111111111111,
              "#46039f"
             ],
             [
              0.2222222222222222,
              "#7201a8"
             ],
             [
              0.3333333333333333,
              "#9c179e"
             ],
             [
              0.4444444444444444,
              "#bd3786"
             ],
             [
              0.5555555555555556,
              "#d8576b"
             ],
             [
              0.6666666666666666,
              "#ed7953"
             ],
             [
              0.7777777777777778,
              "#fb9f3a"
             ],
             [
              0.8888888888888888,
              "#fdca26"
             ],
             [
              1,
              "#f0f921"
             ]
            ],
            "type": "histogram2d"
           }
          ],
          "histogram2dcontour": [
           {
            "colorbar": {
             "outlinewidth": 0,
             "ticks": ""
            },
            "colorscale": [
             [
              0,
              "#0d0887"
             ],
             [
              0.1111111111111111,
              "#46039f"
             ],
             [
              0.2222222222222222,
              "#7201a8"
             ],
             [
              0.3333333333333333,
              "#9c179e"
             ],
             [
              0.4444444444444444,
              "#bd3786"
             ],
             [
              0.5555555555555556,
              "#d8576b"
             ],
             [
              0.6666666666666666,
              "#ed7953"
             ],
             [
              0.7777777777777778,
              "#fb9f3a"
             ],
             [
              0.8888888888888888,
              "#fdca26"
             ],
             [
              1,
              "#f0f921"
             ]
            ],
            "type": "histogram2dcontour"
           }
          ],
          "mesh3d": [
           {
            "colorbar": {
             "outlinewidth": 0,
             "ticks": ""
            },
            "type": "mesh3d"
           }
          ],
          "parcoords": [
           {
            "line": {
             "colorbar": {
              "outlinewidth": 0,
              "ticks": ""
             }
            },
            "type": "parcoords"
           }
          ],
          "pie": [
           {
            "automargin": true,
            "type": "pie"
           }
          ],
          "scatter": [
           {
            "marker": {
             "colorbar": {
              "outlinewidth": 0,
              "ticks": ""
             }
            },
            "type": "scatter"
           }
          ],
          "scatter3d": [
           {
            "line": {
             "colorbar": {
              "outlinewidth": 0,
              "ticks": ""
             }
            },
            "marker": {
             "colorbar": {
              "outlinewidth": 0,
              "ticks": ""
             }
            },
            "type": "scatter3d"
           }
          ],
          "scattercarpet": [
           {
            "marker": {
             "colorbar": {
              "outlinewidth": 0,
              "ticks": ""
             }
            },
            "type": "scattercarpet"
           }
          ],
          "scattergeo": [
           {
            "marker": {
             "colorbar": {
              "outlinewidth": 0,
              "ticks": ""
             }
            },
            "type": "scattergeo"
           }
          ],
          "scattergl": [
           {
            "marker": {
             "colorbar": {
              "outlinewidth": 0,
              "ticks": ""
             }
            },
            "type": "scattergl"
           }
          ],
          "scattermapbox": [
           {
            "marker": {
             "colorbar": {
              "outlinewidth": 0,
              "ticks": ""
             }
            },
            "type": "scattermapbox"
           }
          ],
          "scatterpolar": [
           {
            "marker": {
             "colorbar": {
              "outlinewidth": 0,
              "ticks": ""
             }
            },
            "type": "scatterpolar"
           }
          ],
          "scatterpolargl": [
           {
            "marker": {
             "colorbar": {
              "outlinewidth": 0,
              "ticks": ""
             }
            },
            "type": "scatterpolargl"
           }
          ],
          "scatterternary": [
           {
            "marker": {
             "colorbar": {
              "outlinewidth": 0,
              "ticks": ""
             }
            },
            "type": "scatterternary"
           }
          ],
          "surface": [
           {
            "colorbar": {
             "outlinewidth": 0,
             "ticks": ""
            },
            "colorscale": [
             [
              0,
              "#0d0887"
             ],
             [
              0.1111111111111111,
              "#46039f"
             ],
             [
              0.2222222222222222,
              "#7201a8"
             ],
             [
              0.3333333333333333,
              "#9c179e"
             ],
             [
              0.4444444444444444,
              "#bd3786"
             ],
             [
              0.5555555555555556,
              "#d8576b"
             ],
             [
              0.6666666666666666,
              "#ed7953"
             ],
             [
              0.7777777777777778,
              "#fb9f3a"
             ],
             [
              0.8888888888888888,
              "#fdca26"
             ],
             [
              1,
              "#f0f921"
             ]
            ],
            "type": "surface"
           }
          ],
          "table": [
           {
            "cells": {
             "fill": {
              "color": "#EBF0F8"
             },
             "line": {
              "color": "white"
             }
            },
            "header": {
             "fill": {
              "color": "#C8D4E3"
             },
             "line": {
              "color": "white"
             }
            },
            "type": "table"
           }
          ]
         },
         "layout": {
          "annotationdefaults": {
           "arrowcolor": "#2a3f5f",
           "arrowhead": 0,
           "arrowwidth": 1
          },
          "autotypenumbers": "strict",
          "coloraxis": {
           "colorbar": {
            "outlinewidth": 0,
            "ticks": ""
           }
          },
          "colorscale": {
           "diverging": [
            [
             0,
             "#8e0152"
            ],
            [
             0.1,
             "#c51b7d"
            ],
            [
             0.2,
             "#de77ae"
            ],
            [
             0.3,
             "#f1b6da"
            ],
            [
             0.4,
             "#fde0ef"
            ],
            [
             0.5,
             "#f7f7f7"
            ],
            [
             0.6,
             "#e6f5d0"
            ],
            [
             0.7,
             "#b8e186"
            ],
            [
             0.8,
             "#7fbc41"
            ],
            [
             0.9,
             "#4d9221"
            ],
            [
             1,
             "#276419"
            ]
           ],
           "sequential": [
            [
             0,
             "#0d0887"
            ],
            [
             0.1111111111111111,
             "#46039f"
            ],
            [
             0.2222222222222222,
             "#7201a8"
            ],
            [
             0.3333333333333333,
             "#9c179e"
            ],
            [
             0.4444444444444444,
             "#bd3786"
            ],
            [
             0.5555555555555556,
             "#d8576b"
            ],
            [
             0.6666666666666666,
             "#ed7953"
            ],
            [
             0.7777777777777778,
             "#fb9f3a"
            ],
            [
             0.8888888888888888,
             "#fdca26"
            ],
            [
             1,
             "#f0f921"
            ]
           ],
           "sequentialminus": [
            [
             0,
             "#0d0887"
            ],
            [
             0.1111111111111111,
             "#46039f"
            ],
            [
             0.2222222222222222,
             "#7201a8"
            ],
            [
             0.3333333333333333,
             "#9c179e"
            ],
            [
             0.4444444444444444,
             "#bd3786"
            ],
            [
             0.5555555555555556,
             "#d8576b"
            ],
            [
             0.6666666666666666,
             "#ed7953"
            ],
            [
             0.7777777777777778,
             "#fb9f3a"
            ],
            [
             0.8888888888888888,
             "#fdca26"
            ],
            [
             1,
             "#f0f921"
            ]
           ]
          },
          "colorway": [
           "#636efa",
           "#EF553B",
           "#00cc96",
           "#ab63fa",
           "#FFA15A",
           "#19d3f3",
           "#FF6692",
           "#B6E880",
           "#FF97FF",
           "#FECB52"
          ],
          "font": {
           "color": "#2a3f5f"
          },
          "geo": {
           "bgcolor": "white",
           "lakecolor": "white",
           "landcolor": "#E5ECF6",
           "showlakes": true,
           "showland": true,
           "subunitcolor": "white"
          },
          "hoverlabel": {
           "align": "left"
          },
          "hovermode": "closest",
          "mapbox": {
           "style": "light"
          },
          "paper_bgcolor": "white",
          "plot_bgcolor": "#E5ECF6",
          "polar": {
           "angularaxis": {
            "gridcolor": "white",
            "linecolor": "white",
            "ticks": ""
           },
           "bgcolor": "#E5ECF6",
           "radialaxis": {
            "gridcolor": "white",
            "linecolor": "white",
            "ticks": ""
           }
          },
          "scene": {
           "xaxis": {
            "backgroundcolor": "#E5ECF6",
            "gridcolor": "white",
            "gridwidth": 2,
            "linecolor": "white",
            "showbackground": true,
            "ticks": "",
            "zerolinecolor": "white"
           },
           "yaxis": {
            "backgroundcolor": "#E5ECF6",
            "gridcolor": "white",
            "gridwidth": 2,
            "linecolor": "white",
            "showbackground": true,
            "ticks": "",
            "zerolinecolor": "white"
           },
           "zaxis": {
            "backgroundcolor": "#E5ECF6",
            "gridcolor": "white",
            "gridwidth": 2,
            "linecolor": "white",
            "showbackground": true,
            "ticks": "",
            "zerolinecolor": "white"
           }
          },
          "shapedefaults": {
           "line": {
            "color": "#2a3f5f"
           }
          },
          "ternary": {
           "aaxis": {
            "gridcolor": "white",
            "linecolor": "white",
            "ticks": ""
           },
           "baxis": {
            "gridcolor": "white",
            "linecolor": "white",
            "ticks": ""
           },
           "bgcolor": "#E5ECF6",
           "caxis": {
            "gridcolor": "white",
            "linecolor": "white",
            "ticks": ""
           }
          },
          "title": {
           "x": 0.05
          },
          "xaxis": {
           "automargin": true,
           "gridcolor": "white",
           "linecolor": "white",
           "ticks": "",
           "title": {
            "standoff": 15
           },
           "zerolinecolor": "white",
           "zerolinewidth": 2
          },
          "yaxis": {
           "automargin": true,
           "gridcolor": "white",
           "linecolor": "white",
           "ticks": "",
           "title": {
            "standoff": 15
           },
           "zerolinecolor": "white",
           "zerolinewidth": 2
          }
         }
        },
        "xaxis": {
         "anchor": "y2",
         "domain": [
          0,
          1
         ],
         "zeroline": false
        },
        "yaxis": {
         "anchor": "free",
         "domain": [
          0.35,
          1
         ],
         "position": 0
        },
        "yaxis2": {
         "anchor": "x",
         "domain": [
          0,
          0.25
         ],
         "dtick": 1,
         "showticklabels": false
        }
       }
      }
     },
     "metadata": {},
     "output_type": "display_data"
    }
   ],
   "source": [
    "fig = ff.create_distplot([df.Sodio_soro],['Sodio_soro'],bin_size=1)\n",
    "iplot(fig, filename='Basic Distplot')"
   ]
  },
  {
   "cell_type": "markdown",
   "metadata": {
    "cell_id": "11827158-3a64-4f8b-aa5e-aa8c1d16a1d7",
    "deepnote_cell_type": "markdown",
    "tags": []
   },
   "source": [
    "A análise dos histogramas acima permite algumas conclusões a respeito do _dataset_:\n",
    "\n",
    "* Idade: o resultado morte é mais comum que o resultado não-morte para pessoas acima de 80 anos; além disso, há uma grande concentração de entradas referentes à população entre 50 e 70 anos.\n",
    "* Fracao_ejecao: quando a capacidade de expulsar sangue do coração, medida em %, está inferior a aproximadamente 25%, a chance de morte é superior à de sobrevivência.\n",
    "* Creatinina_soro: quanto menor o índice aferido, maior a chance de sobreviver que a de morrer. Não à toa, o valor de referência da variável é de 0,5 a 1,2 mg/dL.\n",
    "* Tempo: quanto menor o tempo de acompanhamento, maior a chance do resultado morte."
   ]
  },
  {
   "cell_type": "markdown",
   "metadata": {
    "cell_id": "7b8a0876-6b2b-48af-a270-29f28bc5a351",
    "deepnote_cell_type": "markdown",
    "id": "9b62abd4",
    "tags": []
   },
   "source": [
    "### **5.2 Análise de risco de morte**"
   ]
  },
  {
   "cell_type": "markdown",
   "metadata": {
    "cell_id": "00056-6b7c17f9-97d1-410c-9e44-129b78a14169",
    "deepnote_cell_type": "markdown",
    "id": "e2db633e"
   },
   "source": [
    "A matriz abaixo é um excelente recurso visual que  permite identificar a correlação entre todas as variáveis monitoradas na base de dados:"
   ]
  },
  {
   "cell_type": "code",
   "execution_count": 22,
   "metadata": {
    "cell_id": "3453c8b0-3f44-4840-980a-02e0ab1eeeea",
    "colab": {
     "base_uri": "https://localhost:8080/",
     "height": 583
    },
    "deepnote_cell_type": "code",
    "deepnote_output_heights": [
     351
    ],
    "deepnote_to_be_reexecuted": false,
    "execution_millis": 1810,
    "execution_start": 1645480469128,
    "id": "a77b26e2",
    "outputId": "96c036b3-4571-4577-ce18-769e68a65359",
    "source_hash": "34cde679",
    "tags": []
   },
   "outputs": [
    {
     "data": {
      "image/png": "[encoded data removed]",
      "text/plain": [
       "<Figure size 720x576 with 2 Axes>"
      ]
     },
     "metadata": {
      "needs_background": "light"
     },
     "output_type": "display_data"
    }
   ],
   "source": [
    "# plot da matriz de correlação\n",
    "\n",
    "correlation = df.corr()\n",
    "plt.figure(figsize = (10,8))\n",
    "plot = sns.heatmap(correlation, annot = True, fmt=\".2f\", linewidths=.6, cmap=\"coolwarm\");"
   ]
  },
  {
   "cell_type": "markdown",
   "metadata": {
    "cell_id": "3e29f11a-8c71-44a2-81af-62c1c1b4aa72",
    "deepnote_cell_type": "markdown",
    "tags": []
   },
   "source": [
    "Confirmando as informações já obtidas, o gráfico de correlação aponta os seguintes fatores como os quatro que tem maior correlação com o evento \"Morte\":\n",
    "1. Tempo = -0.53\n",
    "2. Fracao_ejecao = -0.27\n",
    "3. Creatinina_soro = 0.29\n",
    "4. Idade = 0.25"
   ]
  },
  {
   "cell_type": "markdown",
   "metadata": {
    "cell_id": "00059-d893d2f4-1a92-4d86-9ddb-ec241e0da73a",
    "deepnote_cell_type": "markdown",
    "id": "30539826"
   },
   "source": [
    "**1. Tempo vs. Morte**"
   ]
  },
  {
   "cell_type": "code",
   "execution_count": 23,
   "metadata": {
    "cell_id": "00060-5efd3e2e-38e4-4da9-b30b-1bcfc21ab232",
    "deepnote_cell_type": "code",
    "deepnote_to_be_reexecuted": false,
    "execution_millis": 535,
    "execution_start": 1645480471091,
    "id": "18f20f57",
    "source_hash": "a1029d7a"
   },
   "outputs": [
    {
     "data": {
      "image/png": "[encoded data removed]",
      "text/plain": [
       "<Figure size 864x432 with 1 Axes>"
      ]
     },
     "metadata": {
      "needs_background": "light"
     },
     "output_type": "display_data"
    }
   ],
   "source": [
    "plt.figure(figsize=(12,6))\n",
    "sns.histplot(df[df['Morte']==0]['Tempo'], kde=False, bins=50, color='b', label = 'Sobreviventes')\n",
    "sns.histplot(df[df['Morte']==1]['Tempo'], kde=False, bins=50, color='r', label = 'Mortos')\n",
    "plt.xlabel('Período de acompanhamento (Dias)', fontsize=12)\n",
    "plt.ylabel('Contagem', fontsize=12)\n",
    "plt.title('Distribuição de Período de Acompanhamento de Pacientes', fontsize=18)\n",
    "plt.legend()\n",
    "plt.show()"
   ]
  },
  {
   "cell_type": "markdown",
   "metadata": {
    "cell_id": "00061-99d4b0b0-0475-4535-882d-78050bc202f2",
    "deepnote_cell_type": "markdown",
    "id": "465fbb25"
   },
   "source": [
    "Vê-se que o risco é muito superior quando o período de acompanhamento do paciente é igual ou inferior a 115 dias:"
   ]
  },
  {
   "cell_type": "code",
   "execution_count": 24,
   "metadata": {
    "cell_id": "00062-2b9299f4-28c9-4153-ae38-79a6e26cd2e4",
    "colab": {
     "base_uri": "https://localhost:8080/"
    },
    "deepnote_cell_type": "code",
    "deepnote_to_be_reexecuted": false,
    "execution_millis": 2,
    "execution_start": 1645480860328,
    "id": "b6a8d3a6",
    "outputId": "c4b02542-5214-44ce-c3bf-0239ad98cb69",
    "source_hash": "dcbb9a1a"
   },
   "outputs": [
    {
     "name": "stdout",
     "output_type": "stream",
     "text": [
      "Risco de Morte com acompanhamento médico menor ou igual a 115 dias: 50.33%\n",
      "Risco de Morte com acompanhamento médico maior que 115 dias: 13.51%\n"
     ]
    }
   ],
   "source": [
    "print(f\"Risco de Morte com acompanhamento médico menor ou igual a 115 dias: {df[df['Tempo'] <= 115].Morte.mean() * 100:.2f}%\")\n",
    "print(f\"Risco de Morte com acompanhamento médico maior que 115 dias: {df[df['Tempo'] > 115].Morte.mean() * 100:.2f}%\")"
   ]
  },
  {
   "cell_type": "markdown",
   "metadata": {
    "cell_id": "00063-d24f3540-bd89-4a48-81a6-6272a11e0e66",
    "deepnote_cell_type": "markdown",
    "id": "b717727b"
   },
   "source": [
    "**2. Fracao_ejecao vs. Morte**"
   ]
  },
  {
   "cell_type": "code",
   "execution_count": 25,
   "metadata": {
    "cell_id": "00064-6bda0608-4195-4e3b-acb9-524bd7f3aea9",
    "colab": {
     "base_uri": "https://localhost:8080/",
     "height": 411
    },
    "deepnote_cell_type": "code",
    "deepnote_to_be_reexecuted": false,
    "execution_millis": 860,
    "execution_start": 1645480471644,
    "id": "896a3ba4",
    "outputId": "f85a58ee-1a23-453e-e8eb-b4d49c968345",
    "source_hash": "2bcf1756"
   },
   "outputs": [
    {
     "data": {
      "image/png": "[encoded data removed]",
      "text/plain": [
       "<Figure size 864x432 with 1 Axes>"
      ]
     },
     "metadata": {
      "needs_background": "light"
     },
     "output_type": "display_data"
    }
   ],
   "source": [
    "plt.figure(figsize=(12,6))\n",
    "sns.histplot(df[df['Morte']==0]['Fracao_ejecao'], kde=False, bins=50, color='b', label = 'Sobreviventes')\n",
    "sns.histplot(df[df['Morte']==1]['Fracao_ejecao'], kde=False, bins=50, color='r', label = 'Mortos')\n",
    "plt.xlabel('Capacidade de ejeção do sangue em %', fontsize=12)\n",
    "plt.ylabel('Contagem', fontsize=12)\n",
    "plt.title('Distribuição de Capacidade de Ejeção', fontsize=18)\n",
    "plt.legend()\n",
    "plt.show()"
   ]
  },
  {
   "cell_type": "markdown",
   "metadata": {
    "cell_id": "00065-d6725b6a-412a-406e-b2ad-576383a157f0",
    "deepnote_cell_type": "markdown",
    "id": "fad9a7fd"
   },
   "source": [
    "**3. Creatinina_soro vs. Morte**"
   ]
  },
  {
   "cell_type": "code",
   "execution_count": 26,
   "metadata": {
    "cell_id": "00066-aff64bdc-9c78-4e39-955d-ccc4b8aa0bb7",
    "colab": {
     "base_uri": "https://localhost:8080/",
     "height": 411
    },
    "deepnote_cell_type": "code",
    "deepnote_to_be_reexecuted": false,
    "execution_millis": 685,
    "execution_start": 1645480472339,
    "id": "dbc3b9bd",
    "outputId": "1b7f4b35-b807-49ff-ff0f-973785024b07",
    "source_hash": "7d02ec63"
   },
   "outputs": [
    {
     "data": {
      "image/png": "[encoded data removed]",
      "text/plain": [
       "<Figure size 864x432 with 1 Axes>"
      ]
     },
     "metadata": {
      "needs_background": "light"
     },
     "output_type": "display_data"
    }
   ],
   "source": [
    "plt.figure(figsize=(12,6))\n",
    "sns.histplot(df[df['Morte']==0]['Creatinina_soro'], kde=False, bins=50, color='b', label = 'Sobreviventes')\n",
    "sns.histplot(df[df['Morte']==1]['Creatinina_soro'], kde=False, bins=50, color='r', label = 'Mortos')\n",
    "plt.xlabel('Quantidade de Creatinina (mg/dL)', fontsize=12)\n",
    "plt.ylabel('Contagem', fontsize=12)\n",
    "plt.title('Distribuição de Quantidade de Creatinina', fontsize=18)\n",
    "plt.legend()\n",
    "plt.show()"
   ]
  },
  {
   "cell_type": "markdown",
   "metadata": {
    "cell_id": "4504104e-6071-4650-b110-7df1d330f271",
    "deepnote_cell_type": "markdown",
    "tags": []
   },
   "source": [
    "**4. Idade vs. Morte**"
   ]
  },
  {
   "cell_type": "code",
   "execution_count": 27,
   "metadata": {
    "cell_id": "852ff9c1-ec66-4de3-8690-b8bab447d282",
    "deepnote_cell_type": "code",
    "deepnote_to_be_reexecuted": false,
    "execution_millis": 692,
    "execution_start": 1645480473032,
    "source_hash": "abdb88cb",
    "tags": []
   },
   "outputs": [
    {
     "data": {
      "image/png": "[encoded data removed]",
      "text/plain": [
       "<Figure size 864x432 with 1 Axes>"
      ]
     },
     "metadata": {
      "needs_background": "light"
     },
     "output_type": "display_data"
    }
   ],
   "source": [
    "plt.figure(figsize=(12,6))\n",
    "sns.histplot(df[df['Morte']==0]['Idade'], kde=False, bins=50, color='b', label = 'Sobreviventes')\n",
    "sns.histplot(df[df['Morte']==1]['Idade'], kde=False, bins=50, color='r', label = 'Mortos')\n",
    "plt.xlabel('Idade', fontsize=12)\n",
    "plt.ylabel('Contagem', fontsize=12)\n",
    "plt.title('Distribuição de Idade', fontsize=18)\n",
    "plt.legend()\n",
    "plt.show()"
   ]
  },
  {
   "cell_type": "markdown",
   "metadata": {
    "cell_id": "eb3a097e-aa2d-4b8b-b90e-8b6f8620f69b",
    "deepnote_cell_type": "markdown",
    "tags": []
   },
   "source": [
    "## 6. Insights e Conclusões"
   ]
  },
  {
   "cell_type": "markdown",
   "metadata": {
    "cell_id": "b712ff8b-4c14-4fba-8815-2616c9603d80",
    "deepnote_cell_type": "markdown",
    "tags": []
   },
   "source": [
    "<img src = \"/work/img/cardiac-arrest-gdaebf3b52_1920.jpg\">"
   ]
  },
  {
   "cell_type": "markdown",
   "metadata": {
    "cell_id": "6f922dfd-df5c-4e87-8dbc-6a013e1e30d2",
    "deepnote_cell_type": "markdown",
    "tags": []
   },
   "source": [
    "A partir dos dados obtidos e das análises realizadas, conseguimos extrair os seguintes insights e conclusões, já abordados acima:\n",
    "\n",
    "* **Distribuição de Variáveis**: das 13 variáveis apresentadas, 7 são contínuas e 6 são categóricas, uma das quais é o alvo da análise, qual seja, a variável \"Morte\".\n",
    "\n",
    "* **Tendência ao resultado \"Morte\"**: das 299 entradas, cerca de 68% dos casos resultam em morte, o que corresponde ao dobro do resultado não-morte. Isso desbalanceia o _dataset_ e pode enviesar um modelo baseado nele.\n",
    "\n",
    "* **Correlação entre variáveis e resultado \"Morte\"**: das 13 variáveis, apenas Anemia e Diabetes, dentre as categóricas, tem proporção balanceada e não enviesam um possível modelo preditivo. Em relação ao resultado, somente 4 variáveis contínuas apresentam correlação igual ou superior a +- 0.25: Tempo, Idade, Fracao_ejecao e Creatinina_soro."
   ]
  },
  {
   "cell_type": "markdown",
   "metadata": {
    "created_in_deepnote_cell": true,
    "deepnote_cell_type": "markdown",
    "tags": []
   },
   "source": [
    "<a style='text-decoration:none;line-height:16px;display:flex;color:#5B5B62;padding:10px;justify-content:end;' href='https://deepnote.com?utm_source=created-in-deepnote-cell&projectId=fc9333e2-da7c-4029-8b49-7e93b16fb8b3' target=\"_blank\">\n",
    "<img alt='Created in deepnote.com' style='display:inline;max-height:16px;margin:0px;margin-right:7.5px;' src='data:image/svg+xml;base64,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' > </img>\n",
    "Created in <span style='font-weight:600;margin-left:4px;'>Deepnote</span></a>"
   ]
  }
 ],
 "metadata": {
  "colab": {
   "collapsed_sections": [],
   "name": "analise_heart_failure-grupo_4 (2).ipynb",
   "provenance": []
  },
  "deepnote": {
   "is_reactive": false
  },
  "deepnote_execution_queue": [],
  "deepnote_notebook_id": "da3a204e-bbc5-4a13-8558-d8259e647fd7",
  "kernelspec": {
   "display_name": "Python 3",
   "language": "python",
   "name": "python3"
  },
  "language_info": {
   "codemirror_mode": {
    "name": "ipython",
    "version": 3
   },
   "file_extension": ".py",
   "mimetype": "text/x-python",
   "name": "python",
   "nbconvert_exporter": "python",
   "pygments_lexer": "ipython3",
   "version": "3.8.8"
  }
 },
 "nbformat": 4,
 "nbformat_minor": 5
}
